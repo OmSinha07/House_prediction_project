{
 "cells": [
  {
   "cell_type": "markdown",
   "id": "4e53d879",
   "metadata": {},
   "source": [
    "What is Machine Learning ? \n",
    "\n",
    "Types of Machine Learning Models ? "
   ]
  },
  {
   "cell_type": "code",
   "execution_count": null,
   "id": "00195b21",
   "metadata": {},
   "outputs": [],
   "source": []
  }
 ],
 "metadata": {
  "kernelspec": {
   "display_name": "Python 3 (ipykernel)",
   "language": "python",
   "name": "python3"
  },
  "language_info": {
   "codemirror_mode": {
    "name": "ipython",
    "version": 3
   },
   "file_extension": ".py",
   "mimetype": "text/x-python",
   "name": "python",
   "nbconvert_exporter": "python",
   "pygments_lexer": "ipython3",
   "version": "3.11.7"
  }
 },
 "nbformat": 4,
 "nbformat_minor": 5
}
