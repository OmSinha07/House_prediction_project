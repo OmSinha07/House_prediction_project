{
 "cells": [
  {
   "cell_type": "markdown",
   "id": "a41765ea-5d88-45c8-8681-80faeec1887b",
   "metadata": {},
   "source": [
    "# Cross Validation"
   ]
  },
  {
   "cell_type": "markdown",
   "id": "28dbacfd-cd2e-4d16-a445-19b0e1e6f52b",
   "metadata": {},
   "source": [
    "# End to End Machine Learning Project\n",
    "\n",
    "    Steps to build any ML model\n",
    "\n",
    "    1. Understanding the Problem / Look at the big Picture\n",
    "    2. Get the Data\n",
    "    3. Exploratory Data Analysis to Gain Insights from data\n",
    "    4. Prepare Data for Machine Learning Algorithms \n",
    "    5. Select a Model and Train it\n",
    "    6. Fine Tune your model\n",
    "    7. Present your Solution\n",
    "    8. Launch, Monitor, and Maintain your system"
   ]
  },
  {
   "cell_type": "code",
   "execution_count": 2,
   "id": "03adbfe1-bda7-4dae-99b4-58e34ba07dc6",
   "metadata": {},
   "outputs": [],
   "source": [
    "# EDA \n",
    "import numpy as np\n",
    "import pandas as pd\n",
    "import matplotlib.pyplot as plt\n",
    "import seaborn as sns\n",
    "\n",
    "# Working Directories, Files, and downloading data from URL\n",
    "from pathlib import Path\n",
    "from urllib import request\n",
    "import os\n",
    "import tarfile\n",
    "\n",
    "# Data Sampling\n",
    "from sklearn.model_selection import train_test_split\n",
    "# Data Pipelines Transformation\n",
    "from sklearn.impute import SimpleImputer \n",
    "from sklearn.preprocessing import StandardScaler, OneHotEncoder, FunctionTransformer\n",
    "from sklearn.pipeline import make_pipeline, Pipeline\n",
    "from sklearn.compose import ColumnTransformer, make_column_transformer\n",
    "# ML Models\n",
    "from sklearn.linear_model import LinearRegression # ML model\n",
    "from sklearn.svm import SVR # support vector machines (Support Vector Regressor)\n",
    "from sklearn.tree import DecisionTreeRegressor \n",
    "from sklearn.ensemble import RandomForestRegressor\n",
    "# Model Evaluations\n",
    "from sklearn.metrics import mean_squared_error, r2_score\n",
    "from sklearn.model_selection import cross_val_score\n",
    "# Hyper Parameter Tunning\n",
    "from sklearn.model_selection import GridSearchCV, RandomizedSearchCV\n"
   ]
  },
  {
   "cell_type": "code",
   "execution_count": 4,
   "id": "c2519669-db75-4ffe-b146-aa2bc8db04ca",
   "metadata": {},
   "outputs": [
    {
     "data": {
      "text/html": [
       "<div>\n",
       "<style scoped>\n",
       "    .dataframe tbody tr th:only-of-type {\n",
       "        vertical-align: middle;\n",
       "    }\n",
       "\n",
       "    .dataframe tbody tr th {\n",
       "        vertical-align: top;\n",
       "    }\n",
       "\n",
       "    .dataframe thead th {\n",
       "        text-align: right;\n",
       "    }\n",
       "</style>\n",
       "<table border=\"1\" class=\"dataframe\">\n",
       "  <thead>\n",
       "    <tr style=\"text-align: right;\">\n",
       "      <th></th>\n",
       "      <th>longitude</th>\n",
       "      <th>latitude</th>\n",
       "      <th>housing_median_age</th>\n",
       "      <th>total_rooms</th>\n",
       "      <th>total_bedrooms</th>\n",
       "      <th>population</th>\n",
       "      <th>households</th>\n",
       "      <th>median_income</th>\n",
       "      <th>median_house_value</th>\n",
       "      <th>ocean_proximity</th>\n",
       "    </tr>\n",
       "  </thead>\n",
       "  <tbody>\n",
       "    <tr>\n",
       "      <th>0</th>\n",
       "      <td>-122.23</td>\n",
       "      <td>37.88</td>\n",
       "      <td>41.0</td>\n",
       "      <td>880.0</td>\n",
       "      <td>129.0</td>\n",
       "      <td>322.0</td>\n",
       "      <td>126.0</td>\n",
       "      <td>8.3252</td>\n",
       "      <td>452600.0</td>\n",
       "      <td>NEAR BAY</td>\n",
       "    </tr>\n",
       "    <tr>\n",
       "      <th>1</th>\n",
       "      <td>-122.22</td>\n",
       "      <td>37.86</td>\n",
       "      <td>21.0</td>\n",
       "      <td>7099.0</td>\n",
       "      <td>1106.0</td>\n",
       "      <td>2401.0</td>\n",
       "      <td>1138.0</td>\n",
       "      <td>8.3014</td>\n",
       "      <td>358500.0</td>\n",
       "      <td>NEAR BAY</td>\n",
       "    </tr>\n",
       "    <tr>\n",
       "      <th>2</th>\n",
       "      <td>-122.24</td>\n",
       "      <td>37.85</td>\n",
       "      <td>52.0</td>\n",
       "      <td>1467.0</td>\n",
       "      <td>190.0</td>\n",
       "      <td>496.0</td>\n",
       "      <td>177.0</td>\n",
       "      <td>7.2574</td>\n",
       "      <td>352100.0</td>\n",
       "      <td>NEAR BAY</td>\n",
       "    </tr>\n",
       "    <tr>\n",
       "      <th>3</th>\n",
       "      <td>-122.25</td>\n",
       "      <td>37.85</td>\n",
       "      <td>52.0</td>\n",
       "      <td>1274.0</td>\n",
       "      <td>235.0</td>\n",
       "      <td>558.0</td>\n",
       "      <td>219.0</td>\n",
       "      <td>5.6431</td>\n",
       "      <td>341300.0</td>\n",
       "      <td>NEAR BAY</td>\n",
       "    </tr>\n",
       "    <tr>\n",
       "      <th>4</th>\n",
       "      <td>-122.25</td>\n",
       "      <td>37.85</td>\n",
       "      <td>52.0</td>\n",
       "      <td>1627.0</td>\n",
       "      <td>280.0</td>\n",
       "      <td>565.0</td>\n",
       "      <td>259.0</td>\n",
       "      <td>3.8462</td>\n",
       "      <td>342200.0</td>\n",
       "      <td>NEAR BAY</td>\n",
       "    </tr>\n",
       "  </tbody>\n",
       "</table>\n",
       "</div>"
      ],
      "text/plain": [
       "   longitude  latitude  housing_median_age  total_rooms  total_bedrooms  \\\n",
       "0    -122.23     37.88                41.0        880.0           129.0   \n",
       "1    -122.22     37.86                21.0       7099.0          1106.0   \n",
       "2    -122.24     37.85                52.0       1467.0           190.0   \n",
       "3    -122.25     37.85                52.0       1274.0           235.0   \n",
       "4    -122.25     37.85                52.0       1627.0           280.0   \n",
       "\n",
       "   population  households  median_income  median_house_value ocean_proximity  \n",
       "0       322.0       126.0         8.3252            452600.0        NEAR BAY  \n",
       "1      2401.0      1138.0         8.3014            358500.0        NEAR BAY  \n",
       "2       496.0       177.0         7.2574            352100.0        NEAR BAY  \n",
       "3       558.0       219.0         5.6431            341300.0        NEAR BAY  \n",
       "4       565.0       259.0         3.8462            342200.0        NEAR BAY  "
      ]
     },
     "execution_count": 4,
     "metadata": {},
     "output_type": "execute_result"
    }
   ],
   "source": [
    "housing = pd.read_csv(\"datasets/housing.csv\")\n",
    "housing.head()"
   ]
  },
  {
   "cell_type": "code",
   "execution_count": 6,
   "id": "cc4e1fa0-e0eb-4ee8-8a25-cefab71f7a9b",
   "metadata": {},
   "outputs": [
    {
     "name": "stdout",
     "output_type": "stream",
     "text": [
      "<class 'pandas.core.frame.DataFrame'>\n",
      "RangeIndex: 20640 entries, 0 to 20639\n",
      "Data columns (total 10 columns):\n",
      " #   Column              Non-Null Count  Dtype  \n",
      "---  ------              --------------  -----  \n",
      " 0   longitude           20640 non-null  float64\n",
      " 1   latitude            20640 non-null  float64\n",
      " 2   housing_median_age  20640 non-null  float64\n",
      " 3   total_rooms         20640 non-null  float64\n",
      " 4   total_bedrooms      20433 non-null  float64\n",
      " 5   population          20640 non-null  float64\n",
      " 6   households          20640 non-null  float64\n",
      " 7   median_income       20640 non-null  float64\n",
      " 8   median_house_value  20640 non-null  float64\n",
      " 9   ocean_proximity     20640 non-null  object \n",
      "dtypes: float64(9), object(1)\n",
      "memory usage: 1.6+ MB\n"
     ]
    }
   ],
   "source": [
    "housing.info()"
   ]
  },
  {
   "cell_type": "code",
   "execution_count": 8,
   "id": "9552d6fb-592e-41d4-a3ed-1c10ba79d689",
   "metadata": {},
   "outputs": [],
   "source": [
    "X = housing.drop('median_house_value', axis=1)\n",
    "y = housing['median_house_value']"
   ]
  },
  {
   "cell_type": "code",
   "execution_count": 10,
   "id": "774591cd-c78b-43e9-92b5-70582cdfee7b",
   "metadata": {},
   "outputs": [
    {
     "data": {
      "text/html": [
       "<div>\n",
       "<style scoped>\n",
       "    .dataframe tbody tr th:only-of-type {\n",
       "        vertical-align: middle;\n",
       "    }\n",
       "\n",
       "    .dataframe tbody tr th {\n",
       "        vertical-align: top;\n",
       "    }\n",
       "\n",
       "    .dataframe thead th {\n",
       "        text-align: right;\n",
       "    }\n",
       "</style>\n",
       "<table border=\"1\" class=\"dataframe\">\n",
       "  <thead>\n",
       "    <tr style=\"text-align: right;\">\n",
       "      <th></th>\n",
       "      <th>longitude</th>\n",
       "      <th>latitude</th>\n",
       "      <th>housing_median_age</th>\n",
       "      <th>total_rooms</th>\n",
       "      <th>total_bedrooms</th>\n",
       "      <th>population</th>\n",
       "      <th>households</th>\n",
       "      <th>median_income</th>\n",
       "      <th>ocean_proximity</th>\n",
       "    </tr>\n",
       "  </thead>\n",
       "  <tbody>\n",
       "    <tr>\n",
       "      <th>0</th>\n",
       "      <td>-122.23</td>\n",
       "      <td>37.88</td>\n",
       "      <td>41.0</td>\n",
       "      <td>880.0</td>\n",
       "      <td>129.0</td>\n",
       "      <td>322.0</td>\n",
       "      <td>126.0</td>\n",
       "      <td>8.3252</td>\n",
       "      <td>NEAR BAY</td>\n",
       "    </tr>\n",
       "    <tr>\n",
       "      <th>1</th>\n",
       "      <td>-122.22</td>\n",
       "      <td>37.86</td>\n",
       "      <td>21.0</td>\n",
       "      <td>7099.0</td>\n",
       "      <td>1106.0</td>\n",
       "      <td>2401.0</td>\n",
       "      <td>1138.0</td>\n",
       "      <td>8.3014</td>\n",
       "      <td>NEAR BAY</td>\n",
       "    </tr>\n",
       "    <tr>\n",
       "      <th>2</th>\n",
       "      <td>-122.24</td>\n",
       "      <td>37.85</td>\n",
       "      <td>52.0</td>\n",
       "      <td>1467.0</td>\n",
       "      <td>190.0</td>\n",
       "      <td>496.0</td>\n",
       "      <td>177.0</td>\n",
       "      <td>7.2574</td>\n",
       "      <td>NEAR BAY</td>\n",
       "    </tr>\n",
       "    <tr>\n",
       "      <th>3</th>\n",
       "      <td>-122.25</td>\n",
       "      <td>37.85</td>\n",
       "      <td>52.0</td>\n",
       "      <td>1274.0</td>\n",
       "      <td>235.0</td>\n",
       "      <td>558.0</td>\n",
       "      <td>219.0</td>\n",
       "      <td>5.6431</td>\n",
       "      <td>NEAR BAY</td>\n",
       "    </tr>\n",
       "    <tr>\n",
       "      <th>4</th>\n",
       "      <td>-122.25</td>\n",
       "      <td>37.85</td>\n",
       "      <td>52.0</td>\n",
       "      <td>1627.0</td>\n",
       "      <td>280.0</td>\n",
       "      <td>565.0</td>\n",
       "      <td>259.0</td>\n",
       "      <td>3.8462</td>\n",
       "      <td>NEAR BAY</td>\n",
       "    </tr>\n",
       "  </tbody>\n",
       "</table>\n",
       "</div>"
      ],
      "text/plain": [
       "   longitude  latitude  housing_median_age  total_rooms  total_bedrooms  \\\n",
       "0    -122.23     37.88                41.0        880.0           129.0   \n",
       "1    -122.22     37.86                21.0       7099.0          1106.0   \n",
       "2    -122.24     37.85                52.0       1467.0           190.0   \n",
       "3    -122.25     37.85                52.0       1274.0           235.0   \n",
       "4    -122.25     37.85                52.0       1627.0           280.0   \n",
       "\n",
       "   population  households  median_income ocean_proximity  \n",
       "0       322.0       126.0         8.3252        NEAR BAY  \n",
       "1      2401.0      1138.0         8.3014        NEAR BAY  \n",
       "2       496.0       177.0         7.2574        NEAR BAY  \n",
       "3       558.0       219.0         5.6431        NEAR BAY  \n",
       "4       565.0       259.0         3.8462        NEAR BAY  "
      ]
     },
     "execution_count": 10,
     "metadata": {},
     "output_type": "execute_result"
    }
   ],
   "source": [
    "X.head()"
   ]
  },
  {
   "cell_type": "code",
   "execution_count": 12,
   "id": "64415ecb-8078-4830-8156-f3be8dc0d2ad",
   "metadata": {},
   "outputs": [
    {
     "data": {
      "text/plain": [
       "0    452600.0\n",
       "1    358500.0\n",
       "2    352100.0\n",
       "3    341300.0\n",
       "4    342200.0\n",
       "Name: median_house_value, dtype: float64"
      ]
     },
     "execution_count": 12,
     "metadata": {},
     "output_type": "execute_result"
    }
   ],
   "source": [
    "y.head()"
   ]
  },
  {
   "cell_type": "code",
   "execution_count": 14,
   "id": "129f1e9f-0c0e-4c0f-9713-12746498c2e3",
   "metadata": {},
   "outputs": [],
   "source": [
    "X_train, X_test, y_train, y_test = train_test_split(X, y,\n",
    "                                                    test_size=0.2, random_state=42\n",
    "                                                   )"
   ]
  },
  {
   "cell_type": "code",
   "execution_count": 16,
   "id": "9c68639a-5cbd-4bc0-b65d-a078291a58e1",
   "metadata": {},
   "outputs": [
    {
     "data": {
      "text/html": [
       "<div>\n",
       "<style scoped>\n",
       "    .dataframe tbody tr th:only-of-type {\n",
       "        vertical-align: middle;\n",
       "    }\n",
       "\n",
       "    .dataframe tbody tr th {\n",
       "        vertical-align: top;\n",
       "    }\n",
       "\n",
       "    .dataframe thead th {\n",
       "        text-align: right;\n",
       "    }\n",
       "</style>\n",
       "<table border=\"1\" class=\"dataframe\">\n",
       "  <thead>\n",
       "    <tr style=\"text-align: right;\">\n",
       "      <th></th>\n",
       "      <th>longitude</th>\n",
       "      <th>latitude</th>\n",
       "      <th>housing_median_age</th>\n",
       "      <th>total_rooms</th>\n",
       "      <th>total_bedrooms</th>\n",
       "      <th>population</th>\n",
       "      <th>households</th>\n",
       "      <th>median_income</th>\n",
       "      <th>ocean_proximity</th>\n",
       "    </tr>\n",
       "  </thead>\n",
       "  <tbody>\n",
       "    <tr>\n",
       "      <th>14196</th>\n",
       "      <td>-117.03</td>\n",
       "      <td>32.71</td>\n",
       "      <td>33.0</td>\n",
       "      <td>3126.0</td>\n",
       "      <td>627.0</td>\n",
       "      <td>2300.0</td>\n",
       "      <td>623.0</td>\n",
       "      <td>3.2596</td>\n",
       "      <td>NEAR OCEAN</td>\n",
       "    </tr>\n",
       "    <tr>\n",
       "      <th>8267</th>\n",
       "      <td>-118.16</td>\n",
       "      <td>33.77</td>\n",
       "      <td>49.0</td>\n",
       "      <td>3382.0</td>\n",
       "      <td>787.0</td>\n",
       "      <td>1314.0</td>\n",
       "      <td>756.0</td>\n",
       "      <td>3.8125</td>\n",
       "      <td>NEAR OCEAN</td>\n",
       "    </tr>\n",
       "    <tr>\n",
       "      <th>17445</th>\n",
       "      <td>-120.48</td>\n",
       "      <td>34.66</td>\n",
       "      <td>4.0</td>\n",
       "      <td>1897.0</td>\n",
       "      <td>331.0</td>\n",
       "      <td>915.0</td>\n",
       "      <td>336.0</td>\n",
       "      <td>4.1563</td>\n",
       "      <td>NEAR OCEAN</td>\n",
       "    </tr>\n",
       "    <tr>\n",
       "      <th>14265</th>\n",
       "      <td>-117.11</td>\n",
       "      <td>32.69</td>\n",
       "      <td>36.0</td>\n",
       "      <td>1421.0</td>\n",
       "      <td>367.0</td>\n",
       "      <td>1418.0</td>\n",
       "      <td>355.0</td>\n",
       "      <td>1.9425</td>\n",
       "      <td>NEAR OCEAN</td>\n",
       "    </tr>\n",
       "    <tr>\n",
       "      <th>2271</th>\n",
       "      <td>-119.80</td>\n",
       "      <td>36.78</td>\n",
       "      <td>43.0</td>\n",
       "      <td>2382.0</td>\n",
       "      <td>431.0</td>\n",
       "      <td>874.0</td>\n",
       "      <td>380.0</td>\n",
       "      <td>3.5542</td>\n",
       "      <td>INLAND</td>\n",
       "    </tr>\n",
       "  </tbody>\n",
       "</table>\n",
       "</div>"
      ],
      "text/plain": [
       "       longitude  latitude  housing_median_age  total_rooms  total_bedrooms  \\\n",
       "14196    -117.03     32.71                33.0       3126.0           627.0   \n",
       "8267     -118.16     33.77                49.0       3382.0           787.0   \n",
       "17445    -120.48     34.66                 4.0       1897.0           331.0   \n",
       "14265    -117.11     32.69                36.0       1421.0           367.0   \n",
       "2271     -119.80     36.78                43.0       2382.0           431.0   \n",
       "\n",
       "       population  households  median_income ocean_proximity  \n",
       "14196      2300.0       623.0         3.2596      NEAR OCEAN  \n",
       "8267       1314.0       756.0         3.8125      NEAR OCEAN  \n",
       "17445       915.0       336.0         4.1563      NEAR OCEAN  \n",
       "14265      1418.0       355.0         1.9425      NEAR OCEAN  \n",
       "2271        874.0       380.0         3.5542          INLAND  "
      ]
     },
     "execution_count": 16,
     "metadata": {},
     "output_type": "execute_result"
    }
   ],
   "source": [
    "X_train.head()"
   ]
  },
  {
   "cell_type": "code",
   "execution_count": 18,
   "id": "3d9c54fd-2abb-407d-a40b-aa15f7470ac9",
   "metadata": {},
   "outputs": [
    {
     "data": {
      "text/plain": [
       "median_income         0.690647\n",
       "latitude             -0.142983\n",
       "total_rooms           0.133989\n",
       "housing_median_age    0.103706\n",
       "households            0.063714\n",
       "total_bedrooms        0.047980\n",
       "longitude            -0.046349\n",
       "population           -0.026032\n",
       "dtype: float64"
      ]
     },
     "execution_count": 18,
     "metadata": {},
     "output_type": "execute_result"
    }
   ],
   "source": [
    "X_train.corrwith(y_train, numeric_only=True).sort_values(ascending=False, key=lambda v:abs(v))"
   ]
  },
  {
   "cell_type": "code",
   "execution_count": null,
   "id": "d7fdf198-5afb-4130-b195-772bc47bfd2d",
   "metadata": {},
   "outputs": [],
   "source": []
  },
  {
   "cell_type": "code",
   "execution_count": 25,
   "id": "02076952-e9ba-4ed4-8f48-25e4d3900f19",
   "metadata": {},
   "outputs": [
    {
     "data": {
      "text/plain": [
       "0.15848486725499641"
      ]
     },
     "execution_count": 25,
     "metadata": {},
     "output_type": "execute_result"
    }
   ],
   "source": [
    "# rooms per household\n",
    "(X_train['total_rooms']/X_train['households']).corr(y_train)"
   ]
  },
  {
   "cell_type": "code",
   "execution_count": 27,
   "id": "ae8a1246-c16c-43cb-bb89-938536a82ee2",
   "metadata": {},
   "outputs": [
    {
     "data": {
      "text/plain": [
       "-0.05135098593689969"
      ]
     },
     "execution_count": 27,
     "metadata": {},
     "output_type": "execute_result"
    }
   ],
   "source": [
    "# bedrooms per household\n",
    "(X_train['total_bedrooms']/X_train['households']).corr(y_train)"
   ]
  },
  {
   "cell_type": "code",
   "execution_count": 29,
   "id": "6cb6fb6f-dc59-4c6c-901d-dcceb87cde08",
   "metadata": {},
   "outputs": [
    {
     "data": {
      "text/plain": [
       "-0.022029958627558462"
      ]
     },
     "execution_count": 29,
     "metadata": {},
     "output_type": "execute_result"
    }
   ],
   "source": [
    "# Population per households\n",
    "# rooms per household\n",
    "(X_train['population']/X_train['households']).corr(y_train)"
   ]
  },
  {
   "cell_type": "code",
   "execution_count": 31,
   "id": "a9aa0055-6217-4ae9-ace3-faa898816f65",
   "metadata": {},
   "outputs": [
    {
     "data": {
      "text/plain": [
       "0.20765943946160814"
      ]
     },
     "execution_count": 31,
     "metadata": {},
     "output_type": "execute_result"
    }
   ],
   "source": [
    "# lat lon some combo\n",
    "(X_train['latitude']/X_train['longitude']).corr(y_train)"
   ]
  },
  {
   "cell_type": "code",
   "execution_count": 33,
   "id": "2c4c0ee2-0e7b-4011-8c80-e14ad2b0a614",
   "metadata": {},
   "outputs": [
    {
     "data": {
      "image/png": "[encoded data removed]",
      "text/plain": [
       "<Figure size 1600x800 with 9 Axes>"
      ]
     },
     "metadata": {},
     "output_type": "display_data"
    }
   ],
   "source": [
    "X_train.hist(bins=40, figsize=(16, 8))\n",
    "plt.show()"
   ]
  },
  {
   "cell_type": "markdown",
   "id": "a2a8c8ba-ff24-4ea8-ac83-0141dee3eaf5",
   "metadata": {},
   "source": [
    "## Preparing Data For ML models"
   ]
  },
  {
   "cell_type": "code",
   "execution_count": 36,
   "id": "6097f60f-c04d-43f7-9f37-dde286fe78cc",
   "metadata": {},
   "outputs": [
    {
     "data": {
      "text/html": [
       "<div>\n",
       "<style scoped>\n",
       "    .dataframe tbody tr th:only-of-type {\n",
       "        vertical-align: middle;\n",
       "    }\n",
       "\n",
       "    .dataframe tbody tr th {\n",
       "        vertical-align: top;\n",
       "    }\n",
       "\n",
       "    .dataframe thead th {\n",
       "        text-align: right;\n",
       "    }\n",
       "</style>\n",
       "<table border=\"1\" class=\"dataframe\">\n",
       "  <thead>\n",
       "    <tr style=\"text-align: right;\">\n",
       "      <th></th>\n",
       "      <th>longitude</th>\n",
       "      <th>latitude</th>\n",
       "      <th>housing_median_age</th>\n",
       "      <th>total_rooms</th>\n",
       "      <th>total_bedrooms</th>\n",
       "      <th>population</th>\n",
       "      <th>households</th>\n",
       "      <th>median_income</th>\n",
       "      <th>ocean_proximity</th>\n",
       "    </tr>\n",
       "  </thead>\n",
       "  <tbody>\n",
       "    <tr>\n",
       "      <th>14196</th>\n",
       "      <td>-117.03</td>\n",
       "      <td>32.71</td>\n",
       "      <td>33.0</td>\n",
       "      <td>3126.0</td>\n",
       "      <td>627.0</td>\n",
       "      <td>2300.0</td>\n",
       "      <td>623.0</td>\n",
       "      <td>3.2596</td>\n",
       "      <td>NEAR OCEAN</td>\n",
       "    </tr>\n",
       "    <tr>\n",
       "      <th>8267</th>\n",
       "      <td>-118.16</td>\n",
       "      <td>33.77</td>\n",
       "      <td>49.0</td>\n",
       "      <td>3382.0</td>\n",
       "      <td>787.0</td>\n",
       "      <td>1314.0</td>\n",
       "      <td>756.0</td>\n",
       "      <td>3.8125</td>\n",
       "      <td>NEAR OCEAN</td>\n",
       "    </tr>\n",
       "    <tr>\n",
       "      <th>17445</th>\n",
       "      <td>-120.48</td>\n",
       "      <td>34.66</td>\n",
       "      <td>4.0</td>\n",
       "      <td>1897.0</td>\n",
       "      <td>331.0</td>\n",
       "      <td>915.0</td>\n",
       "      <td>336.0</td>\n",
       "      <td>4.1563</td>\n",
       "      <td>NEAR OCEAN</td>\n",
       "    </tr>\n",
       "    <tr>\n",
       "      <th>14265</th>\n",
       "      <td>-117.11</td>\n",
       "      <td>32.69</td>\n",
       "      <td>36.0</td>\n",
       "      <td>1421.0</td>\n",
       "      <td>367.0</td>\n",
       "      <td>1418.0</td>\n",
       "      <td>355.0</td>\n",
       "      <td>1.9425</td>\n",
       "      <td>NEAR OCEAN</td>\n",
       "    </tr>\n",
       "    <tr>\n",
       "      <th>2271</th>\n",
       "      <td>-119.80</td>\n",
       "      <td>36.78</td>\n",
       "      <td>43.0</td>\n",
       "      <td>2382.0</td>\n",
       "      <td>431.0</td>\n",
       "      <td>874.0</td>\n",
       "      <td>380.0</td>\n",
       "      <td>3.5542</td>\n",
       "      <td>INLAND</td>\n",
       "    </tr>\n",
       "  </tbody>\n",
       "</table>\n",
       "</div>"
      ],
      "text/plain": [
       "       longitude  latitude  housing_median_age  total_rooms  total_bedrooms  \\\n",
       "14196    -117.03     32.71                33.0       3126.0           627.0   \n",
       "8267     -118.16     33.77                49.0       3382.0           787.0   \n",
       "17445    -120.48     34.66                 4.0       1897.0           331.0   \n",
       "14265    -117.11     32.69                36.0       1421.0           367.0   \n",
       "2271     -119.80     36.78                43.0       2382.0           431.0   \n",
       "\n",
       "       population  households  median_income ocean_proximity  \n",
       "14196      2300.0       623.0         3.2596      NEAR OCEAN  \n",
       "8267       1314.0       756.0         3.8125      NEAR OCEAN  \n",
       "17445       915.0       336.0         4.1563      NEAR OCEAN  \n",
       "14265      1418.0       355.0         1.9425      NEAR OCEAN  \n",
       "2271        874.0       380.0         3.5542          INLAND  "
      ]
     },
     "execution_count": 36,
     "metadata": {},
     "output_type": "execute_result"
    }
   ],
   "source": [
    "X_train.head()"
   ]
  },
  {
   "cell_type": "code",
   "execution_count": 38,
   "id": "9b9a9e6a-dc2b-407c-85a0-95d561002fde",
   "metadata": {},
   "outputs": [
    {
     "data": {
      "text/plain": [
       "['longitude',\n",
       " 'latitude',\n",
       " 'housing_median_age',\n",
       " 'total_rooms',\n",
       " 'total_bedrooms',\n",
       " 'population',\n",
       " 'households',\n",
       " 'median_income',\n",
       " 'ocean_proximity']"
      ]
     },
     "execution_count": 38,
     "metadata": {},
     "output_type": "execute_result"
    }
   ],
   "source": [
    "list(X_train.columns)"
   ]
  },
  {
   "cell_type": "code",
   "execution_count": 56,
   "id": "2badb14b-6200-4a9c-b426-df3d5d3b41bb",
   "metadata": {},
   "outputs": [],
   "source": [
    "num_features_without_outliers = [\"longitude\", \"latitude\", 'median_income']\n",
    "num_features_with_outliers = ['housing_median_age', 'total_rooms', 'total_bedrooms',\n",
    "                              'population', 'households']\n",
    "cat_features = [\"ocean_proximity\"]\n",
    "# Column Transformer\n",
    "# outlier      -> Imputer -> log -> Scale\n",
    "# non-outlier  -> Imputer -> Scale\n",
    "# cat          -> Imputer -> One Hot Encoder\n",
    "# new feature  -> Imputer -> new_column -> Scale\n",
    "\n",
    "outlier_pipeline = make_pipeline(\n",
    "    SimpleImputer(strategy='median'),\n",
    "    FunctionTransformer(np.log),\n",
    "    StandardScaler())\n",
    "\n",
    "without_outlier_pipeline = make_pipeline(\n",
    "    SimpleImputer(strategy='median'),\n",
    "    StandardScaler())\n",
    "\n",
    "cat_pipeline = make_pipeline(\n",
    "    SimpleImputer(strategy='most_frequent'),\n",
    "    OneHotEncoder())\n",
    "\n",
    "def raito(X, y=None):\n",
    "    return X[:, [0]]/X[:, [1]]\n",
    "    \n",
    "add_feature = make_pipeline(\n",
    "    SimpleImputer(strategy='median'),\n",
    "    FunctionTransformer(raito),\n",
    "    StandardScaler() )\n",
    "\n",
    "inner_pipeline = ColumnTransformer([\n",
    "    (\"numerical with outliers\", outlier_pipeline, num_features_with_outliers),\n",
    "    (\"numerical without outliers\",  without_outlier_pipeline, num_features_without_outliers),\n",
    "    (\"categorical\", cat_pipeline, cat_features),\n",
    "    (\"rooms per household\", add_feature, [\"total_rooms\", \"households\"]),\n",
    "    (\"bedsrooms er households\", add_feature, [\"total_bedrooms\", \"households\"]),\n",
    "    \n",
    "])\n",
    "\n"
   ]
  },
  {
   "cell_type": "code",
   "execution_count": 58,
   "id": "4f51cee7-6a28-40d2-b16e-586e6e30fba8",
   "metadata": {},
   "outputs": [],
   "source": [
    "full_pipeline = Pipeline([\n",
    "    (\"pipeline\", inner_pipeline), # prepare data for ML model\n",
    "    (\"model\", LinearRegression()) # ML Model \n",
    "])\n"
   ]
  },
  {
   "cell_type": "code",
   "execution_count": 60,
   "id": "8ad5ef45-b95e-4093-8b7e-0c500ec37c79",
   "metadata": {},
   "outputs": [
    {
     "data": {
      "text/html": [
       "<style>#sk-container-id-3 {color: black;background-color: white;}#sk-container-id-3 pre{padding: 0;}#sk-container-id-3 div.sk-toggleable {background-color: white;}#sk-container-id-3 label.sk-toggleable__label {cursor: pointer;display: block;width: 100%;margin-bottom: 0;padding: 0.3em;box-sizing: border-box;text-align: center;}#sk-container-id-3 label.sk-toggleable__label-arrow:before {content: \"▸\";float: left;margin-right: 0.25em;color: #696969;}#sk-container-id-3 label.sk-toggleable__label-arrow:hover:before {color: black;}#sk-container-id-3 div.sk-estimator:hover label.sk-toggleable__label-arrow:before {color: black;}#sk-container-id-3 div.sk-toggleable__content {max-height: 0;max-width: 0;overflow: hidden;text-align: left;background-color: #f0f8ff;}#sk-container-id-3 div.sk-toggleable__content pre {margin: 0.2em;color: black;border-radius: 0.25em;background-color: #f0f8ff;}#sk-container-id-3 input.sk-toggleable__control:checked~div.sk-toggleable__content {max-height: 200px;max-width: 100%;overflow: auto;}#sk-container-id-3 input.sk-toggleable__control:checked~label.sk-toggleable__label-arrow:before {content: \"▾\";}#sk-container-id-3 div.sk-estimator input.sk-toggleable__control:checked~label.sk-toggleable__label {background-color: #d4ebff;}#sk-container-id-3 div.sk-label input.sk-toggleable__control:checked~label.sk-toggleable__label {background-color: #d4ebff;}#sk-container-id-3 input.sk-hidden--visually {border: 0;clip: rect(1px 1px 1px 1px);clip: rect(1px, 1px, 1px, 1px);height: 1px;margin: -1px;overflow: hidden;padding: 0;position: absolute;width: 1px;}#sk-container-id-3 div.sk-estimator {font-family: monospace;background-color: #f0f8ff;border: 1px dotted black;border-radius: 0.25em;box-sizing: border-box;margin-bottom: 0.5em;}#sk-container-id-3 div.sk-estimator:hover {background-color: #d4ebff;}#sk-container-id-3 div.sk-parallel-item::after {content: \"\";width: 100%;border-bottom: 1px solid gray;flex-grow: 1;}#sk-container-id-3 div.sk-label:hover label.sk-toggleable__label {background-color: #d4ebff;}#sk-container-id-3 div.sk-serial::before {content: \"\";position: absolute;border-left: 1px solid gray;box-sizing: border-box;top: 0;bottom: 0;left: 50%;z-index: 0;}#sk-container-id-3 div.sk-serial {display: flex;flex-direction: column;align-items: center;background-color: white;padding-right: 0.2em;padding-left: 0.2em;position: relative;}#sk-container-id-3 div.sk-item {position: relative;z-index: 1;}#sk-container-id-3 div.sk-parallel {display: flex;align-items: stretch;justify-content: center;background-color: white;position: relative;}#sk-container-id-3 div.sk-item::before, #sk-container-id-3 div.sk-parallel-item::before {content: \"\";position: absolute;border-left: 1px solid gray;box-sizing: border-box;top: 0;bottom: 0;left: 50%;z-index: -1;}#sk-container-id-3 div.sk-parallel-item {display: flex;flex-direction: column;z-index: 1;position: relative;background-color: white;}#sk-container-id-3 div.sk-parallel-item:first-child::after {align-self: flex-end;width: 50%;}#sk-container-id-3 div.sk-parallel-item:last-child::after {align-self: flex-start;width: 50%;}#sk-container-id-3 div.sk-parallel-item:only-child::after {width: 0;}#sk-container-id-3 div.sk-dashed-wrapped {border: 1px dashed gray;margin: 0 0.4em 0.5em 0.4em;box-sizing: border-box;padding-bottom: 0.4em;background-color: white;}#sk-container-id-3 div.sk-label label {font-family: monospace;font-weight: bold;display: inline-block;line-height: 1.2em;}#sk-container-id-3 div.sk-label-container {text-align: center;}#sk-container-id-3 div.sk-container {/* jupyter's `normalize.less` sets `[hidden] { display: none; }` but bootstrap.min.css set `[hidden] { display: none !important; }` so we also need the `!important` here to be able to override the default hidden behavior on the sphinx rendered scikit-learn.org. See: https://github.com/scikit-learn/scikit-learn/issues/21755 */display: inline-block !important;position: relative;}#sk-container-id-3 div.sk-text-repr-fallback {display: none;}</style><div id=\"sk-container-id-3\" class=\"sk-top-container\"><div class=\"sk-text-repr-fallback\"><pre>Pipeline(steps=[(&#x27;pipeline&#x27;,\n",
       "                 ColumnTransformer(transformers=[(&#x27;numerical with outliers&#x27;,\n",
       "                                                  Pipeline(steps=[(&#x27;simpleimputer&#x27;,\n",
       "                                                                   SimpleImputer(strategy=&#x27;median&#x27;)),\n",
       "                                                                  (&#x27;functiontransformer&#x27;,\n",
       "                                                                   FunctionTransformer(func=&lt;ufunc &#x27;log&#x27;&gt;)),\n",
       "                                                                  (&#x27;standardscaler&#x27;,\n",
       "                                                                   StandardScaler())]),\n",
       "                                                  [&#x27;housing_median_age&#x27;,\n",
       "                                                   &#x27;total_rooms&#x27;,\n",
       "                                                   &#x27;total_bedrooms&#x27;,\n",
       "                                                   &#x27;population&#x27;,\n",
       "                                                   &#x27;households&#x27;]),\n",
       "                                                 (&#x27;numerical witho...\n",
       "                                                                   FunctionTransformer(func=&lt;function raito at 0x30c69fc40&gt;)),\n",
       "                                                                  (&#x27;standardscaler&#x27;,\n",
       "                                                                   StandardScaler())]),\n",
       "                                                  [&#x27;total_rooms&#x27;,\n",
       "                                                   &#x27;households&#x27;]),\n",
       "                                                 (&#x27;bedsrooms er households&#x27;,\n",
       "                                                  Pipeline(steps=[(&#x27;simpleimputer&#x27;,\n",
       "                                                                   SimpleImputer(strategy=&#x27;median&#x27;)),\n",
       "                                                                  (&#x27;functiontransformer&#x27;,\n",
       "                                                                   FunctionTransformer(func=&lt;function raito at 0x30c69fc40&gt;)),\n",
       "                                                                  (&#x27;standardscaler&#x27;,\n",
       "                                                                   StandardScaler())]),\n",
       "                                                  [&#x27;total_bedrooms&#x27;,\n",
       "                                                   &#x27;households&#x27;])])),\n",
       "                (&#x27;model&#x27;, LinearRegression())])</pre><b>In a Jupyter environment, please rerun this cell to show the HTML representation or trust the notebook. <br />On GitHub, the HTML representation is unable to render, please try loading this page with nbviewer.org.</b></div><div class=\"sk-container\" hidden><div class=\"sk-item sk-dashed-wrapped\"><div class=\"sk-label-container\"><div class=\"sk-label sk-toggleable\"><input class=\"sk-toggleable__control sk-hidden--visually\" id=\"sk-estimator-id-43\" type=\"checkbox\" ><label for=\"sk-estimator-id-43\" class=\"sk-toggleable__label sk-toggleable__label-arrow\">Pipeline</label><div class=\"sk-toggleable__content\"><pre>Pipeline(steps=[(&#x27;pipeline&#x27;,\n",
       "                 ColumnTransformer(transformers=[(&#x27;numerical with outliers&#x27;,\n",
       "                                                  Pipeline(steps=[(&#x27;simpleimputer&#x27;,\n",
       "                                                                   SimpleImputer(strategy=&#x27;median&#x27;)),\n",
       "                                                                  (&#x27;functiontransformer&#x27;,\n",
       "                                                                   FunctionTransformer(func=&lt;ufunc &#x27;log&#x27;&gt;)),\n",
       "                                                                  (&#x27;standardscaler&#x27;,\n",
       "                                                                   StandardScaler())]),\n",
       "                                                  [&#x27;housing_median_age&#x27;,\n",
       "                                                   &#x27;total_rooms&#x27;,\n",
       "                                                   &#x27;total_bedrooms&#x27;,\n",
       "                                                   &#x27;population&#x27;,\n",
       "                                                   &#x27;households&#x27;]),\n",
       "                                                 (&#x27;numerical witho...\n",
       "                                                                   FunctionTransformer(func=&lt;function raito at 0x30c69fc40&gt;)),\n",
       "                                                                  (&#x27;standardscaler&#x27;,\n",
       "                                                                   StandardScaler())]),\n",
       "                                                  [&#x27;total_rooms&#x27;,\n",
       "                                                   &#x27;households&#x27;]),\n",
       "                                                 (&#x27;bedsrooms er households&#x27;,\n",
       "                                                  Pipeline(steps=[(&#x27;simpleimputer&#x27;,\n",
       "                                                                   SimpleImputer(strategy=&#x27;median&#x27;)),\n",
       "                                                                  (&#x27;functiontransformer&#x27;,\n",
       "                                                                   FunctionTransformer(func=&lt;function raito at 0x30c69fc40&gt;)),\n",
       "                                                                  (&#x27;standardscaler&#x27;,\n",
       "                                                                   StandardScaler())]),\n",
       "                                                  [&#x27;total_bedrooms&#x27;,\n",
       "                                                   &#x27;households&#x27;])])),\n",
       "                (&#x27;model&#x27;, LinearRegression())])</pre></div></div></div><div class=\"sk-serial\"><div class=\"sk-item sk-dashed-wrapped\"><div class=\"sk-label-container\"><div class=\"sk-label sk-toggleable\"><input class=\"sk-toggleable__control sk-hidden--visually\" id=\"sk-estimator-id-44\" type=\"checkbox\" ><label for=\"sk-estimator-id-44\" class=\"sk-toggleable__label sk-toggleable__label-arrow\">pipeline: ColumnTransformer</label><div class=\"sk-toggleable__content\"><pre>ColumnTransformer(transformers=[(&#x27;numerical with outliers&#x27;,\n",
       "                                 Pipeline(steps=[(&#x27;simpleimputer&#x27;,\n",
       "                                                  SimpleImputer(strategy=&#x27;median&#x27;)),\n",
       "                                                 (&#x27;functiontransformer&#x27;,\n",
       "                                                  FunctionTransformer(func=&lt;ufunc &#x27;log&#x27;&gt;)),\n",
       "                                                 (&#x27;standardscaler&#x27;,\n",
       "                                                  StandardScaler())]),\n",
       "                                 [&#x27;housing_median_age&#x27;, &#x27;total_rooms&#x27;,\n",
       "                                  &#x27;total_bedrooms&#x27;, &#x27;population&#x27;,\n",
       "                                  &#x27;households&#x27;]),\n",
       "                                (&#x27;numerical without outliers&#x27;,\n",
       "                                 Pipeline(steps=[...\n",
       "                                                  FunctionTransformer(func=&lt;function raito at 0x30c69fc40&gt;)),\n",
       "                                                 (&#x27;standardscaler&#x27;,\n",
       "                                                  StandardScaler())]),\n",
       "                                 [&#x27;total_rooms&#x27;, &#x27;households&#x27;]),\n",
       "                                (&#x27;bedsrooms er households&#x27;,\n",
       "                                 Pipeline(steps=[(&#x27;simpleimputer&#x27;,\n",
       "                                                  SimpleImputer(strategy=&#x27;median&#x27;)),\n",
       "                                                 (&#x27;functiontransformer&#x27;,\n",
       "                                                  FunctionTransformer(func=&lt;function raito at 0x30c69fc40&gt;)),\n",
       "                                                 (&#x27;standardscaler&#x27;,\n",
       "                                                  StandardScaler())]),\n",
       "                                 [&#x27;total_bedrooms&#x27;, &#x27;households&#x27;])])</pre></div></div></div><div class=\"sk-parallel\"><div class=\"sk-parallel-item\"><div class=\"sk-item\"><div class=\"sk-label-container\"><div class=\"sk-label sk-toggleable\"><input class=\"sk-toggleable__control sk-hidden--visually\" id=\"sk-estimator-id-45\" type=\"checkbox\" ><label for=\"sk-estimator-id-45\" class=\"sk-toggleable__label sk-toggleable__label-arrow\">numerical with outliers</label><div class=\"sk-toggleable__content\"><pre>[&#x27;housing_median_age&#x27;, &#x27;total_rooms&#x27;, &#x27;total_bedrooms&#x27;, &#x27;population&#x27;, &#x27;households&#x27;]</pre></div></div></div><div class=\"sk-serial\"><div class=\"sk-item\"><div class=\"sk-serial\"><div class=\"sk-item\"><div class=\"sk-estimator sk-toggleable\"><input class=\"sk-toggleable__control sk-hidden--visually\" id=\"sk-estimator-id-46\" type=\"checkbox\" ><label for=\"sk-estimator-id-46\" class=\"sk-toggleable__label sk-toggleable__label-arrow\">SimpleImputer</label><div class=\"sk-toggleable__content\"><pre>SimpleImputer(strategy=&#x27;median&#x27;)</pre></div></div></div><div class=\"sk-item\"><div class=\"sk-estimator sk-toggleable\"><input class=\"sk-toggleable__control sk-hidden--visually\" id=\"sk-estimator-id-47\" type=\"checkbox\" ><label for=\"sk-estimator-id-47\" class=\"sk-toggleable__label sk-toggleable__label-arrow\">FunctionTransformer</label><div class=\"sk-toggleable__content\"><pre>FunctionTransformer(func=&lt;ufunc &#x27;log&#x27;&gt;)</pre></div></div></div><div class=\"sk-item\"><div class=\"sk-estimator sk-toggleable\"><input class=\"sk-toggleable__control sk-hidden--visually\" id=\"sk-estimator-id-48\" type=\"checkbox\" ><label for=\"sk-estimator-id-48\" class=\"sk-toggleable__label sk-toggleable__label-arrow\">StandardScaler</label><div class=\"sk-toggleable__content\"><pre>StandardScaler()</pre></div></div></div></div></div></div></div></div><div class=\"sk-parallel-item\"><div class=\"sk-item\"><div class=\"sk-label-container\"><div class=\"sk-label sk-toggleable\"><input class=\"sk-toggleable__control sk-hidden--visually\" id=\"sk-estimator-id-49\" type=\"checkbox\" ><label for=\"sk-estimator-id-49\" class=\"sk-toggleable__label sk-toggleable__label-arrow\">numerical without outliers</label><div class=\"sk-toggleable__content\"><pre>[&#x27;longitude&#x27;, &#x27;latitude&#x27;, &#x27;median_income&#x27;]</pre></div></div></div><div class=\"sk-serial\"><div class=\"sk-item\"><div class=\"sk-serial\"><div class=\"sk-item\"><div class=\"sk-estimator sk-toggleable\"><input class=\"sk-toggleable__control sk-hidden--visually\" id=\"sk-estimator-id-50\" type=\"checkbox\" ><label for=\"sk-estimator-id-50\" class=\"sk-toggleable__label sk-toggleable__label-arrow\">SimpleImputer</label><div class=\"sk-toggleable__content\"><pre>SimpleImputer(strategy=&#x27;median&#x27;)</pre></div></div></div><div class=\"sk-item\"><div class=\"sk-estimator sk-toggleable\"><input class=\"sk-toggleable__control sk-hidden--visually\" id=\"sk-estimator-id-51\" type=\"checkbox\" ><label for=\"sk-estimator-id-51\" class=\"sk-toggleable__label sk-toggleable__label-arrow\">StandardScaler</label><div class=\"sk-toggleable__content\"><pre>StandardScaler()</pre></div></div></div></div></div></div></div></div><div class=\"sk-parallel-item\"><div class=\"sk-item\"><div class=\"sk-label-container\"><div class=\"sk-label sk-toggleable\"><input class=\"sk-toggleable__control sk-hidden--visually\" id=\"sk-estimator-id-52\" type=\"checkbox\" ><label for=\"sk-estimator-id-52\" class=\"sk-toggleable__label sk-toggleable__label-arrow\">categorical</label><div class=\"sk-toggleable__content\"><pre>[&#x27;ocean_proximity&#x27;]</pre></div></div></div><div class=\"sk-serial\"><div class=\"sk-item\"><div class=\"sk-serial\"><div class=\"sk-item\"><div class=\"sk-estimator sk-toggleable\"><input class=\"sk-toggleable__control sk-hidden--visually\" id=\"sk-estimator-id-53\" type=\"checkbox\" ><label for=\"sk-estimator-id-53\" class=\"sk-toggleable__label sk-toggleable__label-arrow\">SimpleImputer</label><div class=\"sk-toggleable__content\"><pre>SimpleImputer(strategy=&#x27;most_frequent&#x27;)</pre></div></div></div><div class=\"sk-item\"><div class=\"sk-estimator sk-toggleable\"><input class=\"sk-toggleable__control sk-hidden--visually\" id=\"sk-estimator-id-54\" type=\"checkbox\" ><label for=\"sk-estimator-id-54\" class=\"sk-toggleable__label sk-toggleable__label-arrow\">OneHotEncoder</label><div class=\"sk-toggleable__content\"><pre>OneHotEncoder()</pre></div></div></div></div></div></div></div></div><div class=\"sk-parallel-item\"><div class=\"sk-item\"><div class=\"sk-label-container\"><div class=\"sk-label sk-toggleable\"><input class=\"sk-toggleable__control sk-hidden--visually\" id=\"sk-estimator-id-55\" type=\"checkbox\" ><label for=\"sk-estimator-id-55\" class=\"sk-toggleable__label sk-toggleable__label-arrow\">rooms per household</label><div class=\"sk-toggleable__content\"><pre>[&#x27;total_rooms&#x27;, &#x27;households&#x27;]</pre></div></div></div><div class=\"sk-serial\"><div class=\"sk-item\"><div class=\"sk-serial\"><div class=\"sk-item\"><div class=\"sk-estimator sk-toggleable\"><input class=\"sk-toggleable__control sk-hidden--visually\" id=\"sk-estimator-id-56\" type=\"checkbox\" ><label for=\"sk-estimator-id-56\" class=\"sk-toggleable__label sk-toggleable__label-arrow\">SimpleImputer</label><div class=\"sk-toggleable__content\"><pre>SimpleImputer(strategy=&#x27;median&#x27;)</pre></div></div></div><div class=\"sk-item\"><div class=\"sk-estimator sk-toggleable\"><input class=\"sk-toggleable__control sk-hidden--visually\" id=\"sk-estimator-id-57\" type=\"checkbox\" ><label for=\"sk-estimator-id-57\" class=\"sk-toggleable__label sk-toggleable__label-arrow\">FunctionTransformer</label><div class=\"sk-toggleable__content\"><pre>FunctionTransformer(func=&lt;function raito at 0x30c69fc40&gt;)</pre></div></div></div><div class=\"sk-item\"><div class=\"sk-estimator sk-toggleable\"><input class=\"sk-toggleable__control sk-hidden--visually\" id=\"sk-estimator-id-58\" type=\"checkbox\" ><label for=\"sk-estimator-id-58\" class=\"sk-toggleable__label sk-toggleable__label-arrow\">StandardScaler</label><div class=\"sk-toggleable__content\"><pre>StandardScaler()</pre></div></div></div></div></div></div></div></div><div class=\"sk-parallel-item\"><div class=\"sk-item\"><div class=\"sk-label-container\"><div class=\"sk-label sk-toggleable\"><input class=\"sk-toggleable__control sk-hidden--visually\" id=\"sk-estimator-id-59\" type=\"checkbox\" ><label for=\"sk-estimator-id-59\" class=\"sk-toggleable__label sk-toggleable__label-arrow\">bedsrooms er households</label><div class=\"sk-toggleable__content\"><pre>[&#x27;total_bedrooms&#x27;, &#x27;households&#x27;]</pre></div></div></div><div class=\"sk-serial\"><div class=\"sk-item\"><div class=\"sk-serial\"><div class=\"sk-item\"><div class=\"sk-estimator sk-toggleable\"><input class=\"sk-toggleable__control sk-hidden--visually\" id=\"sk-estimator-id-60\" type=\"checkbox\" ><label for=\"sk-estimator-id-60\" class=\"sk-toggleable__label sk-toggleable__label-arrow\">SimpleImputer</label><div class=\"sk-toggleable__content\"><pre>SimpleImputer(strategy=&#x27;median&#x27;)</pre></div></div></div><div class=\"sk-item\"><div class=\"sk-estimator sk-toggleable\"><input class=\"sk-toggleable__control sk-hidden--visually\" id=\"sk-estimator-id-61\" type=\"checkbox\" ><label for=\"sk-estimator-id-61\" class=\"sk-toggleable__label sk-toggleable__label-arrow\">FunctionTransformer</label><div class=\"sk-toggleable__content\"><pre>FunctionTransformer(func=&lt;function raito at 0x30c69fc40&gt;)</pre></div></div></div><div class=\"sk-item\"><div class=\"sk-estimator sk-toggleable\"><input class=\"sk-toggleable__control sk-hidden--visually\" id=\"sk-estimator-id-62\" type=\"checkbox\" ><label for=\"sk-estimator-id-62\" class=\"sk-toggleable__label sk-toggleable__label-arrow\">StandardScaler</label><div class=\"sk-toggleable__content\"><pre>StandardScaler()</pre></div></div></div></div></div></div></div></div></div></div><div class=\"sk-item\"><div class=\"sk-estimator sk-toggleable\"><input class=\"sk-toggleable__control sk-hidden--visually\" id=\"sk-estimator-id-63\" type=\"checkbox\" ><label for=\"sk-estimator-id-63\" class=\"sk-toggleable__label sk-toggleable__label-arrow\">LinearRegression</label><div class=\"sk-toggleable__content\"><pre>LinearRegression()</pre></div></div></div></div></div></div></div>"
      ],
      "text/plain": [
       "Pipeline(steps=[('pipeline',\n",
       "                 ColumnTransformer(transformers=[('numerical with outliers',\n",
       "                                                  Pipeline(steps=[('simpleimputer',\n",
       "                                                                   SimpleImputer(strategy='median')),\n",
       "                                                                  ('functiontransformer',\n",
       "                                                                   FunctionTransformer(func=<ufunc 'log'>)),\n",
       "                                                                  ('standardscaler',\n",
       "                                                                   StandardScaler())]),\n",
       "                                                  ['housing_median_age',\n",
       "                                                   'total_rooms',\n",
       "                                                   'total_bedrooms',\n",
       "                                                   'population',\n",
       "                                                   'households']),\n",
       "                                                 ('numerical witho...\n",
       "                                                                   FunctionTransformer(func=<function raito at 0x30c69fc40>)),\n",
       "                                                                  ('standardscaler',\n",
       "                                                                   StandardScaler())]),\n",
       "                                                  ['total_rooms',\n",
       "                                                   'households']),\n",
       "                                                 ('bedsrooms er households',\n",
       "                                                  Pipeline(steps=[('simpleimputer',\n",
       "                                                                   SimpleImputer(strategy='median')),\n",
       "                                                                  ('functiontransformer',\n",
       "                                                                   FunctionTransformer(func=<function raito at 0x30c69fc40>)),\n",
       "                                                                  ('standardscaler',\n",
       "                                                                   StandardScaler())]),\n",
       "                                                  ['total_bedrooms',\n",
       "                                                   'households'])])),\n",
       "                ('model', LinearRegression())])"
      ]
     },
     "execution_count": 60,
     "metadata": {},
     "output_type": "execute_result"
    }
   ],
   "source": [
    "full_pipeline"
   ]
  },
  {
   "cell_type": "code",
   "execution_count": 62,
   "id": "2e64d130-196d-4ad5-b434-f35badb62bd4",
   "metadata": {},
   "outputs": [
    {
     "data": {
      "text/html": [
       "<style>#sk-container-id-4 {color: black;background-color: white;}#sk-container-id-4 pre{padding: 0;}#sk-container-id-4 div.sk-toggleable {background-color: white;}#sk-container-id-4 label.sk-toggleable__label {cursor: pointer;display: block;width: 100%;margin-bottom: 0;padding: 0.3em;box-sizing: border-box;text-align: center;}#sk-container-id-4 label.sk-toggleable__label-arrow:before {content: \"▸\";float: left;margin-right: 0.25em;color: #696969;}#sk-container-id-4 label.sk-toggleable__label-arrow:hover:before {color: black;}#sk-container-id-4 div.sk-estimator:hover label.sk-toggleable__label-arrow:before {color: black;}#sk-container-id-4 div.sk-toggleable__content {max-height: 0;max-width: 0;overflow: hidden;text-align: left;background-color: #f0f8ff;}#sk-container-id-4 div.sk-toggleable__content pre {margin: 0.2em;color: black;border-radius: 0.25em;background-color: #f0f8ff;}#sk-container-id-4 input.sk-toggleable__control:checked~div.sk-toggleable__content {max-height: 200px;max-width: 100%;overflow: auto;}#sk-container-id-4 input.sk-toggleable__control:checked~label.sk-toggleable__label-arrow:before {content: \"▾\";}#sk-container-id-4 div.sk-estimator input.sk-toggleable__control:checked~label.sk-toggleable__label {background-color: #d4ebff;}#sk-container-id-4 div.sk-label input.sk-toggleable__control:checked~label.sk-toggleable__label {background-color: #d4ebff;}#sk-container-id-4 input.sk-hidden--visually {border: 0;clip: rect(1px 1px 1px 1px);clip: rect(1px, 1px, 1px, 1px);height: 1px;margin: -1px;overflow: hidden;padding: 0;position: absolute;width: 1px;}#sk-container-id-4 div.sk-estimator {font-family: monospace;background-color: #f0f8ff;border: 1px dotted black;border-radius: 0.25em;box-sizing: border-box;margin-bottom: 0.5em;}#sk-container-id-4 div.sk-estimator:hover {background-color: #d4ebff;}#sk-container-id-4 div.sk-parallel-item::after {content: \"\";width: 100%;border-bottom: 1px solid gray;flex-grow: 1;}#sk-container-id-4 div.sk-label:hover label.sk-toggleable__label {background-color: #d4ebff;}#sk-container-id-4 div.sk-serial::before {content: \"\";position: absolute;border-left: 1px solid gray;box-sizing: border-box;top: 0;bottom: 0;left: 50%;z-index: 0;}#sk-container-id-4 div.sk-serial {display: flex;flex-direction: column;align-items: center;background-color: white;padding-right: 0.2em;padding-left: 0.2em;position: relative;}#sk-container-id-4 div.sk-item {position: relative;z-index: 1;}#sk-container-id-4 div.sk-parallel {display: flex;align-items: stretch;justify-content: center;background-color: white;position: relative;}#sk-container-id-4 div.sk-item::before, #sk-container-id-4 div.sk-parallel-item::before {content: \"\";position: absolute;border-left: 1px solid gray;box-sizing: border-box;top: 0;bottom: 0;left: 50%;z-index: -1;}#sk-container-id-4 div.sk-parallel-item {display: flex;flex-direction: column;z-index: 1;position: relative;background-color: white;}#sk-container-id-4 div.sk-parallel-item:first-child::after {align-self: flex-end;width: 50%;}#sk-container-id-4 div.sk-parallel-item:last-child::after {align-self: flex-start;width: 50%;}#sk-container-id-4 div.sk-parallel-item:only-child::after {width: 0;}#sk-container-id-4 div.sk-dashed-wrapped {border: 1px dashed gray;margin: 0 0.4em 0.5em 0.4em;box-sizing: border-box;padding-bottom: 0.4em;background-color: white;}#sk-container-id-4 div.sk-label label {font-family: monospace;font-weight: bold;display: inline-block;line-height: 1.2em;}#sk-container-id-4 div.sk-label-container {text-align: center;}#sk-container-id-4 div.sk-container {/* jupyter's `normalize.less` sets `[hidden] { display: none; }` but bootstrap.min.css set `[hidden] { display: none !important; }` so we also need the `!important` here to be able to override the default hidden behavior on the sphinx rendered scikit-learn.org. See: https://github.com/scikit-learn/scikit-learn/issues/21755 */display: inline-block !important;position: relative;}#sk-container-id-4 div.sk-text-repr-fallback {display: none;}</style><div id=\"sk-container-id-4\" class=\"sk-top-container\"><div class=\"sk-text-repr-fallback\"><pre>Pipeline(steps=[(&#x27;pipeline&#x27;,\n",
       "                 ColumnTransformer(transformers=[(&#x27;numerical with outliers&#x27;,\n",
       "                                                  Pipeline(steps=[(&#x27;simpleimputer&#x27;,\n",
       "                                                                   SimpleImputer(strategy=&#x27;median&#x27;)),\n",
       "                                                                  (&#x27;functiontransformer&#x27;,\n",
       "                                                                   FunctionTransformer(func=&lt;ufunc &#x27;log&#x27;&gt;)),\n",
       "                                                                  (&#x27;standardscaler&#x27;,\n",
       "                                                                   StandardScaler())]),\n",
       "                                                  [&#x27;housing_median_age&#x27;,\n",
       "                                                   &#x27;total_rooms&#x27;,\n",
       "                                                   &#x27;total_bedrooms&#x27;,\n",
       "                                                   &#x27;population&#x27;,\n",
       "                                                   &#x27;households&#x27;]),\n",
       "                                                 (&#x27;numerical witho...\n",
       "                                                                   FunctionTransformer(func=&lt;function raito at 0x30c69fc40&gt;)),\n",
       "                                                                  (&#x27;standardscaler&#x27;,\n",
       "                                                                   StandardScaler())]),\n",
       "                                                  [&#x27;total_rooms&#x27;,\n",
       "                                                   &#x27;households&#x27;]),\n",
       "                                                 (&#x27;bedsrooms er households&#x27;,\n",
       "                                                  Pipeline(steps=[(&#x27;simpleimputer&#x27;,\n",
       "                                                                   SimpleImputer(strategy=&#x27;median&#x27;)),\n",
       "                                                                  (&#x27;functiontransformer&#x27;,\n",
       "                                                                   FunctionTransformer(func=&lt;function raito at 0x30c69fc40&gt;)),\n",
       "                                                                  (&#x27;standardscaler&#x27;,\n",
       "                                                                   StandardScaler())]),\n",
       "                                                  [&#x27;total_bedrooms&#x27;,\n",
       "                                                   &#x27;households&#x27;])])),\n",
       "                (&#x27;model&#x27;, LinearRegression())])</pre><b>In a Jupyter environment, please rerun this cell to show the HTML representation or trust the notebook. <br />On GitHub, the HTML representation is unable to render, please try loading this page with nbviewer.org.</b></div><div class=\"sk-container\" hidden><div class=\"sk-item sk-dashed-wrapped\"><div class=\"sk-label-container\"><div class=\"sk-label sk-toggleable\"><input class=\"sk-toggleable__control sk-hidden--visually\" id=\"sk-estimator-id-64\" type=\"checkbox\" ><label for=\"sk-estimator-id-64\" class=\"sk-toggleable__label sk-toggleable__label-arrow\">Pipeline</label><div class=\"sk-toggleable__content\"><pre>Pipeline(steps=[(&#x27;pipeline&#x27;,\n",
       "                 ColumnTransformer(transformers=[(&#x27;numerical with outliers&#x27;,\n",
       "                                                  Pipeline(steps=[(&#x27;simpleimputer&#x27;,\n",
       "                                                                   SimpleImputer(strategy=&#x27;median&#x27;)),\n",
       "                                                                  (&#x27;functiontransformer&#x27;,\n",
       "                                                                   FunctionTransformer(func=&lt;ufunc &#x27;log&#x27;&gt;)),\n",
       "                                                                  (&#x27;standardscaler&#x27;,\n",
       "                                                                   StandardScaler())]),\n",
       "                                                  [&#x27;housing_median_age&#x27;,\n",
       "                                                   &#x27;total_rooms&#x27;,\n",
       "                                                   &#x27;total_bedrooms&#x27;,\n",
       "                                                   &#x27;population&#x27;,\n",
       "                                                   &#x27;households&#x27;]),\n",
       "                                                 (&#x27;numerical witho...\n",
       "                                                                   FunctionTransformer(func=&lt;function raito at 0x30c69fc40&gt;)),\n",
       "                                                                  (&#x27;standardscaler&#x27;,\n",
       "                                                                   StandardScaler())]),\n",
       "                                                  [&#x27;total_rooms&#x27;,\n",
       "                                                   &#x27;households&#x27;]),\n",
       "                                                 (&#x27;bedsrooms er households&#x27;,\n",
       "                                                  Pipeline(steps=[(&#x27;simpleimputer&#x27;,\n",
       "                                                                   SimpleImputer(strategy=&#x27;median&#x27;)),\n",
       "                                                                  (&#x27;functiontransformer&#x27;,\n",
       "                                                                   FunctionTransformer(func=&lt;function raito at 0x30c69fc40&gt;)),\n",
       "                                                                  (&#x27;standardscaler&#x27;,\n",
       "                                                                   StandardScaler())]),\n",
       "                                                  [&#x27;total_bedrooms&#x27;,\n",
       "                                                   &#x27;households&#x27;])])),\n",
       "                (&#x27;model&#x27;, LinearRegression())])</pre></div></div></div><div class=\"sk-serial\"><div class=\"sk-item sk-dashed-wrapped\"><div class=\"sk-label-container\"><div class=\"sk-label sk-toggleable\"><input class=\"sk-toggleable__control sk-hidden--visually\" id=\"sk-estimator-id-65\" type=\"checkbox\" ><label for=\"sk-estimator-id-65\" class=\"sk-toggleable__label sk-toggleable__label-arrow\">pipeline: ColumnTransformer</label><div class=\"sk-toggleable__content\"><pre>ColumnTransformer(transformers=[(&#x27;numerical with outliers&#x27;,\n",
       "                                 Pipeline(steps=[(&#x27;simpleimputer&#x27;,\n",
       "                                                  SimpleImputer(strategy=&#x27;median&#x27;)),\n",
       "                                                 (&#x27;functiontransformer&#x27;,\n",
       "                                                  FunctionTransformer(func=&lt;ufunc &#x27;log&#x27;&gt;)),\n",
       "                                                 (&#x27;standardscaler&#x27;,\n",
       "                                                  StandardScaler())]),\n",
       "                                 [&#x27;housing_median_age&#x27;, &#x27;total_rooms&#x27;,\n",
       "                                  &#x27;total_bedrooms&#x27;, &#x27;population&#x27;,\n",
       "                                  &#x27;households&#x27;]),\n",
       "                                (&#x27;numerical without outliers&#x27;,\n",
       "                                 Pipeline(steps=[...\n",
       "                                                  FunctionTransformer(func=&lt;function raito at 0x30c69fc40&gt;)),\n",
       "                                                 (&#x27;standardscaler&#x27;,\n",
       "                                                  StandardScaler())]),\n",
       "                                 [&#x27;total_rooms&#x27;, &#x27;households&#x27;]),\n",
       "                                (&#x27;bedsrooms er households&#x27;,\n",
       "                                 Pipeline(steps=[(&#x27;simpleimputer&#x27;,\n",
       "                                                  SimpleImputer(strategy=&#x27;median&#x27;)),\n",
       "                                                 (&#x27;functiontransformer&#x27;,\n",
       "                                                  FunctionTransformer(func=&lt;function raito at 0x30c69fc40&gt;)),\n",
       "                                                 (&#x27;standardscaler&#x27;,\n",
       "                                                  StandardScaler())]),\n",
       "                                 [&#x27;total_bedrooms&#x27;, &#x27;households&#x27;])])</pre></div></div></div><div class=\"sk-parallel\"><div class=\"sk-parallel-item\"><div class=\"sk-item\"><div class=\"sk-label-container\"><div class=\"sk-label sk-toggleable\"><input class=\"sk-toggleable__control sk-hidden--visually\" id=\"sk-estimator-id-66\" type=\"checkbox\" ><label for=\"sk-estimator-id-66\" class=\"sk-toggleable__label sk-toggleable__label-arrow\">numerical with outliers</label><div class=\"sk-toggleable__content\"><pre>[&#x27;housing_median_age&#x27;, &#x27;total_rooms&#x27;, &#x27;total_bedrooms&#x27;, &#x27;population&#x27;, &#x27;households&#x27;]</pre></div></div></div><div class=\"sk-serial\"><div class=\"sk-item\"><div class=\"sk-serial\"><div class=\"sk-item\"><div class=\"sk-estimator sk-toggleable\"><input class=\"sk-toggleable__control sk-hidden--visually\" id=\"sk-estimator-id-67\" type=\"checkbox\" ><label for=\"sk-estimator-id-67\" class=\"sk-toggleable__label sk-toggleable__label-arrow\">SimpleImputer</label><div class=\"sk-toggleable__content\"><pre>SimpleImputer(strategy=&#x27;median&#x27;)</pre></div></div></div><div class=\"sk-item\"><div class=\"sk-estimator sk-toggleable\"><input class=\"sk-toggleable__control sk-hidden--visually\" id=\"sk-estimator-id-68\" type=\"checkbox\" ><label for=\"sk-estimator-id-68\" class=\"sk-toggleable__label sk-toggleable__label-arrow\">FunctionTransformer</label><div class=\"sk-toggleable__content\"><pre>FunctionTransformer(func=&lt;ufunc &#x27;log&#x27;&gt;)</pre></div></div></div><div class=\"sk-item\"><div class=\"sk-estimator sk-toggleable\"><input class=\"sk-toggleable__control sk-hidden--visually\" id=\"sk-estimator-id-69\" type=\"checkbox\" ><label for=\"sk-estimator-id-69\" class=\"sk-toggleable__label sk-toggleable__label-arrow\">StandardScaler</label><div class=\"sk-toggleable__content\"><pre>StandardScaler()</pre></div></div></div></div></div></div></div></div><div class=\"sk-parallel-item\"><div class=\"sk-item\"><div class=\"sk-label-container\"><div class=\"sk-label sk-toggleable\"><input class=\"sk-toggleable__control sk-hidden--visually\" id=\"sk-estimator-id-70\" type=\"checkbox\" ><label for=\"sk-estimator-id-70\" class=\"sk-toggleable__label sk-toggleable__label-arrow\">numerical without outliers</label><div class=\"sk-toggleable__content\"><pre>[&#x27;longitude&#x27;, &#x27;latitude&#x27;, &#x27;median_income&#x27;]</pre></div></div></div><div class=\"sk-serial\"><div class=\"sk-item\"><div class=\"sk-serial\"><div class=\"sk-item\"><div class=\"sk-estimator sk-toggleable\"><input class=\"sk-toggleable__control sk-hidden--visually\" id=\"sk-estimator-id-71\" type=\"checkbox\" ><label for=\"sk-estimator-id-71\" class=\"sk-toggleable__label sk-toggleable__label-arrow\">SimpleImputer</label><div class=\"sk-toggleable__content\"><pre>SimpleImputer(strategy=&#x27;median&#x27;)</pre></div></div></div><div class=\"sk-item\"><div class=\"sk-estimator sk-toggleable\"><input class=\"sk-toggleable__control sk-hidden--visually\" id=\"sk-estimator-id-72\" type=\"checkbox\" ><label for=\"sk-estimator-id-72\" class=\"sk-toggleable__label sk-toggleable__label-arrow\">StandardScaler</label><div class=\"sk-toggleable__content\"><pre>StandardScaler()</pre></div></div></div></div></div></div></div></div><div class=\"sk-parallel-item\"><div class=\"sk-item\"><div class=\"sk-label-container\"><div class=\"sk-label sk-toggleable\"><input class=\"sk-toggleable__control sk-hidden--visually\" id=\"sk-estimator-id-73\" type=\"checkbox\" ><label for=\"sk-estimator-id-73\" class=\"sk-toggleable__label sk-toggleable__label-arrow\">categorical</label><div class=\"sk-toggleable__content\"><pre>[&#x27;ocean_proximity&#x27;]</pre></div></div></div><div class=\"sk-serial\"><div class=\"sk-item\"><div class=\"sk-serial\"><div class=\"sk-item\"><div class=\"sk-estimator sk-toggleable\"><input class=\"sk-toggleable__control sk-hidden--visually\" id=\"sk-estimator-id-74\" type=\"checkbox\" ><label for=\"sk-estimator-id-74\" class=\"sk-toggleable__label sk-toggleable__label-arrow\">SimpleImputer</label><div class=\"sk-toggleable__content\"><pre>SimpleImputer(strategy=&#x27;most_frequent&#x27;)</pre></div></div></div><div class=\"sk-item\"><div class=\"sk-estimator sk-toggleable\"><input class=\"sk-toggleable__control sk-hidden--visually\" id=\"sk-estimator-id-75\" type=\"checkbox\" ><label for=\"sk-estimator-id-75\" class=\"sk-toggleable__label sk-toggleable__label-arrow\">OneHotEncoder</label><div class=\"sk-toggleable__content\"><pre>OneHotEncoder()</pre></div></div></div></div></div></div></div></div><div class=\"sk-parallel-item\"><div class=\"sk-item\"><div class=\"sk-label-container\"><div class=\"sk-label sk-toggleable\"><input class=\"sk-toggleable__control sk-hidden--visually\" id=\"sk-estimator-id-76\" type=\"checkbox\" ><label for=\"sk-estimator-id-76\" class=\"sk-toggleable__label sk-toggleable__label-arrow\">rooms per household</label><div class=\"sk-toggleable__content\"><pre>[&#x27;total_rooms&#x27;, &#x27;households&#x27;]</pre></div></div></div><div class=\"sk-serial\"><div class=\"sk-item\"><div class=\"sk-serial\"><div class=\"sk-item\"><div class=\"sk-estimator sk-toggleable\"><input class=\"sk-toggleable__control sk-hidden--visually\" id=\"sk-estimator-id-77\" type=\"checkbox\" ><label for=\"sk-estimator-id-77\" class=\"sk-toggleable__label sk-toggleable__label-arrow\">SimpleImputer</label><div class=\"sk-toggleable__content\"><pre>SimpleImputer(strategy=&#x27;median&#x27;)</pre></div></div></div><div class=\"sk-item\"><div class=\"sk-estimator sk-toggleable\"><input class=\"sk-toggleable__control sk-hidden--visually\" id=\"sk-estimator-id-78\" type=\"checkbox\" ><label for=\"sk-estimator-id-78\" class=\"sk-toggleable__label sk-toggleable__label-arrow\">FunctionTransformer</label><div class=\"sk-toggleable__content\"><pre>FunctionTransformer(func=&lt;function raito at 0x30c69fc40&gt;)</pre></div></div></div><div class=\"sk-item\"><div class=\"sk-estimator sk-toggleable\"><input class=\"sk-toggleable__control sk-hidden--visually\" id=\"sk-estimator-id-79\" type=\"checkbox\" ><label for=\"sk-estimator-id-79\" class=\"sk-toggleable__label sk-toggleable__label-arrow\">StandardScaler</label><div class=\"sk-toggleable__content\"><pre>StandardScaler()</pre></div></div></div></div></div></div></div></div><div class=\"sk-parallel-item\"><div class=\"sk-item\"><div class=\"sk-label-container\"><div class=\"sk-label sk-toggleable\"><input class=\"sk-toggleable__control sk-hidden--visually\" id=\"sk-estimator-id-80\" type=\"checkbox\" ><label for=\"sk-estimator-id-80\" class=\"sk-toggleable__label sk-toggleable__label-arrow\">bedsrooms er households</label><div class=\"sk-toggleable__content\"><pre>[&#x27;total_bedrooms&#x27;, &#x27;households&#x27;]</pre></div></div></div><div class=\"sk-serial\"><div class=\"sk-item\"><div class=\"sk-serial\"><div class=\"sk-item\"><div class=\"sk-estimator sk-toggleable\"><input class=\"sk-toggleable__control sk-hidden--visually\" id=\"sk-estimator-id-81\" type=\"checkbox\" ><label for=\"sk-estimator-id-81\" class=\"sk-toggleable__label sk-toggleable__label-arrow\">SimpleImputer</label><div class=\"sk-toggleable__content\"><pre>SimpleImputer(strategy=&#x27;median&#x27;)</pre></div></div></div><div class=\"sk-item\"><div class=\"sk-estimator sk-toggleable\"><input class=\"sk-toggleable__control sk-hidden--visually\" id=\"sk-estimator-id-82\" type=\"checkbox\" ><label for=\"sk-estimator-id-82\" class=\"sk-toggleable__label sk-toggleable__label-arrow\">FunctionTransformer</label><div class=\"sk-toggleable__content\"><pre>FunctionTransformer(func=&lt;function raito at 0x30c69fc40&gt;)</pre></div></div></div><div class=\"sk-item\"><div class=\"sk-estimator sk-toggleable\"><input class=\"sk-toggleable__control sk-hidden--visually\" id=\"sk-estimator-id-83\" type=\"checkbox\" ><label for=\"sk-estimator-id-83\" class=\"sk-toggleable__label sk-toggleable__label-arrow\">StandardScaler</label><div class=\"sk-toggleable__content\"><pre>StandardScaler()</pre></div></div></div></div></div></div></div></div></div></div><div class=\"sk-item\"><div class=\"sk-estimator sk-toggleable\"><input class=\"sk-toggleable__control sk-hidden--visually\" id=\"sk-estimator-id-84\" type=\"checkbox\" ><label for=\"sk-estimator-id-84\" class=\"sk-toggleable__label sk-toggleable__label-arrow\">LinearRegression</label><div class=\"sk-toggleable__content\"><pre>LinearRegression()</pre></div></div></div></div></div></div></div>"
      ],
      "text/plain": [
       "Pipeline(steps=[('pipeline',\n",
       "                 ColumnTransformer(transformers=[('numerical with outliers',\n",
       "                                                  Pipeline(steps=[('simpleimputer',\n",
       "                                                                   SimpleImputer(strategy='median')),\n",
       "                                                                  ('functiontransformer',\n",
       "                                                                   FunctionTransformer(func=<ufunc 'log'>)),\n",
       "                                                                  ('standardscaler',\n",
       "                                                                   StandardScaler())]),\n",
       "                                                  ['housing_median_age',\n",
       "                                                   'total_rooms',\n",
       "                                                   'total_bedrooms',\n",
       "                                                   'population',\n",
       "                                                   'households']),\n",
       "                                                 ('numerical witho...\n",
       "                                                                   FunctionTransformer(func=<function raito at 0x30c69fc40>)),\n",
       "                                                                  ('standardscaler',\n",
       "                                                                   StandardScaler())]),\n",
       "                                                  ['total_rooms',\n",
       "                                                   'households']),\n",
       "                                                 ('bedsrooms er households',\n",
       "                                                  Pipeline(steps=[('simpleimputer',\n",
       "                                                                   SimpleImputer(strategy='median')),\n",
       "                                                                  ('functiontransformer',\n",
       "                                                                   FunctionTransformer(func=<function raito at 0x30c69fc40>)),\n",
       "                                                                  ('standardscaler',\n",
       "                                                                   StandardScaler())]),\n",
       "                                                  ['total_bedrooms',\n",
       "                                                   'households'])])),\n",
       "                ('model', LinearRegression())])"
      ]
     },
     "execution_count": 62,
     "metadata": {},
     "output_type": "execute_result"
    }
   ],
   "source": [
    "full_pipeline.fit(X_train, y_train)"
   ]
  },
  {
   "cell_type": "markdown",
   "id": "706cf3dd-eef2-48a2-8df0-b7ea4ebb167c",
   "metadata": {},
   "source": [
    "## Evaluation "
   ]
  },
  {
   "cell_type": "markdown",
   "id": "9e0e8e77-f13a-48db-8fcc-53f35ba5b540",
   "metadata": {},
   "source": [
    "Train Error, Validation Error (model evaluation and tunning), Test Error (Real World Accuracy)\n",
    "\n",
    "if train error <<< test error / validation error ? overfitting (regularization, simple model)\n",
    "\n",
    "if train error >>> very large ? underfitting (try to fit a complex model, hyper-parameter tunning, )"
   ]
  },
  {
   "cell_type": "code",
   "execution_count": 66,
   "id": "f01e89dc-c644-42dc-a92d-1469ee2dd271",
   "metadata": {},
   "outputs": [],
   "source": [
    "y_pred_train = full_pipeline.predict(X_train)"
   ]
  },
  {
   "cell_type": "code",
   "execution_count": 70,
   "id": "c6032831-2849-4987-bfef-bd52be947e57",
   "metadata": {},
   "outputs": [
    {
     "data": {
      "text/plain": [
       "array([103000., 382100., 172600.,  93400.,  96500.])"
      ]
     },
     "execution_count": 70,
     "metadata": {},
     "output_type": "execute_result"
    }
   ],
   "source": [
    "y_train[:5].to_numpy()"
   ]
  },
  {
   "cell_type": "code",
   "execution_count": 72,
   "id": "2d3ed772-8eab-43e0-8822-d914f2d56e5d",
   "metadata": {},
   "outputs": [
    {
     "data": {
      "text/plain": [
       "array([177536., 290944., 233600., 132288., 173696.])"
      ]
     },
     "execution_count": 72,
     "metadata": {},
     "output_type": "execute_result"
    }
   ],
   "source": [
    "y_pred_train[:5]"
   ]
  },
  {
   "cell_type": "code",
   "execution_count": 74,
   "id": "5dcd3511-d3db-4597-b0db-58c6c89170ef",
   "metadata": {},
   "outputs": [
    {
     "data": {
      "text/plain": [
       "array([74536., 91156., 61000., 38888., 77196.])"
      ]
     },
     "execution_count": 74,
     "metadata": {},
     "output_type": "execute_result"
    }
   ],
   "source": [
    "abs(y_train[:5].to_numpy() - y_pred_train[:5])"
   ]
  },
  {
   "cell_type": "code",
   "execution_count": 78,
   "id": "1eba3748-ae9d-4899-b7f5-b1cc0185629b",
   "metadata": {},
   "outputs": [
    {
     "data": {
      "text/plain": [
       "array([ 47700.,  45800., 500001., 218600., 278000.])"
      ]
     },
     "execution_count": 78,
     "metadata": {},
     "output_type": "execute_result"
    }
   ],
   "source": [
    "y_test[:5].to_numpy()[:5]"
   ]
  },
  {
   "cell_type": "code",
   "execution_count": 76,
   "id": "0badec9b-de35-46f7-8398-6d8c42545a7f",
   "metadata": {},
   "outputs": [
    {
     "data": {
      "text/plain": [
       "array([ 56128., 112448., 211840., 256256., 262528.])"
      ]
     },
     "execution_count": 76,
     "metadata": {},
     "output_type": "execute_result"
    }
   ],
   "source": [
    "y_pred_test = full_pipeline.predict(X_test)\n",
    "y_pred_test[:5]"
   ]
  },
  {
   "cell_type": "code",
   "execution_count": 84,
   "id": "aad549f3-d247-4968-9d43-221401b25675",
   "metadata": {},
   "outputs": [
    {
     "data": {
      "text/plain": [
       "array([  8428.,  66648., 288161.,  37656.,  15472.])"
      ]
     },
     "execution_count": 84,
     "metadata": {},
     "output_type": "execute_result"
    }
   ],
   "source": [
    "abs(y_test - y_pred_test)[:5].to_numpy()"
   ]
  },
  {
   "cell_type": "code",
   "execution_count": 86,
   "id": "8f96bba6-1078-4b40-82a1-42de37f61ae1",
   "metadata": {},
   "outputs": [
    {
     "data": {
      "text/plain": [
       "500001.0"
      ]
     },
     "execution_count": 86,
     "metadata": {},
     "output_type": "execute_result"
    }
   ],
   "source": [
    "max(y_train)"
   ]
  },
  {
   "cell_type": "code",
   "execution_count": null,
   "id": "dcdaf412-1695-42c4-bd37-1a91a600a855",
   "metadata": {},
   "outputs": [],
   "source": [
    "# house price predict\n",
    "# X_train  y_train     X_test y_test\n",
    "# error = y_actual - y_pred"
   ]
  },
  {
   "cell_type": "code",
   "execution_count": 225,
   "id": "e4587250-237e-48f5-8b4d-91fce3071236",
   "metadata": {},
   "outputs": [],
   "source": [
    "def evaluate(model, model_name):\n",
    "\n",
    "    full_pipeline = Pipeline([\n",
    "    (\"pipeline\", inner_pipeline), # prepare data for ML model\n",
    "    (\"model\", model() ) # ML Model \n",
    "    ])\n",
    "\n",
    "    full_pipeline.fit(X_train, y_train)\n",
    "    \n",
    "    print(\"\\n\")\n",
    "    print(f\"Model: {model_name.center(60)}\")\n",
    "    y_pred_train = full_pipeline.predict(X_train)\n",
    "    mse_train = mean_squared_error(y_train, y_pred_train)\n",
    "    rmse_train = np.sqrt(mse_train)\n",
    "    percent_train_error = (rmse_train/y_train.mean())*100\n",
    "    r2_score_train = r2_score(y_train, y_pred_train)*100\n",
    "    print(f\"RMSE Train: {rmse_train.round(2)} Train % Error: {percent_train_error.round(2)}%\")\n",
    "    print(f\"Training Accuracy: {r2_score_train.round(2)} %\")\n",
    "    \n",
    "    \n",
    "    y_pred_test = full_pipeline.predict(X_test)\n",
    "    mse_test = mean_squared_error(y_test, y_pred_test)\n",
    "    rmse_test = np.sqrt(mse_test)\n",
    "    percent_test_error = (rmse_test/y_test.mean())*100\n",
    "    r2_score_test = r2_score(y_test, y_pred_test)*100\n",
    "    print(f\"\\n\\nRMSE Test: {rmse_test.round(2)} Test % Error: {percent_test_error.round(2)}%\")\n",
    "    print(f\"Test Accuracy: {r2_score_test.round(2)} %\")\n",
    "    print()"
   ]
  },
  {
   "cell_type": "markdown",
   "id": "d32c1d9a-46bd-4d20-8ddd-0ae41b826fc6",
   "metadata": {},
   "source": [
    "# Model Selection \n",
    "\n",
    "    Try different ML models and figure out best Model to use for given problem set aka has less error "
   ]
  },
  {
   "cell_type": "code",
   "execution_count": 118,
   "id": "089bc689-92ad-45c2-bacc-e9757b77312d",
   "metadata": {},
   "outputs": [],
   "source": [
    "def evaulate(models):\n",
    "    performance = [] # {\"name\":\"Linear Regression\", \"train error\": 30000, \"test error\": 40000, \"train accuray\": 70, \"test_accuracy\": 50, }\n",
    "    for model_name, model in models.items():\n",
    "        full_pipeline = Pipeline([\n",
    "            (\"pipeline\", inner_pipeline), # prepare data for ML model\n",
    "            (\"model\", model() ) # ML Model\n",
    "        ])\n",
    "        # train Error Estimation\n",
    "        print(f\"Training Model {model_name}\")\n",
    "        full_pipeline.fit(X_train, y_train)\n",
    "        y_train_hat = full_pipeline.predict(X_train)\n",
    "        train_error = np.sqrt(mean_squared_error(y_train, y_train_hat))\n",
    "        train_error_percent = (train_error / y_train.mean())*100\n",
    "        train_acc = r2_score(y_train, y_train_hat)*100\n",
    "        # Test Error Estimation\n",
    "        y_test_hat = full_pipeline.predict(X_test)\n",
    "        test_error = np.sqrt(mean_squared_error(y_test, y_test_hat))\n",
    "        test_error_percent = (test_error / y_test.mean())*100\n",
    "        test_acc = r2_score(y_test, y_test_hat)*100\n",
    "        performance.append({\n",
    "            \"name\": model_name,\n",
    "            \"train error\": train_error.round(2),\n",
    "            \"train error%\": train_error_percent.round(2),\n",
    "            \"train acc\": train_acc.round(2),\n",
    "            \"test error\": test_error.round(2),\n",
    "            \"test error%\": test_error_percent.round(2),\n",
    "            \"test acc\": test_acc.round(2),\n",
    "        })\n",
    "\n",
    "    print(\"_\"*120)\n",
    "    print(f\"|{'Model Name':^40}|{'Train Error':^12}|{'Test Error':^12}|{'Train Error%':^12}|{'Test Error%':^12}|{'Train Acc':^10}|{'Test Acc':^10}|\".center(100))\n",
    "    # 8 pipes + 88 \n",
    "    print(\"_\"*120)\n",
    "    for d in performance:\n",
    "        print(f\"|{d['name']:^40}|{d['train error']:^12}|{d['test error']:^12}|{d['train error%']:^12}|{d['test error%']:^12}|{d['train acc']:^10}|{d['test acc']:^10}|\".center(100))\n",
    "        print(\"-\"*120)"
   ]
  },
  {
   "cell_type": "code",
   "execution_count": 120,
   "id": "a131c7a6-65b8-4fe5-849d-d0b0e3a324df",
   "metadata": {},
   "outputs": [],
   "source": [
    "models = {\n",
    "    \"Linear Regression\": LinearRegression,\n",
    "    \"Decison Tree Regressor\": DecisionTreeRegressor,\n",
    "    \"Support Vector Machines Regressor\": SVR,\n",
    "    \"Random Forest Regressor\": RandomForestRegressor\n",
    "}"
   ]
  },
  {
   "cell_type": "code",
   "execution_count": 122,
   "id": "8f6e6345-fd1b-4cb8-9dc3-9380f512e617",
   "metadata": {},
   "outputs": [
    {
     "name": "stdout",
     "output_type": "stream",
     "text": [
      "Training Model Linear Regression\n",
      "Training Model Decison Tree Regressor\n",
      "Training Model Support Vector Machines Regressor\n",
      "Training Model Random Forest Regressor\n",
      "________________________________________________________________________________________________________________________\n",
      "|               Model Name               |Train Error | Test Error |Train Error%|Test Error% |Train Acc | Test Acc |\n",
      "________________________________________________________________________________________________________________________\n",
      "|           Linear Regression            |  65990.66  |  71768.72  |   31.85    |   34.92    |  67.42   |  60.69   |\n",
      "------------------------------------------------------------------------------------------------------------------------\n",
      "|         Decison Tree Regressor         |    0.0     |  72649.89  |    0.0     |   35.35    |  100.0   |  59.72   |\n",
      "------------------------------------------------------------------------------------------------------------------------\n",
      "|   Support Vector Machines Regressor    | 118462.88  | 116972.36  |   57.17    |   56.92    |  -4.98   |  -4.41   |\n",
      "------------------------------------------------------------------------------------------------------------------------\n",
      "|        Random Forest Regressor         |  18345.74  |  49821.56  |    8.85    |   24.24    |  97.48   |  81.06   |\n",
      "------------------------------------------------------------------------------------------------------------------------\n"
     ]
    }
   ],
   "source": [
    "evaulate(models)"
   ]
  },
  {
   "cell_type": "markdown",
   "id": "5f9a9862-8307-4bde-a779-8eff801c3afa",
   "metadata": {},
   "source": [
    "#### Cross Validation "
   ]
  },
  {
   "cell_type": "code",
   "execution_count": 124,
   "id": "7dec47a2-7fd3-4f66-82a6-fa66abe161d6",
   "metadata": {},
   "outputs": [],
   "source": [
    "from sklearn.model_selection import cross_val_score"
   ]
  },
  {
   "cell_type": "markdown",
   "id": "07f973df-d8a8-4005-ab3c-44ab2fa2b290",
   "metadata": {},
   "source": [
    "    greater is better in terms of score"
   ]
  },
  {
   "cell_type": "code",
   "execution_count": 149,
   "id": "96f14a77-9f6a-45e0-b1bb-5772528e35ea",
   "metadata": {},
   "outputs": [],
   "source": [
    "model = Pipeline([\n",
    "            (\"pipeline\", inner_pipeline), # prepare data for ML model\n",
    "            (\"model\", RandomForestRegressor() ) # ML Model\n",
    "        ])"
   ]
  },
  {
   "cell_type": "code",
   "execution_count": null,
   "id": "eea14a7d-9efb-4e4b-92d9-92cf051d3b8a",
   "metadata": {},
   "outputs": [],
   "source": []
  },
  {
   "cell_type": "code",
   "execution_count": 152,
   "id": "7a352d3a-5194-44f5-8cce-98abc8113f61",
   "metadata": {},
   "outputs": [],
   "source": [
    "scores = cross_val_score(model, X_train, y_train, cv=5, scoring='neg_mean_squared_error')\n",
    "scores = np.sqrt(-scores)"
   ]
  },
  {
   "cell_type": "code",
   "execution_count": 153,
   "id": "682bb005-d797-4946-92ec-c6ab54fe9b2b",
   "metadata": {},
   "outputs": [
    {
     "data": {
      "text/plain": [
       "array([49847.34867279, 50192.40816459, 49712.81073951, 49557.38812768,\n",
       "       50458.31527822])"
      ]
     },
     "execution_count": 153,
     "metadata": {},
     "output_type": "execute_result"
    }
   ],
   "source": [
    "scores"
   ]
  },
  {
   "cell_type": "code",
   "execution_count": 154,
   "id": "48b7a99c-37d5-4a7d-bed3-5d78bb49471c",
   "metadata": {},
   "outputs": [
    {
     "data": {
      "text/plain": [
       "49953.654196559466"
      ]
     },
     "execution_count": 154,
     "metadata": {},
     "output_type": "execute_result"
    }
   ],
   "source": [
    "scores.mean()"
   ]
  },
  {
   "cell_type": "markdown",
   "id": "f38dbcee-2ab7-44f7-84a2-4600b00df25e",
   "metadata": {},
   "source": [
    "## Hyper Parameter Tunning "
   ]
  },
  {
   "cell_type": "markdown",
   "id": "4617ecac-b6fd-4c4a-bda4-2cdd7daccf8d",
   "metadata": {},
   "source": [
    "what are hyper-parameters ? \n",
    "\n",
    "    parameters set during model initilization, training depends on hyper-parameters"
   ]
  },
  {
   "cell_type": "raw",
   "id": "09fb81e6-3eb6-471d-bb6b-f23a61c63b8a",
   "metadata": {},
   "source": [
    "class sklearn.ensemble.RandomForestRegressor(n_estimators=100, *, criterion='squared_error', max_depth=None, min_samples_split=2, min_samples_leaf=1, min_weight_fraction_leaf=0.0, max_features=1.0, max_leaf_nodes=None, min_impurity_decrease=0.0, bootstrap=True, oob_score=False, n_jobs=None, random_state=None, verbose=0, warm_start=False, ccp_alpha=0.0, max_samples=None, monotonic_cst=None)[source]\n"
   ]
  },
  {
   "cell_type": "markdown",
   "id": "09ac6f9b-c74c-476c-8b2a-00786073e246",
   "metadata": {},
   "source": [
    "hyper_parameter \n",
    "\n",
    "    n_estimators =  100       200\n",
    "    train error =  18347      18153\n",
    "    test error  =  49777      49836\n",
    "\n",
    "\n",
    "    n_estimators = 100    max_depth = 10      min_sampes_split = 100\n",
    "\n",
    "    train error  52474\n",
    "    test  error  57652"
   ]
  },
  {
   "cell_type": "code",
   "execution_count": 183,
   "id": "6f9bd32a-8672-4125-aa24-dc75c8cb6155",
   "metadata": {},
   "outputs": [
    {
     "name": "stdout",
     "output_type": "stream",
     "text": [
      "Train Error:  50087.05545347766\n",
      "Test Error:  56119.97826227327\n"
     ]
    }
   ],
   "source": [
    "model = Pipeline([\n",
    "            (\"pipeline\", inner_pipeline), # prepare data for ML model\n",
    "            (\"model\", RandomForestRegressor(\n",
    "                n_estimators=100, max_depth=15, min_samples_split=100,\n",
    "                n_jobs=-1\n",
    "            ) ) # ML Model\n",
    "        ])\n",
    "\n",
    "model.fit(X_train, y_train)\n",
    "y_hat_train = model.predict(X_train)\n",
    "train_error = np.sqrt(mean_squared_error(y_train, y_hat_train))\n",
    "print(\"Train Error: \", train_error)\n",
    "y_hat = model.predict(X_test)\n",
    "error = np.sqrt(mean_squared_error(y_test, y_hat))\n",
    "print(\"Test Error: \", error)"
   ]
  },
  {
   "cell_type": "code",
   "execution_count": 185,
   "id": "1062a365-fb3a-4e1c-bf36-e1ccfcdda2bc",
   "metadata": {},
   "outputs": [
    {
     "data": {
      "text/plain": [
       "0.27085625239644434"
      ]
     },
     "execution_count": 185,
     "metadata": {},
     "output_type": "execute_result"
    }
   ],
   "source": [
    "error/y_train.mean()"
   ]
  },
  {
   "cell_type": "code",
   "execution_count": 187,
   "id": "a5d2c8eb-9107-44c8-939e-fd50ee4f266c",
   "metadata": {},
   "outputs": [],
   "source": [
    "from sklearn.model_selection import GridSearchCV, RandomizedSearchCV\n",
    "#                                 list              random generate"
   ]
  },
  {
   "cell_type": "code",
   "execution_count": 189,
   "id": "be992eb6-426e-4ba9-b1fc-23f5526c7d3b",
   "metadata": {},
   "outputs": [
    {
     "data": {
      "text/plain": [
       "{'memory': None,\n",
       " 'steps': [('pipeline',\n",
       "   ColumnTransformer(transformers=[('numerical with outliers',\n",
       "                                    Pipeline(steps=[('simpleimputer',\n",
       "                                                     SimpleImputer(strategy='median')),\n",
       "                                                    ('functiontransformer',\n",
       "                                                     FunctionTransformer(func=<ufunc 'log'>)),\n",
       "                                                    ('standardscaler',\n",
       "                                                     StandardScaler())]),\n",
       "                                    ['housing_median_age', 'total_rooms',\n",
       "                                     'total_bedrooms', 'population',\n",
       "                                     'households']),\n",
       "                                   ('numerical without outliers',\n",
       "                                    Pipeline(steps=[...\n",
       "                                                     FunctionTransformer(func=<function raito at 0x30c69fc40>)),\n",
       "                                                    ('standardscaler',\n",
       "                                                     StandardScaler())]),\n",
       "                                    ['total_rooms', 'households']),\n",
       "                                   ('bedsrooms er households',\n",
       "                                    Pipeline(steps=[('simpleimputer',\n",
       "                                                     SimpleImputer(strategy='median')),\n",
       "                                                    ('functiontransformer',\n",
       "                                                     FunctionTransformer(func=<function raito at 0x30c69fc40>)),\n",
       "                                                    ('standardscaler',\n",
       "                                                     StandardScaler())]),\n",
       "                                    ['total_bedrooms', 'households'])])),\n",
       "  ('model',\n",
       "   RandomForestRegressor(max_depth=15, min_samples_split=100, n_jobs=-1))],\n",
       " 'verbose': False,\n",
       " 'pipeline': ColumnTransformer(transformers=[('numerical with outliers',\n",
       "                                  Pipeline(steps=[('simpleimputer',\n",
       "                                                   SimpleImputer(strategy='median')),\n",
       "                                                  ('functiontransformer',\n",
       "                                                   FunctionTransformer(func=<ufunc 'log'>)),\n",
       "                                                  ('standardscaler',\n",
       "                                                   StandardScaler())]),\n",
       "                                  ['housing_median_age', 'total_rooms',\n",
       "                                   'total_bedrooms', 'population',\n",
       "                                   'households']),\n",
       "                                 ('numerical without outliers',\n",
       "                                  Pipeline(steps=[...\n",
       "                                                   FunctionTransformer(func=<function raito at 0x30c69fc40>)),\n",
       "                                                  ('standardscaler',\n",
       "                                                   StandardScaler())]),\n",
       "                                  ['total_rooms', 'households']),\n",
       "                                 ('bedsrooms er households',\n",
       "                                  Pipeline(steps=[('simpleimputer',\n",
       "                                                   SimpleImputer(strategy='median')),\n",
       "                                                  ('functiontransformer',\n",
       "                                                   FunctionTransformer(func=<function raito at 0x30c69fc40>)),\n",
       "                                                  ('standardscaler',\n",
       "                                                   StandardScaler())]),\n",
       "                                  ['total_bedrooms', 'households'])]),\n",
       " 'model': RandomForestRegressor(max_depth=15, min_samples_split=100, n_jobs=-1),\n",
       " 'pipeline__n_jobs': None,\n",
       " 'pipeline__remainder': 'drop',\n",
       " 'pipeline__sparse_threshold': 0.3,\n",
       " 'pipeline__transformer_weights': None,\n",
       " 'pipeline__transformers': [('numerical with outliers',\n",
       "   Pipeline(steps=[('simpleimputer', SimpleImputer(strategy='median')),\n",
       "                   ('functiontransformer',\n",
       "                    FunctionTransformer(func=<ufunc 'log'>)),\n",
       "                   ('standardscaler', StandardScaler())]),\n",
       "   ['housing_median_age',\n",
       "    'total_rooms',\n",
       "    'total_bedrooms',\n",
       "    'population',\n",
       "    'households']),\n",
       "  ('numerical without outliers',\n",
       "   Pipeline(steps=[('simpleimputer', SimpleImputer(strategy='median')),\n",
       "                   ('standardscaler', StandardScaler())]),\n",
       "   ['longitude', 'latitude', 'median_income']),\n",
       "  ('categorical',\n",
       "   Pipeline(steps=[('simpleimputer', SimpleImputer(strategy='most_frequent')),\n",
       "                   ('onehotencoder', OneHotEncoder())]),\n",
       "   ['ocean_proximity']),\n",
       "  ('rooms per household',\n",
       "   Pipeline(steps=[('simpleimputer', SimpleImputer(strategy='median')),\n",
       "                   ('functiontransformer',\n",
       "                    FunctionTransformer(func=<function raito at 0x30c69fc40>)),\n",
       "                   ('standardscaler', StandardScaler())]),\n",
       "   ['total_rooms', 'households']),\n",
       "  ('bedsrooms er households',\n",
       "   Pipeline(steps=[('simpleimputer', SimpleImputer(strategy='median')),\n",
       "                   ('functiontransformer',\n",
       "                    FunctionTransformer(func=<function raito at 0x30c69fc40>)),\n",
       "                   ('standardscaler', StandardScaler())]),\n",
       "   ['total_bedrooms', 'households'])],\n",
       " 'pipeline__verbose': False,\n",
       " 'pipeline__verbose_feature_names_out': True,\n",
       " 'pipeline__numerical with outliers': Pipeline(steps=[('simpleimputer', SimpleImputer(strategy='median')),\n",
       "                 ('functiontransformer',\n",
       "                  FunctionTransformer(func=<ufunc 'log'>)),\n",
       "                 ('standardscaler', StandardScaler())]),\n",
       " 'pipeline__numerical without outliers': Pipeline(steps=[('simpleimputer', SimpleImputer(strategy='median')),\n",
       "                 ('standardscaler', StandardScaler())]),\n",
       " 'pipeline__categorical': Pipeline(steps=[('simpleimputer', SimpleImputer(strategy='most_frequent')),\n",
       "                 ('onehotencoder', OneHotEncoder())]),\n",
       " 'pipeline__rooms per household': Pipeline(steps=[('simpleimputer', SimpleImputer(strategy='median')),\n",
       "                 ('functiontransformer',\n",
       "                  FunctionTransformer(func=<function raito at 0x30c69fc40>)),\n",
       "                 ('standardscaler', StandardScaler())]),\n",
       " 'pipeline__bedsrooms er households': Pipeline(steps=[('simpleimputer', SimpleImputer(strategy='median')),\n",
       "                 ('functiontransformer',\n",
       "                  FunctionTransformer(func=<function raito at 0x30c69fc40>)),\n",
       "                 ('standardscaler', StandardScaler())]),\n",
       " 'pipeline__numerical with outliers__memory': None,\n",
       " 'pipeline__numerical with outliers__steps': [('simpleimputer',\n",
       "   SimpleImputer(strategy='median')),\n",
       "  ('functiontransformer', FunctionTransformer(func=<ufunc 'log'>)),\n",
       "  ('standardscaler', StandardScaler())],\n",
       " 'pipeline__numerical with outliers__verbose': False,\n",
       " 'pipeline__numerical with outliers__simpleimputer': SimpleImputer(strategy='median'),\n",
       " 'pipeline__numerical with outliers__functiontransformer': FunctionTransformer(func=<ufunc 'log'>),\n",
       " 'pipeline__numerical with outliers__standardscaler': StandardScaler(),\n",
       " 'pipeline__numerical with outliers__simpleimputer__add_indicator': False,\n",
       " 'pipeline__numerical with outliers__simpleimputer__copy': True,\n",
       " 'pipeline__numerical with outliers__simpleimputer__fill_value': None,\n",
       " 'pipeline__numerical with outliers__simpleimputer__keep_empty_features': False,\n",
       " 'pipeline__numerical with outliers__simpleimputer__missing_values': nan,\n",
       " 'pipeline__numerical with outliers__simpleimputer__strategy': 'median',\n",
       " 'pipeline__numerical with outliers__simpleimputer__verbose': 'deprecated',\n",
       " 'pipeline__numerical with outliers__functiontransformer__accept_sparse': False,\n",
       " 'pipeline__numerical with outliers__functiontransformer__check_inverse': True,\n",
       " 'pipeline__numerical with outliers__functiontransformer__feature_names_out': None,\n",
       " 'pipeline__numerical with outliers__functiontransformer__func': <ufunc 'log'>,\n",
       " 'pipeline__numerical with outliers__functiontransformer__inv_kw_args': None,\n",
       " 'pipeline__numerical with outliers__functiontransformer__inverse_func': None,\n",
       " 'pipeline__numerical with outliers__functiontransformer__kw_args': None,\n",
       " 'pipeline__numerical with outliers__functiontransformer__validate': False,\n",
       " 'pipeline__numerical with outliers__standardscaler__copy': True,\n",
       " 'pipeline__numerical with outliers__standardscaler__with_mean': True,\n",
       " 'pipeline__numerical with outliers__standardscaler__with_std': True,\n",
       " 'pipeline__numerical without outliers__memory': None,\n",
       " 'pipeline__numerical without outliers__steps': [('simpleimputer',\n",
       "   SimpleImputer(strategy='median')),\n",
       "  ('standardscaler', StandardScaler())],\n",
       " 'pipeline__numerical without outliers__verbose': False,\n",
       " 'pipeline__numerical without outliers__simpleimputer': SimpleImputer(strategy='median'),\n",
       " 'pipeline__numerical without outliers__standardscaler': StandardScaler(),\n",
       " 'pipeline__numerical without outliers__simpleimputer__add_indicator': False,\n",
       " 'pipeline__numerical without outliers__simpleimputer__copy': True,\n",
       " 'pipeline__numerical without outliers__simpleimputer__fill_value': None,\n",
       " 'pipeline__numerical without outliers__simpleimputer__keep_empty_features': False,\n",
       " 'pipeline__numerical without outliers__simpleimputer__missing_values': nan,\n",
       " 'pipeline__numerical without outliers__simpleimputer__strategy': 'median',\n",
       " 'pipeline__numerical without outliers__simpleimputer__verbose': 'deprecated',\n",
       " 'pipeline__numerical without outliers__standardscaler__copy': True,\n",
       " 'pipeline__numerical without outliers__standardscaler__with_mean': True,\n",
       " 'pipeline__numerical without outliers__standardscaler__with_std': True,\n",
       " 'pipeline__categorical__memory': None,\n",
       " 'pipeline__categorical__steps': [('simpleimputer',\n",
       "   SimpleImputer(strategy='most_frequent')),\n",
       "  ('onehotencoder', OneHotEncoder())],\n",
       " 'pipeline__categorical__verbose': False,\n",
       " 'pipeline__categorical__simpleimputer': SimpleImputer(strategy='most_frequent'),\n",
       " 'pipeline__categorical__onehotencoder': OneHotEncoder(),\n",
       " 'pipeline__categorical__simpleimputer__add_indicator': False,\n",
       " 'pipeline__categorical__simpleimputer__copy': True,\n",
       " 'pipeline__categorical__simpleimputer__fill_value': None,\n",
       " 'pipeline__categorical__simpleimputer__keep_empty_features': False,\n",
       " 'pipeline__categorical__simpleimputer__missing_values': nan,\n",
       " 'pipeline__categorical__simpleimputer__strategy': 'most_frequent',\n",
       " 'pipeline__categorical__simpleimputer__verbose': 'deprecated',\n",
       " 'pipeline__categorical__onehotencoder__categories': 'auto',\n",
       " 'pipeline__categorical__onehotencoder__drop': None,\n",
       " 'pipeline__categorical__onehotencoder__dtype': numpy.float64,\n",
       " 'pipeline__categorical__onehotencoder__handle_unknown': 'error',\n",
       " 'pipeline__categorical__onehotencoder__max_categories': None,\n",
       " 'pipeline__categorical__onehotencoder__min_frequency': None,\n",
       " 'pipeline__categorical__onehotencoder__sparse': 'deprecated',\n",
       " 'pipeline__categorical__onehotencoder__sparse_output': True,\n",
       " 'pipeline__rooms per household__memory': None,\n",
       " 'pipeline__rooms per household__steps': [('simpleimputer',\n",
       "   SimpleImputer(strategy='median')),\n",
       "  ('functiontransformer',\n",
       "   FunctionTransformer(func=<function raito at 0x30c69fc40>)),\n",
       "  ('standardscaler', StandardScaler())],\n",
       " 'pipeline__rooms per household__verbose': False,\n",
       " 'pipeline__rooms per household__simpleimputer': SimpleImputer(strategy='median'),\n",
       " 'pipeline__rooms per household__functiontransformer': FunctionTransformer(func=<function raito at 0x30c69fc40>),\n",
       " 'pipeline__rooms per household__standardscaler': StandardScaler(),\n",
       " 'pipeline__rooms per household__simpleimputer__add_indicator': False,\n",
       " 'pipeline__rooms per household__simpleimputer__copy': True,\n",
       " 'pipeline__rooms per household__simpleimputer__fill_value': None,\n",
       " 'pipeline__rooms per household__simpleimputer__keep_empty_features': False,\n",
       " 'pipeline__rooms per household__simpleimputer__missing_values': nan,\n",
       " 'pipeline__rooms per household__simpleimputer__strategy': 'median',\n",
       " 'pipeline__rooms per household__simpleimputer__verbose': 'deprecated',\n",
       " 'pipeline__rooms per household__functiontransformer__accept_sparse': False,\n",
       " 'pipeline__rooms per household__functiontransformer__check_inverse': True,\n",
       " 'pipeline__rooms per household__functiontransformer__feature_names_out': None,\n",
       " 'pipeline__rooms per household__functiontransformer__func': <function __main__.raito(X, y=None)>,\n",
       " 'pipeline__rooms per household__functiontransformer__inv_kw_args': None,\n",
       " 'pipeline__rooms per household__functiontransformer__inverse_func': None,\n",
       " 'pipeline__rooms per household__functiontransformer__kw_args': None,\n",
       " 'pipeline__rooms per household__functiontransformer__validate': False,\n",
       " 'pipeline__rooms per household__standardscaler__copy': True,\n",
       " 'pipeline__rooms per household__standardscaler__with_mean': True,\n",
       " 'pipeline__rooms per household__standardscaler__with_std': True,\n",
       " 'pipeline__bedsrooms er households__memory': None,\n",
       " 'pipeline__bedsrooms er households__steps': [('simpleimputer',\n",
       "   SimpleImputer(strategy='median')),\n",
       "  ('functiontransformer',\n",
       "   FunctionTransformer(func=<function raito at 0x30c69fc40>)),\n",
       "  ('standardscaler', StandardScaler())],\n",
       " 'pipeline__bedsrooms er households__verbose': False,\n",
       " 'pipeline__bedsrooms er households__simpleimputer': SimpleImputer(strategy='median'),\n",
       " 'pipeline__bedsrooms er households__functiontransformer': FunctionTransformer(func=<function raito at 0x30c69fc40>),\n",
       " 'pipeline__bedsrooms er households__standardscaler': StandardScaler(),\n",
       " 'pipeline__bedsrooms er households__simpleimputer__add_indicator': False,\n",
       " 'pipeline__bedsrooms er households__simpleimputer__copy': True,\n",
       " 'pipeline__bedsrooms er households__simpleimputer__fill_value': None,\n",
       " 'pipeline__bedsrooms er households__simpleimputer__keep_empty_features': False,\n",
       " 'pipeline__bedsrooms er households__simpleimputer__missing_values': nan,\n",
       " 'pipeline__bedsrooms er households__simpleimputer__strategy': 'median',\n",
       " 'pipeline__bedsrooms er households__simpleimputer__verbose': 'deprecated',\n",
       " 'pipeline__bedsrooms er households__functiontransformer__accept_sparse': False,\n",
       " 'pipeline__bedsrooms er households__functiontransformer__check_inverse': True,\n",
       " 'pipeline__bedsrooms er households__functiontransformer__feature_names_out': None,\n",
       " 'pipeline__bedsrooms er households__functiontransformer__func': <function __main__.raito(X, y=None)>,\n",
       " 'pipeline__bedsrooms er households__functiontransformer__inv_kw_args': None,\n",
       " 'pipeline__bedsrooms er households__functiontransformer__inverse_func': None,\n",
       " 'pipeline__bedsrooms er households__functiontransformer__kw_args': None,\n",
       " 'pipeline__bedsrooms er households__functiontransformer__validate': False,\n",
       " 'pipeline__bedsrooms er households__standardscaler__copy': True,\n",
       " 'pipeline__bedsrooms er households__standardscaler__with_mean': True,\n",
       " 'pipeline__bedsrooms er households__standardscaler__with_std': True,\n",
       " 'model__bootstrap': True,\n",
       " 'model__ccp_alpha': 0.0,\n",
       " 'model__criterion': 'squared_error',\n",
       " 'model__max_depth': 15,\n",
       " 'model__max_features': 1.0,\n",
       " 'model__max_leaf_nodes': None,\n",
       " 'model__max_samples': None,\n",
       " 'model__min_impurity_decrease': 0.0,\n",
       " 'model__min_samples_leaf': 1,\n",
       " 'model__min_samples_split': 100,\n",
       " 'model__min_weight_fraction_leaf': 0.0,\n",
       " 'model__n_estimators': 100,\n",
       " 'model__n_jobs': -1,\n",
       " 'model__oob_score': False,\n",
       " 'model__random_state': None,\n",
       " 'model__verbose': 0,\n",
       " 'model__warm_start': False}"
      ]
     },
     "execution_count": 189,
     "metadata": {},
     "output_type": "execute_result"
    }
   ],
   "source": [
    "model.get_params()"
   ]
  },
  {
   "cell_type": "code",
   "execution_count": null,
   "id": "61838613-0dff-4171-994b-5f73def0a450",
   "metadata": {},
   "outputs": [],
   "source": [
    "\n",
    "model = Pipeline([\n",
    "            (\"pipeline\", inner_pipeline), # prepare data for ML model\n",
    "            (\"model\", RandomForestRegressor() # ML Model\n",
    "        ])"
   ]
  },
  {
   "cell_type": "code",
   "execution_count": 199,
   "id": "1ba41d44-9e42-4619-8b47-8a40ccf4b605",
   "metadata": {},
   "outputs": [],
   "source": [
    "param_grid = [\n",
    "    {\n",
    "        'pipeline__numerical without outliers__simpleimputer__strategy': ['median', 'mean'],\n",
    "        'model__max_depth': [5, 10, 15, 20],\n",
    "        'model__max_features': [1, 2, 3, 4, 5],\n",
    "        'model__min_samples_split': [10, 20, 30, 50, 80, 100],\n",
    "        'model__n_jobs': [-1]\n",
    "    },\n",
    "    # {\n",
    "    #     'pipeline__numerical without outliers__simpleimputer__strategy': ['median', 'mean'],\n",
    "    #     'model__max_depth': [15, 20],\n",
    "    #     'model__max_features': [ 4, 5],\n",
    "    #     'model__min_samples_split': [10, 20, 30],\n",
    "    # },\n",
    "    \n",
    "]"
   ]
  },
  {
   "cell_type": "code",
   "execution_count": 201,
   "id": "b962c454-b893-4e28-9c59-c9f5f962262f",
   "metadata": {},
   "outputs": [],
   "source": [
    "grid_search = GridSearchCV(model, param_grid, cv=3, scoring=\"neg_root_mean_squared_error\")"
   ]
  },
  {
   "cell_type": "code",
   "execution_count": 203,
   "id": "7c06e444-f910-42d2-ad3d-2bf224a04ddd",
   "metadata": {},
   "outputs": [
    {
     "data": {
      "text/html": [
       "<style>#sk-container-id-5 {color: black;background-color: white;}#sk-container-id-5 pre{padding: 0;}#sk-container-id-5 div.sk-toggleable {background-color: white;}#sk-container-id-5 label.sk-toggleable__label {cursor: pointer;display: block;width: 100%;margin-bottom: 0;padding: 0.3em;box-sizing: border-box;text-align: center;}#sk-container-id-5 label.sk-toggleable__label-arrow:before {content: \"▸\";float: left;margin-right: 0.25em;color: #696969;}#sk-container-id-5 label.sk-toggleable__label-arrow:hover:before {color: black;}#sk-container-id-5 div.sk-estimator:hover label.sk-toggleable__label-arrow:before {color: black;}#sk-container-id-5 div.sk-toggleable__content {max-height: 0;max-width: 0;overflow: hidden;text-align: left;background-color: #f0f8ff;}#sk-container-id-5 div.sk-toggleable__content pre {margin: 0.2em;color: black;border-radius: 0.25em;background-color: #f0f8ff;}#sk-container-id-5 input.sk-toggleable__control:checked~div.sk-toggleable__content {max-height: 200px;max-width: 100%;overflow: auto;}#sk-container-id-5 input.sk-toggleable__control:checked~label.sk-toggleable__label-arrow:before {content: \"▾\";}#sk-container-id-5 div.sk-estimator input.sk-toggleable__control:checked~label.sk-toggleable__label {background-color: #d4ebff;}#sk-container-id-5 div.sk-label input.sk-toggleable__control:checked~label.sk-toggleable__label {background-color: #d4ebff;}#sk-container-id-5 input.sk-hidden--visually {border: 0;clip: rect(1px 1px 1px 1px);clip: rect(1px, 1px, 1px, 1px);height: 1px;margin: -1px;overflow: hidden;padding: 0;position: absolute;width: 1px;}#sk-container-id-5 div.sk-estimator {font-family: monospace;background-color: #f0f8ff;border: 1px dotted black;border-radius: 0.25em;box-sizing: border-box;margin-bottom: 0.5em;}#sk-container-id-5 div.sk-estimator:hover {background-color: #d4ebff;}#sk-container-id-5 div.sk-parallel-item::after {content: \"\";width: 100%;border-bottom: 1px solid gray;flex-grow: 1;}#sk-container-id-5 div.sk-label:hover label.sk-toggleable__label {background-color: #d4ebff;}#sk-container-id-5 div.sk-serial::before {content: \"\";position: absolute;border-left: 1px solid gray;box-sizing: border-box;top: 0;bottom: 0;left: 50%;z-index: 0;}#sk-container-id-5 div.sk-serial {display: flex;flex-direction: column;align-items: center;background-color: white;padding-right: 0.2em;padding-left: 0.2em;position: relative;}#sk-container-id-5 div.sk-item {position: relative;z-index: 1;}#sk-container-id-5 div.sk-parallel {display: flex;align-items: stretch;justify-content: center;background-color: white;position: relative;}#sk-container-id-5 div.sk-item::before, #sk-container-id-5 div.sk-parallel-item::before {content: \"\";position: absolute;border-left: 1px solid gray;box-sizing: border-box;top: 0;bottom: 0;left: 50%;z-index: -1;}#sk-container-id-5 div.sk-parallel-item {display: flex;flex-direction: column;z-index: 1;position: relative;background-color: white;}#sk-container-id-5 div.sk-parallel-item:first-child::after {align-self: flex-end;width: 50%;}#sk-container-id-5 div.sk-parallel-item:last-child::after {align-self: flex-start;width: 50%;}#sk-container-id-5 div.sk-parallel-item:only-child::after {width: 0;}#sk-container-id-5 div.sk-dashed-wrapped {border: 1px dashed gray;margin: 0 0.4em 0.5em 0.4em;box-sizing: border-box;padding-bottom: 0.4em;background-color: white;}#sk-container-id-5 div.sk-label label {font-family: monospace;font-weight: bold;display: inline-block;line-height: 1.2em;}#sk-container-id-5 div.sk-label-container {text-align: center;}#sk-container-id-5 div.sk-container {/* jupyter's `normalize.less` sets `[hidden] { display: none; }` but bootstrap.min.css set `[hidden] { display: none !important; }` so we also need the `!important` here to be able to override the default hidden behavior on the sphinx rendered scikit-learn.org. See: https://github.com/scikit-learn/scikit-learn/issues/21755 */display: inline-block !important;position: relative;}#sk-container-id-5 div.sk-text-repr-fallback {display: none;}</style><div id=\"sk-container-id-5\" class=\"sk-top-container\"><div class=\"sk-text-repr-fallback\"><pre>GridSearchCV(cv=3,\n",
       "             estimator=Pipeline(steps=[(&#x27;pipeline&#x27;,\n",
       "                                        ColumnTransformer(transformers=[(&#x27;numerical &#x27;\n",
       "                                                                         &#x27;with &#x27;\n",
       "                                                                         &#x27;outliers&#x27;,\n",
       "                                                                         Pipeline(steps=[(&#x27;simpleimputer&#x27;,\n",
       "                                                                                          SimpleImputer(strategy=&#x27;median&#x27;)),\n",
       "                                                                                         (&#x27;functiontransformer&#x27;,\n",
       "                                                                                          FunctionTransformer(func=&lt;ufunc &#x27;log&#x27;&gt;)),\n",
       "                                                                                         (&#x27;standardscaler&#x27;,\n",
       "                                                                                          StandardScaler())]),\n",
       "                                                                         [&#x27;housing_median_age&#x27;,\n",
       "                                                                          &#x27;total_rooms&#x27;,\n",
       "                                                                          &#x27;total_bedrooms&#x27;,\n",
       "                                                                          &#x27;population&#x27;...\n",
       "                                                                          &#x27;households&#x27;])])),\n",
       "                                       (&#x27;model&#x27;,\n",
       "                                        RandomForestRegressor(max_depth=15,\n",
       "                                                              min_samples_split=100,\n",
       "                                                              n_jobs=-1))]),\n",
       "             param_grid=[{&#x27;model__max_depth&#x27;: [5, 10, 15, 20],\n",
       "                          &#x27;model__max_features&#x27;: [1, 2, 3, 4, 5],\n",
       "                          &#x27;model__min_samples_split&#x27;: [10, 20, 30, 50, 80, 100],\n",
       "                          &#x27;model__n_jobs&#x27;: [-1],\n",
       "                          &#x27;pipeline__numerical without outliers__simpleimputer__strategy&#x27;: [&#x27;median&#x27;,\n",
       "                                                                                            &#x27;mean&#x27;]}],\n",
       "             scoring=&#x27;neg_root_mean_squared_error&#x27;)</pre><b>In a Jupyter environment, please rerun this cell to show the HTML representation or trust the notebook. <br />On GitHub, the HTML representation is unable to render, please try loading this page with nbviewer.org.</b></div><div class=\"sk-container\" hidden><div class=\"sk-item sk-dashed-wrapped\"><div class=\"sk-label-container\"><div class=\"sk-label sk-toggleable\"><input class=\"sk-toggleable__control sk-hidden--visually\" id=\"sk-estimator-id-85\" type=\"checkbox\" ><label for=\"sk-estimator-id-85\" class=\"sk-toggleable__label sk-toggleable__label-arrow\">GridSearchCV</label><div class=\"sk-toggleable__content\"><pre>GridSearchCV(cv=3,\n",
       "             estimator=Pipeline(steps=[(&#x27;pipeline&#x27;,\n",
       "                                        ColumnTransformer(transformers=[(&#x27;numerical &#x27;\n",
       "                                                                         &#x27;with &#x27;\n",
       "                                                                         &#x27;outliers&#x27;,\n",
       "                                                                         Pipeline(steps=[(&#x27;simpleimputer&#x27;,\n",
       "                                                                                          SimpleImputer(strategy=&#x27;median&#x27;)),\n",
       "                                                                                         (&#x27;functiontransformer&#x27;,\n",
       "                                                                                          FunctionTransformer(func=&lt;ufunc &#x27;log&#x27;&gt;)),\n",
       "                                                                                         (&#x27;standardscaler&#x27;,\n",
       "                                                                                          StandardScaler())]),\n",
       "                                                                         [&#x27;housing_median_age&#x27;,\n",
       "                                                                          &#x27;total_rooms&#x27;,\n",
       "                                                                          &#x27;total_bedrooms&#x27;,\n",
       "                                                                          &#x27;population&#x27;...\n",
       "                                                                          &#x27;households&#x27;])])),\n",
       "                                       (&#x27;model&#x27;,\n",
       "                                        RandomForestRegressor(max_depth=15,\n",
       "                                                              min_samples_split=100,\n",
       "                                                              n_jobs=-1))]),\n",
       "             param_grid=[{&#x27;model__max_depth&#x27;: [5, 10, 15, 20],\n",
       "                          &#x27;model__max_features&#x27;: [1, 2, 3, 4, 5],\n",
       "                          &#x27;model__min_samples_split&#x27;: [10, 20, 30, 50, 80, 100],\n",
       "                          &#x27;model__n_jobs&#x27;: [-1],\n",
       "                          &#x27;pipeline__numerical without outliers__simpleimputer__strategy&#x27;: [&#x27;median&#x27;,\n",
       "                                                                                            &#x27;mean&#x27;]}],\n",
       "             scoring=&#x27;neg_root_mean_squared_error&#x27;)</pre></div></div></div><div class=\"sk-parallel\"><div class=\"sk-parallel-item\"><div class=\"sk-item\"><div class=\"sk-label-container\"><div class=\"sk-label sk-toggleable\"><input class=\"sk-toggleable__control sk-hidden--visually\" id=\"sk-estimator-id-86\" type=\"checkbox\" ><label for=\"sk-estimator-id-86\" class=\"sk-toggleable__label sk-toggleable__label-arrow\">estimator: Pipeline</label><div class=\"sk-toggleable__content\"><pre>Pipeline(steps=[(&#x27;pipeline&#x27;,\n",
       "                 ColumnTransformer(transformers=[(&#x27;numerical with outliers&#x27;,\n",
       "                                                  Pipeline(steps=[(&#x27;simpleimputer&#x27;,\n",
       "                                                                   SimpleImputer(strategy=&#x27;median&#x27;)),\n",
       "                                                                  (&#x27;functiontransformer&#x27;,\n",
       "                                                                   FunctionTransformer(func=&lt;ufunc &#x27;log&#x27;&gt;)),\n",
       "                                                                  (&#x27;standardscaler&#x27;,\n",
       "                                                                   StandardScaler())]),\n",
       "                                                  [&#x27;housing_median_age&#x27;,\n",
       "                                                   &#x27;total_rooms&#x27;,\n",
       "                                                   &#x27;total_bedrooms&#x27;,\n",
       "                                                   &#x27;population&#x27;,\n",
       "                                                   &#x27;households&#x27;]),\n",
       "                                                 (&#x27;numerical witho...\n",
       "                                                  [&#x27;total_rooms&#x27;,\n",
       "                                                   &#x27;households&#x27;]),\n",
       "                                                 (&#x27;bedsrooms er households&#x27;,\n",
       "                                                  Pipeline(steps=[(&#x27;simpleimputer&#x27;,\n",
       "                                                                   SimpleImputer(strategy=&#x27;median&#x27;)),\n",
       "                                                                  (&#x27;functiontransformer&#x27;,\n",
       "                                                                   FunctionTransformer(func=&lt;function raito at 0x30c69fc40&gt;)),\n",
       "                                                                  (&#x27;standardscaler&#x27;,\n",
       "                                                                   StandardScaler())]),\n",
       "                                                  [&#x27;total_bedrooms&#x27;,\n",
       "                                                   &#x27;households&#x27;])])),\n",
       "                (&#x27;model&#x27;,\n",
       "                 RandomForestRegressor(max_depth=15, min_samples_split=100,\n",
       "                                       n_jobs=-1))])</pre></div></div></div><div class=\"sk-serial\"><div class=\"sk-item\"><div class=\"sk-serial\"><div class=\"sk-item sk-dashed-wrapped\"><div class=\"sk-label-container\"><div class=\"sk-label sk-toggleable\"><input class=\"sk-toggleable__control sk-hidden--visually\" id=\"sk-estimator-id-87\" type=\"checkbox\" ><label for=\"sk-estimator-id-87\" class=\"sk-toggleable__label sk-toggleable__label-arrow\">pipeline: ColumnTransformer</label><div class=\"sk-toggleable__content\"><pre>ColumnTransformer(transformers=[(&#x27;numerical with outliers&#x27;,\n",
       "                                 Pipeline(steps=[(&#x27;simpleimputer&#x27;,\n",
       "                                                  SimpleImputer(strategy=&#x27;median&#x27;)),\n",
       "                                                 (&#x27;functiontransformer&#x27;,\n",
       "                                                  FunctionTransformer(func=&lt;ufunc &#x27;log&#x27;&gt;)),\n",
       "                                                 (&#x27;standardscaler&#x27;,\n",
       "                                                  StandardScaler())]),\n",
       "                                 [&#x27;housing_median_age&#x27;, &#x27;total_rooms&#x27;,\n",
       "                                  &#x27;total_bedrooms&#x27;, &#x27;population&#x27;,\n",
       "                                  &#x27;households&#x27;]),\n",
       "                                (&#x27;numerical without outliers&#x27;,\n",
       "                                 Pipeline(steps=[...\n",
       "                                                  FunctionTransformer(func=&lt;function raito at 0x30c69fc40&gt;)),\n",
       "                                                 (&#x27;standardscaler&#x27;,\n",
       "                                                  StandardScaler())]),\n",
       "                                 [&#x27;total_rooms&#x27;, &#x27;households&#x27;]),\n",
       "                                (&#x27;bedsrooms er households&#x27;,\n",
       "                                 Pipeline(steps=[(&#x27;simpleimputer&#x27;,\n",
       "                                                  SimpleImputer(strategy=&#x27;median&#x27;)),\n",
       "                                                 (&#x27;functiontransformer&#x27;,\n",
       "                                                  FunctionTransformer(func=&lt;function raito at 0x30c69fc40&gt;)),\n",
       "                                                 (&#x27;standardscaler&#x27;,\n",
       "                                                  StandardScaler())]),\n",
       "                                 [&#x27;total_bedrooms&#x27;, &#x27;households&#x27;])])</pre></div></div></div><div class=\"sk-parallel\"><div class=\"sk-parallel-item\"><div class=\"sk-item\"><div class=\"sk-label-container\"><div class=\"sk-label sk-toggleable\"><input class=\"sk-toggleable__control sk-hidden--visually\" id=\"sk-estimator-id-88\" type=\"checkbox\" ><label for=\"sk-estimator-id-88\" class=\"sk-toggleable__label sk-toggleable__label-arrow\">numerical with outliers</label><div class=\"sk-toggleable__content\"><pre>[&#x27;housing_median_age&#x27;, &#x27;total_rooms&#x27;, &#x27;total_bedrooms&#x27;, &#x27;population&#x27;, &#x27;households&#x27;]</pre></div></div></div><div class=\"sk-serial\"><div class=\"sk-item\"><div class=\"sk-serial\"><div class=\"sk-item\"><div class=\"sk-estimator sk-toggleable\"><input class=\"sk-toggleable__control sk-hidden--visually\" id=\"sk-estimator-id-89\" type=\"checkbox\" ><label for=\"sk-estimator-id-89\" class=\"sk-toggleable__label sk-toggleable__label-arrow\">SimpleImputer</label><div class=\"sk-toggleable__content\"><pre>SimpleImputer(strategy=&#x27;median&#x27;)</pre></div></div></div><div class=\"sk-item\"><div class=\"sk-estimator sk-toggleable\"><input class=\"sk-toggleable__control sk-hidden--visually\" id=\"sk-estimator-id-90\" type=\"checkbox\" ><label for=\"sk-estimator-id-90\" class=\"sk-toggleable__label sk-toggleable__label-arrow\">FunctionTransformer</label><div class=\"sk-toggleable__content\"><pre>FunctionTransformer(func=&lt;ufunc &#x27;log&#x27;&gt;)</pre></div></div></div><div class=\"sk-item\"><div class=\"sk-estimator sk-toggleable\"><input class=\"sk-toggleable__control sk-hidden--visually\" id=\"sk-estimator-id-91\" type=\"checkbox\" ><label for=\"sk-estimator-id-91\" class=\"sk-toggleable__label sk-toggleable__label-arrow\">StandardScaler</label><div class=\"sk-toggleable__content\"><pre>StandardScaler()</pre></div></div></div></div></div></div></div></div><div class=\"sk-parallel-item\"><div class=\"sk-item\"><div class=\"sk-label-container\"><div class=\"sk-label sk-toggleable\"><input class=\"sk-toggleable__control sk-hidden--visually\" id=\"sk-estimator-id-92\" type=\"checkbox\" ><label for=\"sk-estimator-id-92\" class=\"sk-toggleable__label sk-toggleable__label-arrow\">numerical without outliers</label><div class=\"sk-toggleable__content\"><pre>[&#x27;longitude&#x27;, &#x27;latitude&#x27;, &#x27;median_income&#x27;]</pre></div></div></div><div class=\"sk-serial\"><div class=\"sk-item\"><div class=\"sk-serial\"><div class=\"sk-item\"><div class=\"sk-estimator sk-toggleable\"><input class=\"sk-toggleable__control sk-hidden--visually\" id=\"sk-estimator-id-93\" type=\"checkbox\" ><label for=\"sk-estimator-id-93\" class=\"sk-toggleable__label sk-toggleable__label-arrow\">SimpleImputer</label><div class=\"sk-toggleable__content\"><pre>SimpleImputer(strategy=&#x27;median&#x27;)</pre></div></div></div><div class=\"sk-item\"><div class=\"sk-estimator sk-toggleable\"><input class=\"sk-toggleable__control sk-hidden--visually\" id=\"sk-estimator-id-94\" type=\"checkbox\" ><label for=\"sk-estimator-id-94\" class=\"sk-toggleable__label sk-toggleable__label-arrow\">StandardScaler</label><div class=\"sk-toggleable__content\"><pre>StandardScaler()</pre></div></div></div></div></div></div></div></div><div class=\"sk-parallel-item\"><div class=\"sk-item\"><div class=\"sk-label-container\"><div class=\"sk-label sk-toggleable\"><input class=\"sk-toggleable__control sk-hidden--visually\" id=\"sk-estimator-id-95\" type=\"checkbox\" ><label for=\"sk-estimator-id-95\" class=\"sk-toggleable__label sk-toggleable__label-arrow\">categorical</label><div class=\"sk-toggleable__content\"><pre>[&#x27;ocean_proximity&#x27;]</pre></div></div></div><div class=\"sk-serial\"><div class=\"sk-item\"><div class=\"sk-serial\"><div class=\"sk-item\"><div class=\"sk-estimator sk-toggleable\"><input class=\"sk-toggleable__control sk-hidden--visually\" id=\"sk-estimator-id-96\" type=\"checkbox\" ><label for=\"sk-estimator-id-96\" class=\"sk-toggleable__label sk-toggleable__label-arrow\">SimpleImputer</label><div class=\"sk-toggleable__content\"><pre>SimpleImputer(strategy=&#x27;most_frequent&#x27;)</pre></div></div></div><div class=\"sk-item\"><div class=\"sk-estimator sk-toggleable\"><input class=\"sk-toggleable__control sk-hidden--visually\" id=\"sk-estimator-id-97\" type=\"checkbox\" ><label for=\"sk-estimator-id-97\" class=\"sk-toggleable__label sk-toggleable__label-arrow\">OneHotEncoder</label><div class=\"sk-toggleable__content\"><pre>OneHotEncoder()</pre></div></div></div></div></div></div></div></div><div class=\"sk-parallel-item\"><div class=\"sk-item\"><div class=\"sk-label-container\"><div class=\"sk-label sk-toggleable\"><input class=\"sk-toggleable__control sk-hidden--visually\" id=\"sk-estimator-id-98\" type=\"checkbox\" ><label for=\"sk-estimator-id-98\" class=\"sk-toggleable__label sk-toggleable__label-arrow\">rooms per household</label><div class=\"sk-toggleable__content\"><pre>[&#x27;total_rooms&#x27;, &#x27;households&#x27;]</pre></div></div></div><div class=\"sk-serial\"><div class=\"sk-item\"><div class=\"sk-serial\"><div class=\"sk-item\"><div class=\"sk-estimator sk-toggleable\"><input class=\"sk-toggleable__control sk-hidden--visually\" id=\"sk-estimator-id-99\" type=\"checkbox\" ><label for=\"sk-estimator-id-99\" class=\"sk-toggleable__label sk-toggleable__label-arrow\">SimpleImputer</label><div class=\"sk-toggleable__content\"><pre>SimpleImputer(strategy=&#x27;median&#x27;)</pre></div></div></div><div class=\"sk-item\"><div class=\"sk-estimator sk-toggleable\"><input class=\"sk-toggleable__control sk-hidden--visually\" id=\"sk-estimator-id-100\" type=\"checkbox\" ><label for=\"sk-estimator-id-100\" class=\"sk-toggleable__label sk-toggleable__label-arrow\">FunctionTransformer</label><div class=\"sk-toggleable__content\"><pre>FunctionTransformer(func=&lt;function raito at 0x30c69fc40&gt;)</pre></div></div></div><div class=\"sk-item\"><div class=\"sk-estimator sk-toggleable\"><input class=\"sk-toggleable__control sk-hidden--visually\" id=\"sk-estimator-id-101\" type=\"checkbox\" ><label for=\"sk-estimator-id-101\" class=\"sk-toggleable__label sk-toggleable__label-arrow\">StandardScaler</label><div class=\"sk-toggleable__content\"><pre>StandardScaler()</pre></div></div></div></div></div></div></div></div><div class=\"sk-parallel-item\"><div class=\"sk-item\"><div class=\"sk-label-container\"><div class=\"sk-label sk-toggleable\"><input class=\"sk-toggleable__control sk-hidden--visually\" id=\"sk-estimator-id-102\" type=\"checkbox\" ><label for=\"sk-estimator-id-102\" class=\"sk-toggleable__label sk-toggleable__label-arrow\">bedsrooms er households</label><div class=\"sk-toggleable__content\"><pre>[&#x27;total_bedrooms&#x27;, &#x27;households&#x27;]</pre></div></div></div><div class=\"sk-serial\"><div class=\"sk-item\"><div class=\"sk-serial\"><div class=\"sk-item\"><div class=\"sk-estimator sk-toggleable\"><input class=\"sk-toggleable__control sk-hidden--visually\" id=\"sk-estimator-id-103\" type=\"checkbox\" ><label for=\"sk-estimator-id-103\" class=\"sk-toggleable__label sk-toggleable__label-arrow\">SimpleImputer</label><div class=\"sk-toggleable__content\"><pre>SimpleImputer(strategy=&#x27;median&#x27;)</pre></div></div></div><div class=\"sk-item\"><div class=\"sk-estimator sk-toggleable\"><input class=\"sk-toggleable__control sk-hidden--visually\" id=\"sk-estimator-id-104\" type=\"checkbox\" ><label for=\"sk-estimator-id-104\" class=\"sk-toggleable__label sk-toggleable__label-arrow\">FunctionTransformer</label><div class=\"sk-toggleable__content\"><pre>FunctionTransformer(func=&lt;function raito at 0x30c69fc40&gt;)</pre></div></div></div><div class=\"sk-item\"><div class=\"sk-estimator sk-toggleable\"><input class=\"sk-toggleable__control sk-hidden--visually\" id=\"sk-estimator-id-105\" type=\"checkbox\" ><label for=\"sk-estimator-id-105\" class=\"sk-toggleable__label sk-toggleable__label-arrow\">StandardScaler</label><div class=\"sk-toggleable__content\"><pre>StandardScaler()</pre></div></div></div></div></div></div></div></div></div></div><div class=\"sk-item\"><div class=\"sk-estimator sk-toggleable\"><input class=\"sk-toggleable__control sk-hidden--visually\" id=\"sk-estimator-id-106\" type=\"checkbox\" ><label for=\"sk-estimator-id-106\" class=\"sk-toggleable__label sk-toggleable__label-arrow\">RandomForestRegressor</label><div class=\"sk-toggleable__content\"><pre>RandomForestRegressor(max_depth=15, min_samples_split=100, n_jobs=-1)</pre></div></div></div></div></div></div></div></div></div></div></div></div>"
      ],
      "text/plain": [
       "GridSearchCV(cv=3,\n",
       "             estimator=Pipeline(steps=[('pipeline',\n",
       "                                        ColumnTransformer(transformers=[('numerical '\n",
       "                                                                         'with '\n",
       "                                                                         'outliers',\n",
       "                                                                         Pipeline(steps=[('simpleimputer',\n",
       "                                                                                          SimpleImputer(strategy='median')),\n",
       "                                                                                         ('functiontransformer',\n",
       "                                                                                          FunctionTransformer(func=<ufunc 'log'>)),\n",
       "                                                                                         ('standardscaler',\n",
       "                                                                                          StandardScaler())]),\n",
       "                                                                         ['housing_median_age',\n",
       "                                                                          'total_rooms',\n",
       "                                                                          'total_bedrooms',\n",
       "                                                                          'population'...\n",
       "                                                                          'households'])])),\n",
       "                                       ('model',\n",
       "                                        RandomForestRegressor(max_depth=15,\n",
       "                                                              min_samples_split=100,\n",
       "                                                              n_jobs=-1))]),\n",
       "             param_grid=[{'model__max_depth': [5, 10, 15, 20],\n",
       "                          'model__max_features': [1, 2, 3, 4, 5],\n",
       "                          'model__min_samples_split': [10, 20, 30, 50, 80, 100],\n",
       "                          'model__n_jobs': [-1],\n",
       "                          'pipeline__numerical without outliers__simpleimputer__strategy': ['median',\n",
       "                                                                                            'mean']}],\n",
       "             scoring='neg_root_mean_squared_error')"
      ]
     },
     "execution_count": 203,
     "metadata": {},
     "output_type": "execute_result"
    }
   ],
   "source": [
    "grid_search.fit(X_train, y_train)"
   ]
  },
  {
   "cell_type": "code",
   "execution_count": null,
   "id": "d4685da8-2764-47c8-81ae-b3f73104fd6c",
   "metadata": {},
   "outputs": [],
   "source": [
    "# Best Value for Hyper parameters based on neg_root_mean_squared error "
   ]
  },
  {
   "cell_type": "code",
   "execution_count": 205,
   "id": "2b7f214a-5112-414e-bd31-00ddcfb77ced",
   "metadata": {},
   "outputs": [
    {
     "data": {
      "text/plain": [
       "{'model__max_depth': 20,\n",
       " 'model__max_features': 5,\n",
       " 'model__min_samples_split': 10,\n",
       " 'model__n_jobs': -1,\n",
       " 'pipeline__numerical without outliers__simpleimputer__strategy': 'mean'}"
      ]
     },
     "execution_count": 205,
     "metadata": {},
     "output_type": "execute_result"
    }
   ],
   "source": [
    "grid_search.best_params_"
   ]
  },
  {
   "cell_type": "markdown",
   "id": "396c9c7d-19a3-4aa1-8fc8-013c3a670f03",
   "metadata": {},
   "source": [
    "best_model = RandomForestRegressor(model__max_depth= 20,\n",
    " model__max_features=  5,\n",
    " model__min_samples_split =  10,\n",
    " model__n_jobs= -1)"
   ]
  },
  {
   "cell_type": "code",
   "execution_count": 207,
   "id": "717f5097-078d-4308-8a4a-7d760cd1a09d",
   "metadata": {},
   "outputs": [
    {
     "data": {
      "text/html": [
       "<style>#sk-container-id-6 {color: black;background-color: white;}#sk-container-id-6 pre{padding: 0;}#sk-container-id-6 div.sk-toggleable {background-color: white;}#sk-container-id-6 label.sk-toggleable__label {cursor: pointer;display: block;width: 100%;margin-bottom: 0;padding: 0.3em;box-sizing: border-box;text-align: center;}#sk-container-id-6 label.sk-toggleable__label-arrow:before {content: \"▸\";float: left;margin-right: 0.25em;color: #696969;}#sk-container-id-6 label.sk-toggleable__label-arrow:hover:before {color: black;}#sk-container-id-6 div.sk-estimator:hover label.sk-toggleable__label-arrow:before {color: black;}#sk-container-id-6 div.sk-toggleable__content {max-height: 0;max-width: 0;overflow: hidden;text-align: left;background-color: #f0f8ff;}#sk-container-id-6 div.sk-toggleable__content pre {margin: 0.2em;color: black;border-radius: 0.25em;background-color: #f0f8ff;}#sk-container-id-6 input.sk-toggleable__control:checked~div.sk-toggleable__content {max-height: 200px;max-width: 100%;overflow: auto;}#sk-container-id-6 input.sk-toggleable__control:checked~label.sk-toggleable__label-arrow:before {content: \"▾\";}#sk-container-id-6 div.sk-estimator input.sk-toggleable__control:checked~label.sk-toggleable__label {background-color: #d4ebff;}#sk-container-id-6 div.sk-label input.sk-toggleable__control:checked~label.sk-toggleable__label {background-color: #d4ebff;}#sk-container-id-6 input.sk-hidden--visually {border: 0;clip: rect(1px 1px 1px 1px);clip: rect(1px, 1px, 1px, 1px);height: 1px;margin: -1px;overflow: hidden;padding: 0;position: absolute;width: 1px;}#sk-container-id-6 div.sk-estimator {font-family: monospace;background-color: #f0f8ff;border: 1px dotted black;border-radius: 0.25em;box-sizing: border-box;margin-bottom: 0.5em;}#sk-container-id-6 div.sk-estimator:hover {background-color: #d4ebff;}#sk-container-id-6 div.sk-parallel-item::after {content: \"\";width: 100%;border-bottom: 1px solid gray;flex-grow: 1;}#sk-container-id-6 div.sk-label:hover label.sk-toggleable__label {background-color: #d4ebff;}#sk-container-id-6 div.sk-serial::before {content: \"\";position: absolute;border-left: 1px solid gray;box-sizing: border-box;top: 0;bottom: 0;left: 50%;z-index: 0;}#sk-container-id-6 div.sk-serial {display: flex;flex-direction: column;align-items: center;background-color: white;padding-right: 0.2em;padding-left: 0.2em;position: relative;}#sk-container-id-6 div.sk-item {position: relative;z-index: 1;}#sk-container-id-6 div.sk-parallel {display: flex;align-items: stretch;justify-content: center;background-color: white;position: relative;}#sk-container-id-6 div.sk-item::before, #sk-container-id-6 div.sk-parallel-item::before {content: \"\";position: absolute;border-left: 1px solid gray;box-sizing: border-box;top: 0;bottom: 0;left: 50%;z-index: -1;}#sk-container-id-6 div.sk-parallel-item {display: flex;flex-direction: column;z-index: 1;position: relative;background-color: white;}#sk-container-id-6 div.sk-parallel-item:first-child::after {align-self: flex-end;width: 50%;}#sk-container-id-6 div.sk-parallel-item:last-child::after {align-self: flex-start;width: 50%;}#sk-container-id-6 div.sk-parallel-item:only-child::after {width: 0;}#sk-container-id-6 div.sk-dashed-wrapped {border: 1px dashed gray;margin: 0 0.4em 0.5em 0.4em;box-sizing: border-box;padding-bottom: 0.4em;background-color: white;}#sk-container-id-6 div.sk-label label {font-family: monospace;font-weight: bold;display: inline-block;line-height: 1.2em;}#sk-container-id-6 div.sk-label-container {text-align: center;}#sk-container-id-6 div.sk-container {/* jupyter's `normalize.less` sets `[hidden] { display: none; }` but bootstrap.min.css set `[hidden] { display: none !important; }` so we also need the `!important` here to be able to override the default hidden behavior on the sphinx rendered scikit-learn.org. See: https://github.com/scikit-learn/scikit-learn/issues/21755 */display: inline-block !important;position: relative;}#sk-container-id-6 div.sk-text-repr-fallback {display: none;}</style><div id=\"sk-container-id-6\" class=\"sk-top-container\"><div class=\"sk-text-repr-fallback\"><pre>Pipeline(steps=[(&#x27;pipeline&#x27;,\n",
       "                 ColumnTransformer(transformers=[(&#x27;numerical with outliers&#x27;,\n",
       "                                                  Pipeline(steps=[(&#x27;simpleimputer&#x27;,\n",
       "                                                                   SimpleImputer(strategy=&#x27;median&#x27;)),\n",
       "                                                                  (&#x27;functiontransformer&#x27;,\n",
       "                                                                   FunctionTransformer(func=&lt;ufunc &#x27;log&#x27;&gt;)),\n",
       "                                                                  (&#x27;standardscaler&#x27;,\n",
       "                                                                   StandardScaler())]),\n",
       "                                                  [&#x27;housing_median_age&#x27;,\n",
       "                                                   &#x27;total_rooms&#x27;,\n",
       "                                                   &#x27;total_bedrooms&#x27;,\n",
       "                                                   &#x27;population&#x27;,\n",
       "                                                   &#x27;households&#x27;]),\n",
       "                                                 (&#x27;numerical witho...\n",
       "                                                   &#x27;households&#x27;]),\n",
       "                                                 (&#x27;bedsrooms er households&#x27;,\n",
       "                                                  Pipeline(steps=[(&#x27;simpleimputer&#x27;,\n",
       "                                                                   SimpleImputer(strategy=&#x27;median&#x27;)),\n",
       "                                                                  (&#x27;functiontransformer&#x27;,\n",
       "                                                                   FunctionTransformer(func=&lt;function raito at 0x30c69fc40&gt;)),\n",
       "                                                                  (&#x27;standardscaler&#x27;,\n",
       "                                                                   StandardScaler())]),\n",
       "                                                  [&#x27;total_bedrooms&#x27;,\n",
       "                                                   &#x27;households&#x27;])])),\n",
       "                (&#x27;model&#x27;,\n",
       "                 RandomForestRegressor(max_depth=20, max_features=5,\n",
       "                                       min_samples_split=10, n_jobs=-1))])</pre><b>In a Jupyter environment, please rerun this cell to show the HTML representation or trust the notebook. <br />On GitHub, the HTML representation is unable to render, please try loading this page with nbviewer.org.</b></div><div class=\"sk-container\" hidden><div class=\"sk-item sk-dashed-wrapped\"><div class=\"sk-label-container\"><div class=\"sk-label sk-toggleable\"><input class=\"sk-toggleable__control sk-hidden--visually\" id=\"sk-estimator-id-107\" type=\"checkbox\" ><label for=\"sk-estimator-id-107\" class=\"sk-toggleable__label sk-toggleable__label-arrow\">Pipeline</label><div class=\"sk-toggleable__content\"><pre>Pipeline(steps=[(&#x27;pipeline&#x27;,\n",
       "                 ColumnTransformer(transformers=[(&#x27;numerical with outliers&#x27;,\n",
       "                                                  Pipeline(steps=[(&#x27;simpleimputer&#x27;,\n",
       "                                                                   SimpleImputer(strategy=&#x27;median&#x27;)),\n",
       "                                                                  (&#x27;functiontransformer&#x27;,\n",
       "                                                                   FunctionTransformer(func=&lt;ufunc &#x27;log&#x27;&gt;)),\n",
       "                                                                  (&#x27;standardscaler&#x27;,\n",
       "                                                                   StandardScaler())]),\n",
       "                                                  [&#x27;housing_median_age&#x27;,\n",
       "                                                   &#x27;total_rooms&#x27;,\n",
       "                                                   &#x27;total_bedrooms&#x27;,\n",
       "                                                   &#x27;population&#x27;,\n",
       "                                                   &#x27;households&#x27;]),\n",
       "                                                 (&#x27;numerical witho...\n",
       "                                                   &#x27;households&#x27;]),\n",
       "                                                 (&#x27;bedsrooms er households&#x27;,\n",
       "                                                  Pipeline(steps=[(&#x27;simpleimputer&#x27;,\n",
       "                                                                   SimpleImputer(strategy=&#x27;median&#x27;)),\n",
       "                                                                  (&#x27;functiontransformer&#x27;,\n",
       "                                                                   FunctionTransformer(func=&lt;function raito at 0x30c69fc40&gt;)),\n",
       "                                                                  (&#x27;standardscaler&#x27;,\n",
       "                                                                   StandardScaler())]),\n",
       "                                                  [&#x27;total_bedrooms&#x27;,\n",
       "                                                   &#x27;households&#x27;])])),\n",
       "                (&#x27;model&#x27;,\n",
       "                 RandomForestRegressor(max_depth=20, max_features=5,\n",
       "                                       min_samples_split=10, n_jobs=-1))])</pre></div></div></div><div class=\"sk-serial\"><div class=\"sk-item sk-dashed-wrapped\"><div class=\"sk-label-container\"><div class=\"sk-label sk-toggleable\"><input class=\"sk-toggleable__control sk-hidden--visually\" id=\"sk-estimator-id-108\" type=\"checkbox\" ><label for=\"sk-estimator-id-108\" class=\"sk-toggleable__label sk-toggleable__label-arrow\">pipeline: ColumnTransformer</label><div class=\"sk-toggleable__content\"><pre>ColumnTransformer(transformers=[(&#x27;numerical with outliers&#x27;,\n",
       "                                 Pipeline(steps=[(&#x27;simpleimputer&#x27;,\n",
       "                                                  SimpleImputer(strategy=&#x27;median&#x27;)),\n",
       "                                                 (&#x27;functiontransformer&#x27;,\n",
       "                                                  FunctionTransformer(func=&lt;ufunc &#x27;log&#x27;&gt;)),\n",
       "                                                 (&#x27;standardscaler&#x27;,\n",
       "                                                  StandardScaler())]),\n",
       "                                 [&#x27;housing_median_age&#x27;, &#x27;total_rooms&#x27;,\n",
       "                                  &#x27;total_bedrooms&#x27;, &#x27;population&#x27;,\n",
       "                                  &#x27;households&#x27;]),\n",
       "                                (&#x27;numerical without outliers&#x27;,\n",
       "                                 Pipeline(steps=[...\n",
       "                                                  FunctionTransformer(func=&lt;function raito at 0x30c69fc40&gt;)),\n",
       "                                                 (&#x27;standardscaler&#x27;,\n",
       "                                                  StandardScaler())]),\n",
       "                                 [&#x27;total_rooms&#x27;, &#x27;households&#x27;]),\n",
       "                                (&#x27;bedsrooms er households&#x27;,\n",
       "                                 Pipeline(steps=[(&#x27;simpleimputer&#x27;,\n",
       "                                                  SimpleImputer(strategy=&#x27;median&#x27;)),\n",
       "                                                 (&#x27;functiontransformer&#x27;,\n",
       "                                                  FunctionTransformer(func=&lt;function raito at 0x30c69fc40&gt;)),\n",
       "                                                 (&#x27;standardscaler&#x27;,\n",
       "                                                  StandardScaler())]),\n",
       "                                 [&#x27;total_bedrooms&#x27;, &#x27;households&#x27;])])</pre></div></div></div><div class=\"sk-parallel\"><div class=\"sk-parallel-item\"><div class=\"sk-item\"><div class=\"sk-label-container\"><div class=\"sk-label sk-toggleable\"><input class=\"sk-toggleable__control sk-hidden--visually\" id=\"sk-estimator-id-109\" type=\"checkbox\" ><label for=\"sk-estimator-id-109\" class=\"sk-toggleable__label sk-toggleable__label-arrow\">numerical with outliers</label><div class=\"sk-toggleable__content\"><pre>[&#x27;housing_median_age&#x27;, &#x27;total_rooms&#x27;, &#x27;total_bedrooms&#x27;, &#x27;population&#x27;, &#x27;households&#x27;]</pre></div></div></div><div class=\"sk-serial\"><div class=\"sk-item\"><div class=\"sk-serial\"><div class=\"sk-item\"><div class=\"sk-estimator sk-toggleable\"><input class=\"sk-toggleable__control sk-hidden--visually\" id=\"sk-estimator-id-110\" type=\"checkbox\" ><label for=\"sk-estimator-id-110\" class=\"sk-toggleable__label sk-toggleable__label-arrow\">SimpleImputer</label><div class=\"sk-toggleable__content\"><pre>SimpleImputer(strategy=&#x27;median&#x27;)</pre></div></div></div><div class=\"sk-item\"><div class=\"sk-estimator sk-toggleable\"><input class=\"sk-toggleable__control sk-hidden--visually\" id=\"sk-estimator-id-111\" type=\"checkbox\" ><label for=\"sk-estimator-id-111\" class=\"sk-toggleable__label sk-toggleable__label-arrow\">FunctionTransformer</label><div class=\"sk-toggleable__content\"><pre>FunctionTransformer(func=&lt;ufunc &#x27;log&#x27;&gt;)</pre></div></div></div><div class=\"sk-item\"><div class=\"sk-estimator sk-toggleable\"><input class=\"sk-toggleable__control sk-hidden--visually\" id=\"sk-estimator-id-112\" type=\"checkbox\" ><label for=\"sk-estimator-id-112\" class=\"sk-toggleable__label sk-toggleable__label-arrow\">StandardScaler</label><div class=\"sk-toggleable__content\"><pre>StandardScaler()</pre></div></div></div></div></div></div></div></div><div class=\"sk-parallel-item\"><div class=\"sk-item\"><div class=\"sk-label-container\"><div class=\"sk-label sk-toggleable\"><input class=\"sk-toggleable__control sk-hidden--visually\" id=\"sk-estimator-id-113\" type=\"checkbox\" ><label for=\"sk-estimator-id-113\" class=\"sk-toggleable__label sk-toggleable__label-arrow\">numerical without outliers</label><div class=\"sk-toggleable__content\"><pre>[&#x27;longitude&#x27;, &#x27;latitude&#x27;, &#x27;median_income&#x27;]</pre></div></div></div><div class=\"sk-serial\"><div class=\"sk-item\"><div class=\"sk-serial\"><div class=\"sk-item\"><div class=\"sk-estimator sk-toggleable\"><input class=\"sk-toggleable__control sk-hidden--visually\" id=\"sk-estimator-id-114\" type=\"checkbox\" ><label for=\"sk-estimator-id-114\" class=\"sk-toggleable__label sk-toggleable__label-arrow\">SimpleImputer</label><div class=\"sk-toggleable__content\"><pre>SimpleImputer()</pre></div></div></div><div class=\"sk-item\"><div class=\"sk-estimator sk-toggleable\"><input class=\"sk-toggleable__control sk-hidden--visually\" id=\"sk-estimator-id-115\" type=\"checkbox\" ><label for=\"sk-estimator-id-115\" class=\"sk-toggleable__label sk-toggleable__label-arrow\">StandardScaler</label><div class=\"sk-toggleable__content\"><pre>StandardScaler()</pre></div></div></div></div></div></div></div></div><div class=\"sk-parallel-item\"><div class=\"sk-item\"><div class=\"sk-label-container\"><div class=\"sk-label sk-toggleable\"><input class=\"sk-toggleable__control sk-hidden--visually\" id=\"sk-estimator-id-116\" type=\"checkbox\" ><label for=\"sk-estimator-id-116\" class=\"sk-toggleable__label sk-toggleable__label-arrow\">categorical</label><div class=\"sk-toggleable__content\"><pre>[&#x27;ocean_proximity&#x27;]</pre></div></div></div><div class=\"sk-serial\"><div class=\"sk-item\"><div class=\"sk-serial\"><div class=\"sk-item\"><div class=\"sk-estimator sk-toggleable\"><input class=\"sk-toggleable__control sk-hidden--visually\" id=\"sk-estimator-id-117\" type=\"checkbox\" ><label for=\"sk-estimator-id-117\" class=\"sk-toggleable__label sk-toggleable__label-arrow\">SimpleImputer</label><div class=\"sk-toggleable__content\"><pre>SimpleImputer(strategy=&#x27;most_frequent&#x27;)</pre></div></div></div><div class=\"sk-item\"><div class=\"sk-estimator sk-toggleable\"><input class=\"sk-toggleable__control sk-hidden--visually\" id=\"sk-estimator-id-118\" type=\"checkbox\" ><label for=\"sk-estimator-id-118\" class=\"sk-toggleable__label sk-toggleable__label-arrow\">OneHotEncoder</label><div class=\"sk-toggleable__content\"><pre>OneHotEncoder()</pre></div></div></div></div></div></div></div></div><div class=\"sk-parallel-item\"><div class=\"sk-item\"><div class=\"sk-label-container\"><div class=\"sk-label sk-toggleable\"><input class=\"sk-toggleable__control sk-hidden--visually\" id=\"sk-estimator-id-119\" type=\"checkbox\" ><label for=\"sk-estimator-id-119\" class=\"sk-toggleable__label sk-toggleable__label-arrow\">rooms per household</label><div class=\"sk-toggleable__content\"><pre>[&#x27;total_rooms&#x27;, &#x27;households&#x27;]</pre></div></div></div><div class=\"sk-serial\"><div class=\"sk-item\"><div class=\"sk-serial\"><div class=\"sk-item\"><div class=\"sk-estimator sk-toggleable\"><input class=\"sk-toggleable__control sk-hidden--visually\" id=\"sk-estimator-id-120\" type=\"checkbox\" ><label for=\"sk-estimator-id-120\" class=\"sk-toggleable__label sk-toggleable__label-arrow\">SimpleImputer</label><div class=\"sk-toggleable__content\"><pre>SimpleImputer(strategy=&#x27;median&#x27;)</pre></div></div></div><div class=\"sk-item\"><div class=\"sk-estimator sk-toggleable\"><input class=\"sk-toggleable__control sk-hidden--visually\" id=\"sk-estimator-id-121\" type=\"checkbox\" ><label for=\"sk-estimator-id-121\" class=\"sk-toggleable__label sk-toggleable__label-arrow\">FunctionTransformer</label><div class=\"sk-toggleable__content\"><pre>FunctionTransformer(func=&lt;function raito at 0x30c69fc40&gt;)</pre></div></div></div><div class=\"sk-item\"><div class=\"sk-estimator sk-toggleable\"><input class=\"sk-toggleable__control sk-hidden--visually\" id=\"sk-estimator-id-122\" type=\"checkbox\" ><label for=\"sk-estimator-id-122\" class=\"sk-toggleable__label sk-toggleable__label-arrow\">StandardScaler</label><div class=\"sk-toggleable__content\"><pre>StandardScaler()</pre></div></div></div></div></div></div></div></div><div class=\"sk-parallel-item\"><div class=\"sk-item\"><div class=\"sk-label-container\"><div class=\"sk-label sk-toggleable\"><input class=\"sk-toggleable__control sk-hidden--visually\" id=\"sk-estimator-id-123\" type=\"checkbox\" ><label for=\"sk-estimator-id-123\" class=\"sk-toggleable__label sk-toggleable__label-arrow\">bedsrooms er households</label><div class=\"sk-toggleable__content\"><pre>[&#x27;total_bedrooms&#x27;, &#x27;households&#x27;]</pre></div></div></div><div class=\"sk-serial\"><div class=\"sk-item\"><div class=\"sk-serial\"><div class=\"sk-item\"><div class=\"sk-estimator sk-toggleable\"><input class=\"sk-toggleable__control sk-hidden--visually\" id=\"sk-estimator-id-124\" type=\"checkbox\" ><label for=\"sk-estimator-id-124\" class=\"sk-toggleable__label sk-toggleable__label-arrow\">SimpleImputer</label><div class=\"sk-toggleable__content\"><pre>SimpleImputer(strategy=&#x27;median&#x27;)</pre></div></div></div><div class=\"sk-item\"><div class=\"sk-estimator sk-toggleable\"><input class=\"sk-toggleable__control sk-hidden--visually\" id=\"sk-estimator-id-125\" type=\"checkbox\" ><label for=\"sk-estimator-id-125\" class=\"sk-toggleable__label sk-toggleable__label-arrow\">FunctionTransformer</label><div class=\"sk-toggleable__content\"><pre>FunctionTransformer(func=&lt;function raito at 0x30c69fc40&gt;)</pre></div></div></div><div class=\"sk-item\"><div class=\"sk-estimator sk-toggleable\"><input class=\"sk-toggleable__control sk-hidden--visually\" id=\"sk-estimator-id-126\" type=\"checkbox\" ><label for=\"sk-estimator-id-126\" class=\"sk-toggleable__label sk-toggleable__label-arrow\">StandardScaler</label><div class=\"sk-toggleable__content\"><pre>StandardScaler()</pre></div></div></div></div></div></div></div></div></div></div><div class=\"sk-item\"><div class=\"sk-estimator sk-toggleable\"><input class=\"sk-toggleable__control sk-hidden--visually\" id=\"sk-estimator-id-127\" type=\"checkbox\" ><label for=\"sk-estimator-id-127\" class=\"sk-toggleable__label sk-toggleable__label-arrow\">RandomForestRegressor</label><div class=\"sk-toggleable__content\"><pre>RandomForestRegressor(max_depth=20, max_features=5, min_samples_split=10,\n",
       "                      n_jobs=-1)</pre></div></div></div></div></div></div></div>"
      ],
      "text/plain": [
       "Pipeline(steps=[('pipeline',\n",
       "                 ColumnTransformer(transformers=[('numerical with outliers',\n",
       "                                                  Pipeline(steps=[('simpleimputer',\n",
       "                                                                   SimpleImputer(strategy='median')),\n",
       "                                                                  ('functiontransformer',\n",
       "                                                                   FunctionTransformer(func=<ufunc 'log'>)),\n",
       "                                                                  ('standardscaler',\n",
       "                                                                   StandardScaler())]),\n",
       "                                                  ['housing_median_age',\n",
       "                                                   'total_rooms',\n",
       "                                                   'total_bedrooms',\n",
       "                                                   'population',\n",
       "                                                   'households']),\n",
       "                                                 ('numerical witho...\n",
       "                                                   'households']),\n",
       "                                                 ('bedsrooms er households',\n",
       "                                                  Pipeline(steps=[('simpleimputer',\n",
       "                                                                   SimpleImputer(strategy='median')),\n",
       "                                                                  ('functiontransformer',\n",
       "                                                                   FunctionTransformer(func=<function raito at 0x30c69fc40>)),\n",
       "                                                                  ('standardscaler',\n",
       "                                                                   StandardScaler())]),\n",
       "                                                  ['total_bedrooms',\n",
       "                                                   'households'])])),\n",
       "                ('model',\n",
       "                 RandomForestRegressor(max_depth=20, max_features=5,\n",
       "                                       min_samples_split=10, n_jobs=-1))])"
      ]
     },
     "execution_count": 207,
     "metadata": {},
     "output_type": "execute_result"
    }
   ],
   "source": [
    "grid_search.best_estimator_"
   ]
  },
  {
   "cell_type": "code",
   "execution_count": 211,
   "id": "fb1dacd7-4400-45ac-9fa9-e91f5a8df012",
   "metadata": {},
   "outputs": [
    {
     "data": {
      "text/plain": [
       "dict_keys(['mean_fit_time', 'std_fit_time', 'mean_score_time', 'std_score_time', 'param_model__max_depth', 'param_model__max_features', 'param_model__min_samples_split', 'param_model__n_jobs', 'param_pipeline__numerical without outliers__simpleimputer__strategy', 'params', 'split0_test_score', 'split1_test_score', 'split2_test_score', 'mean_test_score', 'std_test_score', 'rank_test_score'])"
      ]
     },
     "execution_count": 211,
     "metadata": {},
     "output_type": "execute_result"
    }
   ],
   "source": [
    "grid_search.cv_results_.keys()"
   ]
  },
  {
   "cell_type": "code",
   "execution_count": 215,
   "id": "07b26e9d-1b9a-4247-952f-d50476e978c1",
   "metadata": {},
   "outputs": [
    {
     "data": {
      "text/plain": [
       "array([-85040.53186194, -84943.92256656, -84260.61742287, -84876.89203577,\n",
       "       -83615.41974164, -83574.65434047, -84443.19176641, -84575.06219478,\n",
       "       -83639.76562555, -84216.45068084, -84642.33368242, -85155.29931209,\n",
       "       -75273.47441435, -75725.73317707, -75635.78433809, -75483.4543699 ,\n",
       "       -75932.38506891, -75982.93613498, -76330.75823729, -75628.54731928,\n",
       "       -75533.01932928, -75862.882064  , -75705.9961988 , -76068.16473335,\n",
       "       -71409.3240573 , -71121.70077354, -71379.49018218, -71373.61469209,\n",
       "       -71087.61621129, -71438.13672722, -70925.19541884, -71352.35449176,\n",
       "       -71551.08399696, -71333.95726401, -71487.14910041, -71461.61737602,\n",
       "       -69311.10522555, -69089.73302882, -68758.37795604, -68950.38019432,\n",
       "       -69021.67783603, -68979.04233307, -68673.48178343, -69089.31872792,\n",
       "       -69183.23061183, -69062.12558155, -69193.97631923, -69143.831453  ,\n",
       "       -67825.70649615, -67724.72569667, -67899.23679121, -67619.94689176,\n",
       "       -67597.8109717 , -67534.30942618, -67600.20529529, -67966.56340662,\n",
       "       -67956.43483899, -67764.89721926, -67957.01837201, -67949.17605705,\n",
       "       -65898.32264248, -66461.10132031, -66665.03098566, -66497.22830794,\n",
       "       -66891.73501603, -67356.41767626, -68126.82761283, -67643.138292  ,\n",
       "       -69090.07302573, -69513.3729605 , -69862.68135449, -70193.81132546,\n",
       "       -60143.47351906, -60516.77496873, -60979.35738874, -61093.6551823 ,\n",
       "       -61508.66489114, -61359.71766494, -62140.45323392, -62195.16356462,\n",
       "       -63470.95206572, -63310.53292294, -64030.46402798, -64091.65477917,\n",
       "       -57639.35861408, -57439.17696805, -57741.65852918, -57851.16097009,\n",
       "       -58429.11353635, -58196.48623301, -59187.21528441, -59162.91110323,\n",
       "       -60456.88890872, -60375.05237871, -61185.89483841, -61304.17699745,\n",
       "       -55815.25438415, -55896.16457018, -56467.05335725, -56269.09821324,\n",
       "       -56780.6672791 , -56861.52548106, -57676.30309846, -57507.3889866 ,\n",
       "       -58872.34049372, -58611.9438621 , -59550.17860925, -59596.18127055,\n",
       "       -55206.07884071, -55500.73805482, -55769.08857646, -55568.07501894,\n",
       "       -56017.57910915, -55961.69339707, -56811.40499665, -56688.41588095,\n",
       "       -57971.42571423, -57959.35338556, -58521.42941377, -58562.89145498,\n",
       "       -59258.2108285 , -59551.6209773 , -60530.14081856, -60827.50542278,\n",
       "       -61999.96825733, -61970.18221543, -63931.76343233, -63805.60849862,\n",
       "       -65988.77655395, -66094.30484802, -67746.07364174, -67525.80578011,\n",
       "       -55468.61693243, -55433.94750896, -56621.91600621, -56870.77113016,\n",
       "       -57656.98411439, -57514.64020718, -59379.65867901, -59189.22940426,\n",
       "       -61474.21161185, -61473.55722356, -62352.6047251 , -62817.14736617,\n",
       "       -53419.38655842, -53232.82757592, -54613.66533336, -54297.05682824,\n",
       "       -55152.71063738, -55366.99906328, -56924.15159662, -56721.52559756,\n",
       "       -58973.72742439, -58742.76789534, -59937.94941777, -60085.62775539,\n",
       "       -52343.1705263 , -52482.40424472, -53145.89118821, -53304.26774816,\n",
       "       -54093.90666034, -54123.29836554, -55593.65462486, -55613.02030274,\n",
       "       -57444.88507034, -57552.22500007, -58596.86995482, -58410.44151856,\n",
       "       -51780.87058357, -51740.97922259, -52716.15936511, -52787.30204697,\n",
       "       -53602.75598425, -53599.69343687, -54991.44553992, -55201.74061476,\n",
       "       -56840.52855978, -56996.32711475, -57842.30978745, -57837.67277038,\n",
       "       -57791.30433289, -58085.68888128, -60026.43340772, -59810.69067257,\n",
       "       -61082.3696236 , -61315.21049468, -63742.28595808, -63428.38187814,\n",
       "       -66193.47887909, -65904.37362355, -67207.21343113, -67694.70683829,\n",
       "       -54528.08829025, -54576.34208344, -56162.63294077, -56174.87883149,\n",
       "       -57227.6484417 , -57358.56423521, -59015.77216823, -59216.53056783,\n",
       "       -61499.87698839, -61343.86839461, -62500.27567289, -62447.93305022,\n",
       "       -52928.91337211, -52723.27694445, -54048.29022378, -53998.28650809,\n",
       "       -54885.39616661, -55003.85560941, -56784.11467873, -56528.59979361,\n",
       "       -58735.74569577, -58710.1070188 , -59754.17915617, -59768.94149634,\n",
       "       -51919.39961743, -51907.90801406, -53016.60616307, -52989.6417741 ,\n",
       "       -53891.67021066, -53870.57607821, -55574.98838512, -55658.11368505,\n",
       "       -57368.01975337, -57485.85857488, -58923.56075933, -58656.70638595,\n",
       "       -51406.85737169, -51293.87199067, -52515.79936622, -52382.34346813,\n",
       "       -53441.69431256, -53563.65610521, -54932.19883968, -54875.65618987,\n",
       "       -56743.12947581, -56839.04265757, -57774.65439842, -57824.19744003])"
      ]
     },
     "execution_count": 215,
     "metadata": {},
     "output_type": "execute_result"
    }
   ],
   "source": [
    "grid_search.cv_results_[\"mean_test_score\"]"
   ]
  },
  {
   "cell_type": "code",
   "execution_count": null,
   "id": "32502764-e173-46e8-9b2d-e2cdcaf4fe4d",
   "metadata": {},
   "outputs": [],
   "source": []
  }
 ],
 "metadata": {
  "kernelspec": {
   "display_name": "Python 3 (ipykernel)",
   "language": "python",
   "name": "python3"
  },
  "language_info": {
   "codemirror_mode": {
    "name": "ipython",
    "version": 3
   },
   "file_extension": ".py",
   "mimetype": "text/x-python",
   "name": "python",
   "nbconvert_exporter": "python",
   "pygments_lexer": "ipython3",
   "version": "3.11.7"
  }
 },
 "nbformat": 4,
 "nbformat_minor": 5
}
