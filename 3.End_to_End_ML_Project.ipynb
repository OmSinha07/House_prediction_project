{
 "cells": [
  {
   "cell_type": "markdown",
   "id": "bf389a5a-5365-4843-acfb-d4ac82dff62e",
   "metadata": {},
   "source": [
    "# End to End Machine Learning Project\n",
    "\n",
    "    Steps to build any ML model\n",
    "\n",
    "    1. Understanding the Problem / Look at the big Picture\n",
    "    2. Get the Data\n",
    "    3. Exploratory Data Analysis to Gain Insights from data\n",
    "    4. Prepare Data for Machine Learning Algorithms \n",
    "    5. Select a Model and Train it\n",
    "    6. Fine Tune your model\n",
    "    7. Present your Solution\n",
    "    8. Launch, Monitor, and Maintain your system"
   ]
  },
  {
   "cell_type": "code",
   "execution_count": 1,
   "id": "3e951388-9f4c-4bc4-ac8f-01e0e8b766a3",
   "metadata": {},
   "outputs": [],
   "source": [
    "import numpy as np\n",
    "import pandas as pd\n",
    "import matplotlib.pyplot as plt\n",
    "import seaborn as sns\n",
    "\n",
    "from pathlib import Path\n",
    "from urllib import request\n",
    "import os\n",
    "import tarfile\n"
   ]
  },
  {
   "cell_type": "code",
   "execution_count": 3,
   "id": "56f88203-57f0-468b-9860-795aecd945cd",
   "metadata": {},
   "outputs": [],
   "source": [
    "# download and extract housing data in datasets folder\n",
    "def get_housing_data():\n",
    "    dir_path = Path('datasets/')\n",
    "    file_path = Path('datasets/housing.tgz')\n",
    "    url = \"https://github.com/sachinyadav3496/handson-ml2/raw/master/datasets/housing/housing.tgz\"\n",
    "    if not dir_path.exists():\n",
    "        # if folder doesn't exists create one\n",
    "        os.mkdir(dir_path)\n",
    "    if not file_path.exists():\n",
    "        request.urlretrieve(url, file_path)\n",
    "        with tarfile.open(file_path) as file:\n",
    "            file.extractall(dir_path)\n",
    "        print(\"Dowload and Extraction is complete!\")\n",
    "    else:\n",
    "        print(\"Data already exists so skipping download and extraction!\")\n",
    "    \n",
    "    df = pd.read_csv(Path(\"datasets/housing.csv\"))\n",
    "    df['ocean_proximity'] = df['ocean_proximity'].astype('category')\n",
    "    return df\n",
    "    \n"
   ]
  },
  {
   "cell_type": "code",
   "execution_count": 5,
   "id": "1deab94d-7b1e-4ce1-a74d-28efb5f2df22",
   "metadata": {},
   "outputs": [
    {
     "name": "stdout",
     "output_type": "stream",
     "text": [
      "Data already exists so skipping download and extraction!\n"
     ]
    }
   ],
   "source": [
    "housing = get_housing_data()"
   ]
  },
  {
   "cell_type": "markdown",
   "id": "05eab5f7-4461-41ef-abf5-3e491854b879",
   "metadata": {},
   "source": [
    "# Sampling of Data into training and test set"
   ]
  },
  {
   "cell_type": "code",
   "execution_count": 8,
   "id": "a03b44d7-75de-4df6-ad8e-f1deab168b4c",
   "metadata": {},
   "outputs": [],
   "source": [
    "from sklearn.model_selection import train_test_split"
   ]
  },
  {
   "cell_type": "code",
   "execution_count": 10,
   "id": "3a615c48-33a9-4bc1-82ba-d7a093992603",
   "metadata": {},
   "outputs": [],
   "source": [
    "# supervise ML model\n",
    "X = housing.drop('median_house_value', axis=1) # features / atrributes\n",
    "y = housing['median_house_value'] # labels / target"
   ]
  },
  {
   "cell_type": "code",
   "execution_count": 12,
   "id": "517d8453-a692-417a-9f70-d550a0eddfc6",
   "metadata": {},
   "outputs": [],
   "source": [
    "X_train, X_test, y_train, y_test = train_test_split(X, y, test_size=.20, random_state=123)"
   ]
  },
  {
   "cell_type": "code",
   "execution_count": 14,
   "id": "7d8967d1-8f06-4391-a439-30bfd8475b1e",
   "metadata": {},
   "outputs": [
    {
     "data": {
      "text/html": [
       "<div>\n",
       "<style scoped>\n",
       "    .dataframe tbody tr th:only-of-type {\n",
       "        vertical-align: middle;\n",
       "    }\n",
       "\n",
       "    .dataframe tbody tr th {\n",
       "        vertical-align: top;\n",
       "    }\n",
       "\n",
       "    .dataframe thead th {\n",
       "        text-align: right;\n",
       "    }\n",
       "</style>\n",
       "<table border=\"1\" class=\"dataframe\">\n",
       "  <thead>\n",
       "    <tr style=\"text-align: right;\">\n",
       "      <th></th>\n",
       "      <th>longitude</th>\n",
       "      <th>latitude</th>\n",
       "      <th>housing_median_age</th>\n",
       "      <th>total_rooms</th>\n",
       "      <th>total_bedrooms</th>\n",
       "      <th>population</th>\n",
       "      <th>households</th>\n",
       "      <th>median_income</th>\n",
       "      <th>ocean_proximity</th>\n",
       "    </tr>\n",
       "  </thead>\n",
       "  <tbody>\n",
       "    <tr>\n",
       "      <th>9950</th>\n",
       "      <td>-122.33</td>\n",
       "      <td>38.38</td>\n",
       "      <td>28.0</td>\n",
       "      <td>1020.0</td>\n",
       "      <td>169.0</td>\n",
       "      <td>504.0</td>\n",
       "      <td>164.0</td>\n",
       "      <td>4.5694</td>\n",
       "      <td>INLAND</td>\n",
       "    </tr>\n",
       "    <tr>\n",
       "      <th>3547</th>\n",
       "      <td>-118.60</td>\n",
       "      <td>34.26</td>\n",
       "      <td>18.0</td>\n",
       "      <td>6154.0</td>\n",
       "      <td>1070.0</td>\n",
       "      <td>3010.0</td>\n",
       "      <td>1034.0</td>\n",
       "      <td>5.6392</td>\n",
       "      <td>&lt;1H OCEAN</td>\n",
       "    </tr>\n",
       "    <tr>\n",
       "      <th>4448</th>\n",
       "      <td>-118.21</td>\n",
       "      <td>34.07</td>\n",
       "      <td>47.0</td>\n",
       "      <td>1346.0</td>\n",
       "      <td>383.0</td>\n",
       "      <td>1452.0</td>\n",
       "      <td>371.0</td>\n",
       "      <td>1.7292</td>\n",
       "      <td>&lt;1H OCEAN</td>\n",
       "    </tr>\n",
       "    <tr>\n",
       "      <th>6984</th>\n",
       "      <td>-118.02</td>\n",
       "      <td>33.96</td>\n",
       "      <td>36.0</td>\n",
       "      <td>2071.0</td>\n",
       "      <td>398.0</td>\n",
       "      <td>988.0</td>\n",
       "      <td>404.0</td>\n",
       "      <td>4.6226</td>\n",
       "      <td>&lt;1H OCEAN</td>\n",
       "    </tr>\n",
       "    <tr>\n",
       "      <th>4432</th>\n",
       "      <td>-118.20</td>\n",
       "      <td>34.08</td>\n",
       "      <td>49.0</td>\n",
       "      <td>1320.0</td>\n",
       "      <td>309.0</td>\n",
       "      <td>1405.0</td>\n",
       "      <td>328.0</td>\n",
       "      <td>2.4375</td>\n",
       "      <td>&lt;1H OCEAN</td>\n",
       "    </tr>\n",
       "  </tbody>\n",
       "</table>\n",
       "</div>"
      ],
      "text/plain": [
       "      longitude  latitude  housing_median_age  total_rooms  total_bedrooms  \\\n",
       "9950    -122.33     38.38                28.0       1020.0           169.0   \n",
       "3547    -118.60     34.26                18.0       6154.0          1070.0   \n",
       "4448    -118.21     34.07                47.0       1346.0           383.0   \n",
       "6984    -118.02     33.96                36.0       2071.0           398.0   \n",
       "4432    -118.20     34.08                49.0       1320.0           309.0   \n",
       "\n",
       "      population  households  median_income ocean_proximity  \n",
       "9950       504.0       164.0         4.5694          INLAND  \n",
       "3547      3010.0      1034.0         5.6392       <1H OCEAN  \n",
       "4448      1452.0       371.0         1.7292       <1H OCEAN  \n",
       "6984       988.0       404.0         4.6226       <1H OCEAN  \n",
       "4432      1405.0       328.0         2.4375       <1H OCEAN  "
      ]
     },
     "execution_count": 14,
     "metadata": {},
     "output_type": "execute_result"
    }
   ],
   "source": [
    "X_train.head()"
   ]
  },
  {
   "cell_type": "code",
   "execution_count": 16,
   "id": "8ef58699-280b-4a24-911d-86c6915735c9",
   "metadata": {},
   "outputs": [
    {
     "data": {
      "text/plain": [
       "9950    287500.0\n",
       "3547    271500.0\n",
       "4448    191700.0\n",
       "6984    219700.0\n",
       "4432    114000.0\n",
       "Name: median_house_value, dtype: float64"
      ]
     },
     "execution_count": 16,
     "metadata": {},
     "output_type": "execute_result"
    }
   ],
   "source": [
    "y_train.head()"
   ]
  },
  {
   "cell_type": "code",
   "execution_count": 18,
   "id": "ce498027-5a34-4890-911e-5a50436d1aa1",
   "metadata": {},
   "outputs": [
    {
     "name": "stdout",
     "output_type": "stream",
     "text": [
      "Numerical features:  longitude latitude housing_median_age total_rooms total_bedrooms population households median_income\n",
      "Categorical features:  ocean_proximity\n"
     ]
    }
   ],
   "source": [
    "num_features = list(X_train.columns[:-1])\n",
    "cat_features = ['ocean_proximity']\n",
    "\n",
    "print(\"Numerical features: \", *num_features)\n",
    "print('Categorical features: ', *cat_features)"
   ]
  },
  {
   "cell_type": "code",
   "execution_count": 20,
   "id": "0247f7eb-fd61-4b8f-8049-1501f2121953",
   "metadata": {},
   "outputs": [],
   "source": [
    "X_train_num = X_train[num_features].copy()\n",
    "X_train_cat = X_train[cat_features].copy()\n",
    "\n",
    "X_test_num = X_test[num_features].copy()\n",
    "X_test_cat = X_test[cat_features].copy()"
   ]
  },
  {
   "cell_type": "code",
   "execution_count": 22,
   "id": "d9cccbe4-0035-4733-8cdc-223b6d91e157",
   "metadata": {},
   "outputs": [
    {
     "data": {
      "text/html": [
       "<div>\n",
       "<style scoped>\n",
       "    .dataframe tbody tr th:only-of-type {\n",
       "        vertical-align: middle;\n",
       "    }\n",
       "\n",
       "    .dataframe tbody tr th {\n",
       "        vertical-align: top;\n",
       "    }\n",
       "\n",
       "    .dataframe thead th {\n",
       "        text-align: right;\n",
       "    }\n",
       "</style>\n",
       "<table border=\"1\" class=\"dataframe\">\n",
       "  <thead>\n",
       "    <tr style=\"text-align: right;\">\n",
       "      <th></th>\n",
       "      <th>longitude</th>\n",
       "      <th>latitude</th>\n",
       "      <th>housing_median_age</th>\n",
       "      <th>total_rooms</th>\n",
       "      <th>total_bedrooms</th>\n",
       "      <th>population</th>\n",
       "      <th>households</th>\n",
       "      <th>median_income</th>\n",
       "    </tr>\n",
       "  </thead>\n",
       "  <tbody>\n",
       "    <tr>\n",
       "      <th>9950</th>\n",
       "      <td>-122.33</td>\n",
       "      <td>38.38</td>\n",
       "      <td>28.0</td>\n",
       "      <td>1020.0</td>\n",
       "      <td>169.0</td>\n",
       "      <td>504.0</td>\n",
       "      <td>164.0</td>\n",
       "      <td>4.5694</td>\n",
       "    </tr>\n",
       "    <tr>\n",
       "      <th>3547</th>\n",
       "      <td>-118.60</td>\n",
       "      <td>34.26</td>\n",
       "      <td>18.0</td>\n",
       "      <td>6154.0</td>\n",
       "      <td>1070.0</td>\n",
       "      <td>3010.0</td>\n",
       "      <td>1034.0</td>\n",
       "      <td>5.6392</td>\n",
       "    </tr>\n",
       "    <tr>\n",
       "      <th>4448</th>\n",
       "      <td>-118.21</td>\n",
       "      <td>34.07</td>\n",
       "      <td>47.0</td>\n",
       "      <td>1346.0</td>\n",
       "      <td>383.0</td>\n",
       "      <td>1452.0</td>\n",
       "      <td>371.0</td>\n",
       "      <td>1.7292</td>\n",
       "    </tr>\n",
       "    <tr>\n",
       "      <th>6984</th>\n",
       "      <td>-118.02</td>\n",
       "      <td>33.96</td>\n",
       "      <td>36.0</td>\n",
       "      <td>2071.0</td>\n",
       "      <td>398.0</td>\n",
       "      <td>988.0</td>\n",
       "      <td>404.0</td>\n",
       "      <td>4.6226</td>\n",
       "    </tr>\n",
       "    <tr>\n",
       "      <th>4432</th>\n",
       "      <td>-118.20</td>\n",
       "      <td>34.08</td>\n",
       "      <td>49.0</td>\n",
       "      <td>1320.0</td>\n",
       "      <td>309.0</td>\n",
       "      <td>1405.0</td>\n",
       "      <td>328.0</td>\n",
       "      <td>2.4375</td>\n",
       "    </tr>\n",
       "  </tbody>\n",
       "</table>\n",
       "</div>"
      ],
      "text/plain": [
       "      longitude  latitude  housing_median_age  total_rooms  total_bedrooms  \\\n",
       "9950    -122.33     38.38                28.0       1020.0           169.0   \n",
       "3547    -118.60     34.26                18.0       6154.0          1070.0   \n",
       "4448    -118.21     34.07                47.0       1346.0           383.0   \n",
       "6984    -118.02     33.96                36.0       2071.0           398.0   \n",
       "4432    -118.20     34.08                49.0       1320.0           309.0   \n",
       "\n",
       "      population  households  median_income  \n",
       "9950       504.0       164.0         4.5694  \n",
       "3547      3010.0      1034.0         5.6392  \n",
       "4448      1452.0       371.0         1.7292  \n",
       "6984       988.0       404.0         4.6226  \n",
       "4432      1405.0       328.0         2.4375  "
      ]
     },
     "execution_count": 22,
     "metadata": {},
     "output_type": "execute_result"
    }
   ],
   "source": [
    "X_train_num.head()"
   ]
  },
  {
   "cell_type": "code",
   "execution_count": 24,
   "id": "33307604-7372-48dc-ad54-770bbc4bd9ba",
   "metadata": {},
   "outputs": [
    {
     "data": {
      "text/html": [
       "<div>\n",
       "<style scoped>\n",
       "    .dataframe tbody tr th:only-of-type {\n",
       "        vertical-align: middle;\n",
       "    }\n",
       "\n",
       "    .dataframe tbody tr th {\n",
       "        vertical-align: top;\n",
       "    }\n",
       "\n",
       "    .dataframe thead th {\n",
       "        text-align: right;\n",
       "    }\n",
       "</style>\n",
       "<table border=\"1\" class=\"dataframe\">\n",
       "  <thead>\n",
       "    <tr style=\"text-align: right;\">\n",
       "      <th></th>\n",
       "      <th>ocean_proximity</th>\n",
       "    </tr>\n",
       "  </thead>\n",
       "  <tbody>\n",
       "    <tr>\n",
       "      <th>9950</th>\n",
       "      <td>INLAND</td>\n",
       "    </tr>\n",
       "    <tr>\n",
       "      <th>3547</th>\n",
       "      <td>&lt;1H OCEAN</td>\n",
       "    </tr>\n",
       "    <tr>\n",
       "      <th>4448</th>\n",
       "      <td>&lt;1H OCEAN</td>\n",
       "    </tr>\n",
       "    <tr>\n",
       "      <th>6984</th>\n",
       "      <td>&lt;1H OCEAN</td>\n",
       "    </tr>\n",
       "    <tr>\n",
       "      <th>4432</th>\n",
       "      <td>&lt;1H OCEAN</td>\n",
       "    </tr>\n",
       "  </tbody>\n",
       "</table>\n",
       "</div>"
      ],
      "text/plain": [
       "     ocean_proximity\n",
       "9950          INLAND\n",
       "3547       <1H OCEAN\n",
       "4448       <1H OCEAN\n",
       "6984       <1H OCEAN\n",
       "4432       <1H OCEAN"
      ]
     },
     "execution_count": 24,
     "metadata": {},
     "output_type": "execute_result"
    }
   ],
   "source": [
    "X_train_cat.head()"
   ]
  },
  {
   "cell_type": "code",
   "execution_count": 26,
   "id": "36e762ea-ea60-4df1-8b9f-376a25af27e3",
   "metadata": {},
   "outputs": [],
   "source": [
    "#sns.get_dataset_names()\n",
    "#tips, mpg"
   ]
  },
  {
   "cell_type": "code",
   "execution_count": 28,
   "id": "2623d177-5ca7-4423-bb93-3daf91484c70",
   "metadata": {},
   "outputs": [
    {
     "data": {
      "text/html": [
       "<div>\n",
       "<style scoped>\n",
       "    .dataframe tbody tr th:only-of-type {\n",
       "        vertical-align: middle;\n",
       "    }\n",
       "\n",
       "    .dataframe tbody tr th {\n",
       "        vertical-align: top;\n",
       "    }\n",
       "\n",
       "    .dataframe thead th {\n",
       "        text-align: right;\n",
       "    }\n",
       "</style>\n",
       "<table border=\"1\" class=\"dataframe\">\n",
       "  <thead>\n",
       "    <tr style=\"text-align: right;\">\n",
       "      <th></th>\n",
       "      <th>mpg</th>\n",
       "      <th>cylinders</th>\n",
       "      <th>displacement</th>\n",
       "      <th>horsepower</th>\n",
       "      <th>weight</th>\n",
       "      <th>acceleration</th>\n",
       "      <th>model_year</th>\n",
       "      <th>origin</th>\n",
       "      <th>name</th>\n",
       "    </tr>\n",
       "  </thead>\n",
       "  <tbody>\n",
       "    <tr>\n",
       "      <th>0</th>\n",
       "      <td>18.0</td>\n",
       "      <td>8</td>\n",
       "      <td>307.0</td>\n",
       "      <td>130.0</td>\n",
       "      <td>3504</td>\n",
       "      <td>12.0</td>\n",
       "      <td>70</td>\n",
       "      <td>usa</td>\n",
       "      <td>chevrolet chevelle malibu</td>\n",
       "    </tr>\n",
       "    <tr>\n",
       "      <th>1</th>\n",
       "      <td>15.0</td>\n",
       "      <td>8</td>\n",
       "      <td>350.0</td>\n",
       "      <td>165.0</td>\n",
       "      <td>3693</td>\n",
       "      <td>11.5</td>\n",
       "      <td>70</td>\n",
       "      <td>usa</td>\n",
       "      <td>buick skylark 320</td>\n",
       "    </tr>\n",
       "    <tr>\n",
       "      <th>2</th>\n",
       "      <td>18.0</td>\n",
       "      <td>8</td>\n",
       "      <td>318.0</td>\n",
       "      <td>150.0</td>\n",
       "      <td>3436</td>\n",
       "      <td>11.0</td>\n",
       "      <td>70</td>\n",
       "      <td>usa</td>\n",
       "      <td>plymouth satellite</td>\n",
       "    </tr>\n",
       "    <tr>\n",
       "      <th>3</th>\n",
       "      <td>16.0</td>\n",
       "      <td>8</td>\n",
       "      <td>304.0</td>\n",
       "      <td>150.0</td>\n",
       "      <td>3433</td>\n",
       "      <td>12.0</td>\n",
       "      <td>70</td>\n",
       "      <td>usa</td>\n",
       "      <td>amc rebel sst</td>\n",
       "    </tr>\n",
       "    <tr>\n",
       "      <th>4</th>\n",
       "      <td>17.0</td>\n",
       "      <td>8</td>\n",
       "      <td>302.0</td>\n",
       "      <td>140.0</td>\n",
       "      <td>3449</td>\n",
       "      <td>10.5</td>\n",
       "      <td>70</td>\n",
       "      <td>usa</td>\n",
       "      <td>ford torino</td>\n",
       "    </tr>\n",
       "  </tbody>\n",
       "</table>\n",
       "</div>"
      ],
      "text/plain": [
       "    mpg  cylinders  displacement  horsepower  weight  acceleration  \\\n",
       "0  18.0          8         307.0       130.0    3504          12.0   \n",
       "1  15.0          8         350.0       165.0    3693          11.5   \n",
       "2  18.0          8         318.0       150.0    3436          11.0   \n",
       "3  16.0          8         304.0       150.0    3433          12.0   \n",
       "4  17.0          8         302.0       140.0    3449          10.5   \n",
       "\n",
       "   model_year origin                       name  \n",
       "0          70    usa  chevrolet chevelle malibu  \n",
       "1          70    usa          buick skylark 320  \n",
       "2          70    usa         plymouth satellite  \n",
       "3          70    usa              amc rebel sst  \n",
       "4          70    usa                ford torino  "
      ]
     },
     "execution_count": 28,
     "metadata": {},
     "output_type": "execute_result"
    }
   ],
   "source": [
    "mpg = sns.load_dataset('mpg')\n",
    "mpg.head()"
   ]
  },
  {
   "cell_type": "code",
   "execution_count": 30,
   "id": "67fc0c65-a01c-4e17-a0d1-b103cacfe013",
   "metadata": {},
   "outputs": [
    {
     "data": {
      "image/png": "[encoded data removed]",
      "text/plain": [
       "<Figure size 640x480 with 2 Axes>"
      ]
     },
     "metadata": {},
     "output_type": "display_data"
    }
   ],
   "source": [
    "mpg.plot(kind='scatter', x='horsepower', y='mpg', c='cylinders')\n",
    "plt.show()"
   ]
  },
  {
   "cell_type": "code",
   "execution_count": 32,
   "id": "a32c59b6-764a-418f-91cb-c83cc0a69a1f",
   "metadata": {},
   "outputs": [
    {
     "data": {
      "text/html": [
       "<div>\n",
       "<style scoped>\n",
       "    .dataframe tbody tr th:only-of-type {\n",
       "        vertical-align: middle;\n",
       "    }\n",
       "\n",
       "    .dataframe tbody tr th {\n",
       "        vertical-align: top;\n",
       "    }\n",
       "\n",
       "    .dataframe thead th {\n",
       "        text-align: right;\n",
       "    }\n",
       "</style>\n",
       "<table border=\"1\" class=\"dataframe\">\n",
       "  <thead>\n",
       "    <tr style=\"text-align: right;\">\n",
       "      <th></th>\n",
       "      <th>0</th>\n",
       "      <th>1</th>\n",
       "      <th>2</th>\n",
       "      <th>3</th>\n",
       "      <th>4</th>\n",
       "      <th>5</th>\n",
       "      <th>6</th>\n",
       "      <th>7</th>\n",
       "      <th>8</th>\n",
       "      <th>9</th>\n",
       "      <th>10</th>\n",
       "    </tr>\n",
       "  </thead>\n",
       "  <tbody>\n",
       "    <tr>\n",
       "      <th>0</th>\n",
       "      <td>0.00632</td>\n",
       "      <td>18.00</td>\n",
       "      <td>2.31</td>\n",
       "      <td>0.0</td>\n",
       "      <td>0.538</td>\n",
       "      <td>6.575</td>\n",
       "      <td>65.2</td>\n",
       "      <td>4.0900</td>\n",
       "      <td>1.0</td>\n",
       "      <td>296.0</td>\n",
       "      <td>15.3</td>\n",
       "    </tr>\n",
       "    <tr>\n",
       "      <th>1</th>\n",
       "      <td>396.90000</td>\n",
       "      <td>4.98</td>\n",
       "      <td>24.00</td>\n",
       "      <td>NaN</td>\n",
       "      <td>NaN</td>\n",
       "      <td>NaN</td>\n",
       "      <td>NaN</td>\n",
       "      <td>NaN</td>\n",
       "      <td>NaN</td>\n",
       "      <td>NaN</td>\n",
       "      <td>NaN</td>\n",
       "    </tr>\n",
       "    <tr>\n",
       "      <th>2</th>\n",
       "      <td>0.02731</td>\n",
       "      <td>0.00</td>\n",
       "      <td>7.07</td>\n",
       "      <td>0.0</td>\n",
       "      <td>0.469</td>\n",
       "      <td>6.421</td>\n",
       "      <td>78.9</td>\n",
       "      <td>4.9671</td>\n",
       "      <td>2.0</td>\n",
       "      <td>242.0</td>\n",
       "      <td>17.8</td>\n",
       "    </tr>\n",
       "    <tr>\n",
       "      <th>3</th>\n",
       "      <td>396.90000</td>\n",
       "      <td>9.14</td>\n",
       "      <td>21.60</td>\n",
       "      <td>NaN</td>\n",
       "      <td>NaN</td>\n",
       "      <td>NaN</td>\n",
       "      <td>NaN</td>\n",
       "      <td>NaN</td>\n",
       "      <td>NaN</td>\n",
       "      <td>NaN</td>\n",
       "      <td>NaN</td>\n",
       "    </tr>\n",
       "    <tr>\n",
       "      <th>4</th>\n",
       "      <td>0.02729</td>\n",
       "      <td>0.00</td>\n",
       "      <td>7.07</td>\n",
       "      <td>0.0</td>\n",
       "      <td>0.469</td>\n",
       "      <td>7.185</td>\n",
       "      <td>61.1</td>\n",
       "      <td>4.9671</td>\n",
       "      <td>2.0</td>\n",
       "      <td>242.0</td>\n",
       "      <td>17.8</td>\n",
       "    </tr>\n",
       "    <tr>\n",
       "      <th>...</th>\n",
       "      <td>...</td>\n",
       "      <td>...</td>\n",
       "      <td>...</td>\n",
       "      <td>...</td>\n",
       "      <td>...</td>\n",
       "      <td>...</td>\n",
       "      <td>...</td>\n",
       "      <td>...</td>\n",
       "      <td>...</td>\n",
       "      <td>...</td>\n",
       "      <td>...</td>\n",
       "    </tr>\n",
       "    <tr>\n",
       "      <th>1007</th>\n",
       "      <td>396.90000</td>\n",
       "      <td>5.64</td>\n",
       "      <td>23.90</td>\n",
       "      <td>NaN</td>\n",
       "      <td>NaN</td>\n",
       "      <td>NaN</td>\n",
       "      <td>NaN</td>\n",
       "      <td>NaN</td>\n",
       "      <td>NaN</td>\n",
       "      <td>NaN</td>\n",
       "      <td>NaN</td>\n",
       "    </tr>\n",
       "    <tr>\n",
       "      <th>1008</th>\n",
       "      <td>0.10959</td>\n",
       "      <td>0.00</td>\n",
       "      <td>11.93</td>\n",
       "      <td>0.0</td>\n",
       "      <td>0.573</td>\n",
       "      <td>6.794</td>\n",
       "      <td>89.3</td>\n",
       "      <td>2.3889</td>\n",
       "      <td>1.0</td>\n",
       "      <td>273.0</td>\n",
       "      <td>21.0</td>\n",
       "    </tr>\n",
       "    <tr>\n",
       "      <th>1009</th>\n",
       "      <td>393.45000</td>\n",
       "      <td>6.48</td>\n",
       "      <td>22.00</td>\n",
       "      <td>NaN</td>\n",
       "      <td>NaN</td>\n",
       "      <td>NaN</td>\n",
       "      <td>NaN</td>\n",
       "      <td>NaN</td>\n",
       "      <td>NaN</td>\n",
       "      <td>NaN</td>\n",
       "      <td>NaN</td>\n",
       "    </tr>\n",
       "    <tr>\n",
       "      <th>1010</th>\n",
       "      <td>0.04741</td>\n",
       "      <td>0.00</td>\n",
       "      <td>11.93</td>\n",
       "      <td>0.0</td>\n",
       "      <td>0.573</td>\n",
       "      <td>6.030</td>\n",
       "      <td>80.8</td>\n",
       "      <td>2.5050</td>\n",
       "      <td>1.0</td>\n",
       "      <td>273.0</td>\n",
       "      <td>21.0</td>\n",
       "    </tr>\n",
       "    <tr>\n",
       "      <th>1011</th>\n",
       "      <td>396.90000</td>\n",
       "      <td>7.88</td>\n",
       "      <td>11.90</td>\n",
       "      <td>NaN</td>\n",
       "      <td>NaN</td>\n",
       "      <td>NaN</td>\n",
       "      <td>NaN</td>\n",
       "      <td>NaN</td>\n",
       "      <td>NaN</td>\n",
       "      <td>NaN</td>\n",
       "      <td>NaN</td>\n",
       "    </tr>\n",
       "  </tbody>\n",
       "</table>\n",
       "<p>1012 rows × 11 columns</p>\n",
       "</div>"
      ],
      "text/plain": [
       "             0      1      2    3      4      5     6       7    8      9   \\\n",
       "0       0.00632  18.00   2.31  0.0  0.538  6.575  65.2  4.0900  1.0  296.0   \n",
       "1     396.90000   4.98  24.00  NaN    NaN    NaN   NaN     NaN  NaN    NaN   \n",
       "2       0.02731   0.00   7.07  0.0  0.469  6.421  78.9  4.9671  2.0  242.0   \n",
       "3     396.90000   9.14  21.60  NaN    NaN    NaN   NaN     NaN  NaN    NaN   \n",
       "4       0.02729   0.00   7.07  0.0  0.469  7.185  61.1  4.9671  2.0  242.0   \n",
       "...         ...    ...    ...  ...    ...    ...   ...     ...  ...    ...   \n",
       "1007  396.90000   5.64  23.90  NaN    NaN    NaN   NaN     NaN  NaN    NaN   \n",
       "1008    0.10959   0.00  11.93  0.0  0.573  6.794  89.3  2.3889  1.0  273.0   \n",
       "1009  393.45000   6.48  22.00  NaN    NaN    NaN   NaN     NaN  NaN    NaN   \n",
       "1010    0.04741   0.00  11.93  0.0  0.573  6.030  80.8  2.5050  1.0  273.0   \n",
       "1011  396.90000   7.88  11.90  NaN    NaN    NaN   NaN     NaN  NaN    NaN   \n",
       "\n",
       "        10  \n",
       "0     15.3  \n",
       "1      NaN  \n",
       "2     17.8  \n",
       "3      NaN  \n",
       "4     17.8  \n",
       "...    ...  \n",
       "1007   NaN  \n",
       "1008  21.0  \n",
       "1009   NaN  \n",
       "1010  21.0  \n",
       "1011   NaN  \n",
       "\n",
       "[1012 rows x 11 columns]"
      ]
     },
     "execution_count": 32,
     "metadata": {},
     "output_type": "execute_result"
    }
   ],
   "source": [
    "data_url = \"http://lib.stat.cmu.edu/datasets/boston\"\n",
    "pd.read_csv(data_url, sep=\"\\s+\", skiprows=22, header=None)\n",
    "# history "
   ]
  },
  {
   "cell_type": "code",
   "execution_count": null,
   "id": "eb4ea14c-1bcd-4a92-bcdf-863b91e54a03",
   "metadata": {},
   "outputs": [],
   "source": []
  },
  {
   "cell_type": "code",
   "execution_count": 35,
   "id": "82dfc78a-21db-49f5-849b-2992f5674bc9",
   "metadata": {},
   "outputs": [
    {
     "data": {
      "text/plain": [
       "median_income         0.688904\n",
       "latitude             -0.150574\n",
       "total_rooms           0.132965\n",
       "housing_median_age    0.099487\n",
       "households            0.064043\n",
       "total_bedrooms        0.048823\n",
       "longitude            -0.038349\n",
       "population           -0.024484\n",
       "dtype: float64"
      ]
     },
     "execution_count": 35,
     "metadata": {},
     "output_type": "execute_result"
    }
   ],
   "source": [
    "corr = X_train_num.corrwith(y_train).sort_values(ascending=False, key=lambda v:abs(v))\n",
    "corr"
   ]
  },
  {
   "cell_type": "markdown",
   "id": "da7364a3-0fba-4507-8744-c5153e377c42",
   "metadata": {},
   "source": [
    "### Pre-pare Data For ML Model\n",
    "\n",
    "        missing values\n",
    "        all features should be numerical\n",
    "        data distribution should be normal (less outliers)\n",
    "        data should scaled"
   ]
  },
  {
   "cell_type": "markdown",
   "id": "39cd0812-0e93-4396-a8c5-befa11434502",
   "metadata": {},
   "source": [
    "# Dealing with categorical data\n",
    "\n",
    "    Encode data into numerical values\n",
    "\n",
    "                Cat - B, C, B, A\n",
    "\n",
    "                Ordinal Encoding - Label encoding   we assign a numerical number to each category A-0, B-1, C=2\n",
    "\n",
    "                                    Cat - 1, 2, 1, 0\n",
    "\n",
    "                Nominal Encoding - One Hot Encoding we create a seprate column for each category and for each row we assign to corresponding category columns and rest will be assigned 0\n",
    "\n",
    "                        A     B     C\n",
    "                        0     1     0\n",
    "                        0     0     1\n",
    "                        0     1     0\n",
    "                        1     0     0"
   ]
  },
  {
   "cell_type": "code",
   "execution_count": 39,
   "id": "ca0f41aa-42d1-4b52-96e9-fab6f09c23ae",
   "metadata": {},
   "outputs": [
    {
     "data": {
      "text/html": [
       "<div>\n",
       "<style scoped>\n",
       "    .dataframe tbody tr th:only-of-type {\n",
       "        vertical-align: middle;\n",
       "    }\n",
       "\n",
       "    .dataframe tbody tr th {\n",
       "        vertical-align: top;\n",
       "    }\n",
       "\n",
       "    .dataframe thead th {\n",
       "        text-align: right;\n",
       "    }\n",
       "</style>\n",
       "<table border=\"1\" class=\"dataframe\">\n",
       "  <thead>\n",
       "    <tr style=\"text-align: right;\">\n",
       "      <th></th>\n",
       "      <th>ocean_proximity</th>\n",
       "    </tr>\n",
       "  </thead>\n",
       "  <tbody>\n",
       "    <tr>\n",
       "      <th>9950</th>\n",
       "      <td>INLAND</td>\n",
       "    </tr>\n",
       "    <tr>\n",
       "      <th>3547</th>\n",
       "      <td>&lt;1H OCEAN</td>\n",
       "    </tr>\n",
       "    <tr>\n",
       "      <th>4448</th>\n",
       "      <td>&lt;1H OCEAN</td>\n",
       "    </tr>\n",
       "    <tr>\n",
       "      <th>6984</th>\n",
       "      <td>&lt;1H OCEAN</td>\n",
       "    </tr>\n",
       "    <tr>\n",
       "      <th>4432</th>\n",
       "      <td>&lt;1H OCEAN</td>\n",
       "    </tr>\n",
       "  </tbody>\n",
       "</table>\n",
       "</div>"
      ],
      "text/plain": [
       "     ocean_proximity\n",
       "9950          INLAND\n",
       "3547       <1H OCEAN\n",
       "4448       <1H OCEAN\n",
       "6984       <1H OCEAN\n",
       "4432       <1H OCEAN"
      ]
     },
     "execution_count": 39,
     "metadata": {},
     "output_type": "execute_result"
    }
   ],
   "source": [
    "X_train_cat.head()"
   ]
  },
  {
   "cell_type": "markdown",
   "id": "13fadc3f-ae92-4225-97c2-e730482b1b4b",
   "metadata": {},
   "source": [
    "# Transformers "
   ]
  },
  {
   "cell_type": "code",
   "execution_count": 42,
   "id": "13c1e805-9095-4cdd-9a0b-884101ebc39c",
   "metadata": {},
   "outputs": [],
   "source": [
    "from sklearn.preprocessing import OneHotEncoder"
   ]
  },
  {
   "cell_type": "code",
   "execution_count": 44,
   "id": "84550d0c-a2e2-4e75-a11e-87e0b7bd6c1b",
   "metadata": {},
   "outputs": [
    {
     "data": {
      "text/plain": [
       "[array(['<1H OCEAN', 'INLAND', 'ISLAND', 'NEAR BAY', 'NEAR OCEAN'],\n",
       "       dtype=object)]"
      ]
     },
     "execution_count": 44,
     "metadata": {},
     "output_type": "execute_result"
    }
   ],
   "source": [
    "encoder = OneHotEncoder()\n",
    "encoder.fit(X_train_cat)\n",
    "encoder.categories_"
   ]
  },
  {
   "cell_type": "code",
   "execution_count": 46,
   "id": "e9e2b005-474d-41e4-85f4-936c5c68fe0e",
   "metadata": {},
   "outputs": [
    {
     "data": {
      "text/html": [
       "<div>\n",
       "<style scoped>\n",
       "    .dataframe tbody tr th:only-of-type {\n",
       "        vertical-align: middle;\n",
       "    }\n",
       "\n",
       "    .dataframe tbody tr th {\n",
       "        vertical-align: top;\n",
       "    }\n",
       "\n",
       "    .dataframe thead th {\n",
       "        text-align: right;\n",
       "    }\n",
       "</style>\n",
       "<table border=\"1\" class=\"dataframe\">\n",
       "  <thead>\n",
       "    <tr style=\"text-align: right;\">\n",
       "      <th></th>\n",
       "      <th>&lt;1H OCEAN</th>\n",
       "      <th>INLAND</th>\n",
       "      <th>ISLAND</th>\n",
       "      <th>NEAR BAY</th>\n",
       "      <th>NEAR OCEAN</th>\n",
       "    </tr>\n",
       "  </thead>\n",
       "  <tbody>\n",
       "    <tr>\n",
       "      <th>9950</th>\n",
       "      <td>0.0</td>\n",
       "      <td>1.0</td>\n",
       "      <td>0.0</td>\n",
       "      <td>0.0</td>\n",
       "      <td>0.0</td>\n",
       "    </tr>\n",
       "    <tr>\n",
       "      <th>3547</th>\n",
       "      <td>1.0</td>\n",
       "      <td>0.0</td>\n",
       "      <td>0.0</td>\n",
       "      <td>0.0</td>\n",
       "      <td>0.0</td>\n",
       "    </tr>\n",
       "    <tr>\n",
       "      <th>4448</th>\n",
       "      <td>1.0</td>\n",
       "      <td>0.0</td>\n",
       "      <td>0.0</td>\n",
       "      <td>0.0</td>\n",
       "      <td>0.0</td>\n",
       "    </tr>\n",
       "    <tr>\n",
       "      <th>6984</th>\n",
       "      <td>1.0</td>\n",
       "      <td>0.0</td>\n",
       "      <td>0.0</td>\n",
       "      <td>0.0</td>\n",
       "      <td>0.0</td>\n",
       "    </tr>\n",
       "    <tr>\n",
       "      <th>4432</th>\n",
       "      <td>1.0</td>\n",
       "      <td>0.0</td>\n",
       "      <td>0.0</td>\n",
       "      <td>0.0</td>\n",
       "      <td>0.0</td>\n",
       "    </tr>\n",
       "  </tbody>\n",
       "</table>\n",
       "</div>"
      ],
      "text/plain": [
       "      <1H OCEAN  INLAND  ISLAND  NEAR BAY  NEAR OCEAN\n",
       "9950        0.0     1.0     0.0       0.0         0.0\n",
       "3547        1.0     0.0     0.0       0.0         0.0\n",
       "4448        1.0     0.0     0.0       0.0         0.0\n",
       "6984        1.0     0.0     0.0       0.0         0.0\n",
       "4432        1.0     0.0     0.0       0.0         0.0"
      ]
     },
     "execution_count": 46,
     "metadata": {},
     "output_type": "execute_result"
    }
   ],
   "source": [
    "#                         sparse matrix\n",
    "X_train_cat_tr = pd.DataFrame(\n",
    "    encoder.transform(X_train_cat).toarray(),\n",
    "    columns=[_ for _ in encoder.categories_[0]],\n",
    "    index=X_train_cat.index )\n",
    "X_train_cat_tr.head()"
   ]
  },
  {
   "cell_type": "code",
   "execution_count": 48,
   "id": "015d6310-16fe-4a2d-a735-9d465541ffe8",
   "metadata": {},
   "outputs": [
    {
     "data": {
      "text/html": [
       "<div>\n",
       "<style scoped>\n",
       "    .dataframe tbody tr th:only-of-type {\n",
       "        vertical-align: middle;\n",
       "    }\n",
       "\n",
       "    .dataframe tbody tr th {\n",
       "        vertical-align: top;\n",
       "    }\n",
       "\n",
       "    .dataframe thead th {\n",
       "        text-align: right;\n",
       "    }\n",
       "</style>\n",
       "<table border=\"1\" class=\"dataframe\">\n",
       "  <thead>\n",
       "    <tr style=\"text-align: right;\">\n",
       "      <th></th>\n",
       "      <th>&lt;1H OCEAN</th>\n",
       "      <th>INLAND</th>\n",
       "      <th>ISLAND</th>\n",
       "      <th>NEAR BAY</th>\n",
       "      <th>NEAR OCEAN</th>\n",
       "    </tr>\n",
       "  </thead>\n",
       "  <tbody>\n",
       "    <tr>\n",
       "      <th>19121</th>\n",
       "      <td>1.0</td>\n",
       "      <td>0.0</td>\n",
       "      <td>0.0</td>\n",
       "      <td>0.0</td>\n",
       "      <td>0.0</td>\n",
       "    </tr>\n",
       "    <tr>\n",
       "      <th>20019</th>\n",
       "      <td>0.0</td>\n",
       "      <td>1.0</td>\n",
       "      <td>0.0</td>\n",
       "      <td>0.0</td>\n",
       "      <td>0.0</td>\n",
       "    </tr>\n",
       "    <tr>\n",
       "      <th>15104</th>\n",
       "      <td>1.0</td>\n",
       "      <td>0.0</td>\n",
       "      <td>0.0</td>\n",
       "      <td>0.0</td>\n",
       "      <td>0.0</td>\n",
       "    </tr>\n",
       "    <tr>\n",
       "      <th>3720</th>\n",
       "      <td>1.0</td>\n",
       "      <td>0.0</td>\n",
       "      <td>0.0</td>\n",
       "      <td>0.0</td>\n",
       "      <td>0.0</td>\n",
       "    </tr>\n",
       "    <tr>\n",
       "      <th>8938</th>\n",
       "      <td>1.0</td>\n",
       "      <td>0.0</td>\n",
       "      <td>0.0</td>\n",
       "      <td>0.0</td>\n",
       "      <td>0.0</td>\n",
       "    </tr>\n",
       "  </tbody>\n",
       "</table>\n",
       "</div>"
      ],
      "text/plain": [
       "       <1H OCEAN  INLAND  ISLAND  NEAR BAY  NEAR OCEAN\n",
       "19121        1.0     0.0     0.0       0.0         0.0\n",
       "20019        0.0     1.0     0.0       0.0         0.0\n",
       "15104        1.0     0.0     0.0       0.0         0.0\n",
       "3720         1.0     0.0     0.0       0.0         0.0\n",
       "8938         1.0     0.0     0.0       0.0         0.0"
      ]
     },
     "execution_count": 48,
     "metadata": {},
     "output_type": "execute_result"
    }
   ],
   "source": [
    "#                         sparse matrix\n",
    "X_test_cat_tr = pd.DataFrame(\n",
    "    encoder.transform(X_test_cat).toarray(),\n",
    "    columns=[_ for _ in encoder.categories_[0]],\n",
    "    index=X_test_cat.index )\n",
    "X_test_cat_tr.head()"
   ]
  },
  {
   "cell_type": "markdown",
   "id": "834ae44b-f519-4479-a73a-c86fbfffd5cd",
   "metadata": {},
   "source": [
    "### Numerical Data Processing\n",
    "\n",
    "    1. Imputing Missing values \n",
    "    2. Removal of outliers to make shape data Normal\n",
    "    3. Scaling as many ML models are sensitive scaling of data"
   ]
  },
  {
   "cell_type": "code",
   "execution_count": 51,
   "id": "4fe290b2-b14a-44d0-ba53-c462ac8021c6",
   "metadata": {},
   "outputs": [
    {
     "data": {
      "text/html": [
       "<div>\n",
       "<style scoped>\n",
       "    .dataframe tbody tr th:only-of-type {\n",
       "        vertical-align: middle;\n",
       "    }\n",
       "\n",
       "    .dataframe tbody tr th {\n",
       "        vertical-align: top;\n",
       "    }\n",
       "\n",
       "    .dataframe thead th {\n",
       "        text-align: right;\n",
       "    }\n",
       "</style>\n",
       "<table border=\"1\" class=\"dataframe\">\n",
       "  <thead>\n",
       "    <tr style=\"text-align: right;\">\n",
       "      <th></th>\n",
       "      <th>longitude</th>\n",
       "      <th>latitude</th>\n",
       "      <th>housing_median_age</th>\n",
       "      <th>total_rooms</th>\n",
       "      <th>total_bedrooms</th>\n",
       "      <th>population</th>\n",
       "      <th>households</th>\n",
       "      <th>median_income</th>\n",
       "    </tr>\n",
       "  </thead>\n",
       "  <tbody>\n",
       "    <tr>\n",
       "      <th>9950</th>\n",
       "      <td>-122.33</td>\n",
       "      <td>38.38</td>\n",
       "      <td>28.0</td>\n",
       "      <td>1020.0</td>\n",
       "      <td>169.0</td>\n",
       "      <td>504.0</td>\n",
       "      <td>164.0</td>\n",
       "      <td>4.5694</td>\n",
       "    </tr>\n",
       "    <tr>\n",
       "      <th>3547</th>\n",
       "      <td>-118.60</td>\n",
       "      <td>34.26</td>\n",
       "      <td>18.0</td>\n",
       "      <td>6154.0</td>\n",
       "      <td>1070.0</td>\n",
       "      <td>3010.0</td>\n",
       "      <td>1034.0</td>\n",
       "      <td>5.6392</td>\n",
       "    </tr>\n",
       "    <tr>\n",
       "      <th>4448</th>\n",
       "      <td>-118.21</td>\n",
       "      <td>34.07</td>\n",
       "      <td>47.0</td>\n",
       "      <td>1346.0</td>\n",
       "      <td>383.0</td>\n",
       "      <td>1452.0</td>\n",
       "      <td>371.0</td>\n",
       "      <td>1.7292</td>\n",
       "    </tr>\n",
       "    <tr>\n",
       "      <th>6984</th>\n",
       "      <td>-118.02</td>\n",
       "      <td>33.96</td>\n",
       "      <td>36.0</td>\n",
       "      <td>2071.0</td>\n",
       "      <td>398.0</td>\n",
       "      <td>988.0</td>\n",
       "      <td>404.0</td>\n",
       "      <td>4.6226</td>\n",
       "    </tr>\n",
       "    <tr>\n",
       "      <th>4432</th>\n",
       "      <td>-118.20</td>\n",
       "      <td>34.08</td>\n",
       "      <td>49.0</td>\n",
       "      <td>1320.0</td>\n",
       "      <td>309.0</td>\n",
       "      <td>1405.0</td>\n",
       "      <td>328.0</td>\n",
       "      <td>2.4375</td>\n",
       "    </tr>\n",
       "  </tbody>\n",
       "</table>\n",
       "</div>"
      ],
      "text/plain": [
       "      longitude  latitude  housing_median_age  total_rooms  total_bedrooms  \\\n",
       "9950    -122.33     38.38                28.0       1020.0           169.0   \n",
       "3547    -118.60     34.26                18.0       6154.0          1070.0   \n",
       "4448    -118.21     34.07                47.0       1346.0           383.0   \n",
       "6984    -118.02     33.96                36.0       2071.0           398.0   \n",
       "4432    -118.20     34.08                49.0       1320.0           309.0   \n",
       "\n",
       "      population  households  median_income  \n",
       "9950       504.0       164.0         4.5694  \n",
       "3547      3010.0      1034.0         5.6392  \n",
       "4448      1452.0       371.0         1.7292  \n",
       "6984       988.0       404.0         4.6226  \n",
       "4432      1405.0       328.0         2.4375  "
      ]
     },
     "execution_count": 51,
     "metadata": {},
     "output_type": "execute_result"
    }
   ],
   "source": [
    "X_train_num.head()"
   ]
  },
  {
   "cell_type": "code",
   "execution_count": 53,
   "id": "e83cb7ed-5a88-4a7f-b17b-a648f25ce97b",
   "metadata": {},
   "outputs": [],
   "source": [
    "from sklearn.impute import SimpleImputer"
   ]
  },
  {
   "cell_type": "code",
   "execution_count": 55,
   "id": "45b269e3-0331-4185-9a12-8da9c1aa79c5",
   "metadata": {},
   "outputs": [
    {
     "data": {
      "text/html": [
       "<div>\n",
       "<style scoped>\n",
       "    .dataframe tbody tr th:only-of-type {\n",
       "        vertical-align: middle;\n",
       "    }\n",
       "\n",
       "    .dataframe tbody tr th {\n",
       "        vertical-align: top;\n",
       "    }\n",
       "\n",
       "    .dataframe thead th {\n",
       "        text-align: right;\n",
       "    }\n",
       "</style>\n",
       "<table border=\"1\" class=\"dataframe\">\n",
       "  <thead>\n",
       "    <tr style=\"text-align: right;\">\n",
       "      <th></th>\n",
       "      <th>0</th>\n",
       "      <th>1</th>\n",
       "      <th>2</th>\n",
       "      <th>3</th>\n",
       "      <th>4</th>\n",
       "      <th>5</th>\n",
       "      <th>6</th>\n",
       "      <th>7</th>\n",
       "    </tr>\n",
       "  </thead>\n",
       "  <tbody>\n",
       "    <tr>\n",
       "      <th>index</th>\n",
       "      <td>longitude</td>\n",
       "      <td>latitude</td>\n",
       "      <td>housing_median_age</td>\n",
       "      <td>total_rooms</td>\n",
       "      <td>total_bedrooms</td>\n",
       "      <td>population</td>\n",
       "      <td>households</td>\n",
       "      <td>median_income</td>\n",
       "    </tr>\n",
       "    <tr>\n",
       "      <th>0</th>\n",
       "      <td>0</td>\n",
       "      <td>0</td>\n",
       "      <td>0</td>\n",
       "      <td>0</td>\n",
       "      <td>172</td>\n",
       "      <td>0</td>\n",
       "      <td>0</td>\n",
       "      <td>0</td>\n",
       "    </tr>\n",
       "  </tbody>\n",
       "</table>\n",
       "</div>"
      ],
      "text/plain": [
       "               0         1                   2            3               4  \\\n",
       "index  longitude  latitude  housing_median_age  total_rooms  total_bedrooms   \n",
       "0              0         0                   0            0             172   \n",
       "\n",
       "                5           6              7  \n",
       "index  population  households  median_income  \n",
       "0               0           0              0  "
      ]
     },
     "execution_count": 55,
     "metadata": {},
     "output_type": "execute_result"
    }
   ],
   "source": [
    "X_train_num.isna().sum().reset_index().T"
   ]
  },
  {
   "cell_type": "code",
   "execution_count": 57,
   "id": "af53cd61-415c-4fdd-9290-5bc34545c716",
   "metadata": {},
   "outputs": [
    {
     "data": {
      "text/plain": [
       "array([-118.49  ,   34.25  ,   29.    , 2138.5   ,  438.    , 1170.    ,\n",
       "        412.    ,    3.5294])"
      ]
     },
     "execution_count": 57,
     "metadata": {},
     "output_type": "execute_result"
    }
   ],
   "source": [
    "imputer = SimpleImputer(strategy='median')\n",
    "imputer.fit(X_train_num)\n",
    "imputer.statistics_"
   ]
  },
  {
   "cell_type": "code",
   "execution_count": 59,
   "id": "8c407315-390c-47ae-9ebc-4498db7104d4",
   "metadata": {},
   "outputs": [
    {
     "data": {
      "text/html": [
       "<div>\n",
       "<style scoped>\n",
       "    .dataframe tbody tr th:only-of-type {\n",
       "        vertical-align: middle;\n",
       "    }\n",
       "\n",
       "    .dataframe tbody tr th {\n",
       "        vertical-align: top;\n",
       "    }\n",
       "\n",
       "    .dataframe thead th {\n",
       "        text-align: right;\n",
       "    }\n",
       "</style>\n",
       "<table border=\"1\" class=\"dataframe\">\n",
       "  <thead>\n",
       "    <tr style=\"text-align: right;\">\n",
       "      <th></th>\n",
       "      <th>longitude</th>\n",
       "      <th>latitude</th>\n",
       "      <th>housing_median_age</th>\n",
       "      <th>total_rooms</th>\n",
       "      <th>total_bedrooms</th>\n",
       "      <th>population</th>\n",
       "      <th>households</th>\n",
       "      <th>median_income</th>\n",
       "    </tr>\n",
       "  </thead>\n",
       "  <tbody>\n",
       "    <tr>\n",
       "      <th>9950</th>\n",
       "      <td>-122.33</td>\n",
       "      <td>38.38</td>\n",
       "      <td>28.0</td>\n",
       "      <td>1020.0</td>\n",
       "      <td>169.0</td>\n",
       "      <td>504.0</td>\n",
       "      <td>164.0</td>\n",
       "      <td>4.5694</td>\n",
       "    </tr>\n",
       "    <tr>\n",
       "      <th>3547</th>\n",
       "      <td>-118.60</td>\n",
       "      <td>34.26</td>\n",
       "      <td>18.0</td>\n",
       "      <td>6154.0</td>\n",
       "      <td>1070.0</td>\n",
       "      <td>3010.0</td>\n",
       "      <td>1034.0</td>\n",
       "      <td>5.6392</td>\n",
       "    </tr>\n",
       "    <tr>\n",
       "      <th>4448</th>\n",
       "      <td>-118.21</td>\n",
       "      <td>34.07</td>\n",
       "      <td>47.0</td>\n",
       "      <td>1346.0</td>\n",
       "      <td>383.0</td>\n",
       "      <td>1452.0</td>\n",
       "      <td>371.0</td>\n",
       "      <td>1.7292</td>\n",
       "    </tr>\n",
       "    <tr>\n",
       "      <th>6984</th>\n",
       "      <td>-118.02</td>\n",
       "      <td>33.96</td>\n",
       "      <td>36.0</td>\n",
       "      <td>2071.0</td>\n",
       "      <td>398.0</td>\n",
       "      <td>988.0</td>\n",
       "      <td>404.0</td>\n",
       "      <td>4.6226</td>\n",
       "    </tr>\n",
       "    <tr>\n",
       "      <th>4432</th>\n",
       "      <td>-118.20</td>\n",
       "      <td>34.08</td>\n",
       "      <td>49.0</td>\n",
       "      <td>1320.0</td>\n",
       "      <td>309.0</td>\n",
       "      <td>1405.0</td>\n",
       "      <td>328.0</td>\n",
       "      <td>2.4375</td>\n",
       "    </tr>\n",
       "  </tbody>\n",
       "</table>\n",
       "</div>"
      ],
      "text/plain": [
       "      longitude  latitude  housing_median_age  total_rooms  total_bedrooms  \\\n",
       "9950    -122.33     38.38                28.0       1020.0           169.0   \n",
       "3547    -118.60     34.26                18.0       6154.0          1070.0   \n",
       "4448    -118.21     34.07                47.0       1346.0           383.0   \n",
       "6984    -118.02     33.96                36.0       2071.0           398.0   \n",
       "4432    -118.20     34.08                49.0       1320.0           309.0   \n",
       "\n",
       "      population  households  median_income  \n",
       "9950       504.0       164.0         4.5694  \n",
       "3547      3010.0      1034.0         5.6392  \n",
       "4448      1452.0       371.0         1.7292  \n",
       "6984       988.0       404.0         4.6226  \n",
       "4432      1405.0       328.0         2.4375  "
      ]
     },
     "execution_count": 59,
     "metadata": {},
     "output_type": "execute_result"
    }
   ],
   "source": [
    "X_train_num_tr = pd.DataFrame( imputer.transform(X_train_num),\n",
    "                              columns=X_train_num.columns,\n",
    "                              index=X_train_num.index )\n",
    "X_train_num_tr.head()"
   ]
  },
  {
   "cell_type": "code",
   "execution_count": 61,
   "id": "628d9019-d682-403e-9163-04459eb1ab72",
   "metadata": {},
   "outputs": [
    {
     "data": {
      "text/html": [
       "<div>\n",
       "<style scoped>\n",
       "    .dataframe tbody tr th:only-of-type {\n",
       "        vertical-align: middle;\n",
       "    }\n",
       "\n",
       "    .dataframe tbody tr th {\n",
       "        vertical-align: top;\n",
       "    }\n",
       "\n",
       "    .dataframe thead th {\n",
       "        text-align: right;\n",
       "    }\n",
       "</style>\n",
       "<table border=\"1\" class=\"dataframe\">\n",
       "  <thead>\n",
       "    <tr style=\"text-align: right;\">\n",
       "      <th></th>\n",
       "      <th>longitude</th>\n",
       "      <th>latitude</th>\n",
       "      <th>housing_median_age</th>\n",
       "      <th>total_rooms</th>\n",
       "      <th>total_bedrooms</th>\n",
       "      <th>population</th>\n",
       "      <th>households</th>\n",
       "      <th>median_income</th>\n",
       "    </tr>\n",
       "  </thead>\n",
       "  <tbody>\n",
       "    <tr>\n",
       "      <th>19121</th>\n",
       "      <td>-122.64</td>\n",
       "      <td>38.24</td>\n",
       "      <td>40.0</td>\n",
       "      <td>1974.0</td>\n",
       "      <td>410.0</td>\n",
       "      <td>1039.0</td>\n",
       "      <td>398.0</td>\n",
       "      <td>3.7917</td>\n",
       "    </tr>\n",
       "    <tr>\n",
       "      <th>20019</th>\n",
       "      <td>-119.05</td>\n",
       "      <td>36.09</td>\n",
       "      <td>9.0</td>\n",
       "      <td>3297.0</td>\n",
       "      <td>568.0</td>\n",
       "      <td>1749.0</td>\n",
       "      <td>568.0</td>\n",
       "      <td>4.0217</td>\n",
       "    </tr>\n",
       "    <tr>\n",
       "      <th>15104</th>\n",
       "      <td>-116.98</td>\n",
       "      <td>32.85</td>\n",
       "      <td>12.0</td>\n",
       "      <td>3570.0</td>\n",
       "      <td>713.0</td>\n",
       "      <td>3321.0</td>\n",
       "      <td>666.0</td>\n",
       "      <td>4.0882</td>\n",
       "    </tr>\n",
       "    <tr>\n",
       "      <th>3720</th>\n",
       "      <td>-118.42</td>\n",
       "      <td>34.20</td>\n",
       "      <td>27.0</td>\n",
       "      <td>3201.0</td>\n",
       "      <td>970.0</td>\n",
       "      <td>3403.0</td>\n",
       "      <td>948.0</td>\n",
       "      <td>2.2377</td>\n",
       "    </tr>\n",
       "    <tr>\n",
       "      <th>8938</th>\n",
       "      <td>-118.47</td>\n",
       "      <td>34.01</td>\n",
       "      <td>41.0</td>\n",
       "      <td>2704.0</td>\n",
       "      <td>557.0</td>\n",
       "      <td>1047.0</td>\n",
       "      <td>478.0</td>\n",
       "      <td>4.4211</td>\n",
       "    </tr>\n",
       "  </tbody>\n",
       "</table>\n",
       "</div>"
      ],
      "text/plain": [
       "       longitude  latitude  housing_median_age  total_rooms  total_bedrooms  \\\n",
       "19121    -122.64     38.24                40.0       1974.0           410.0   \n",
       "20019    -119.05     36.09                 9.0       3297.0           568.0   \n",
       "15104    -116.98     32.85                12.0       3570.0           713.0   \n",
       "3720     -118.42     34.20                27.0       3201.0           970.0   \n",
       "8938     -118.47     34.01                41.0       2704.0           557.0   \n",
       "\n",
       "       population  households  median_income  \n",
       "19121      1039.0       398.0         3.7917  \n",
       "20019      1749.0       568.0         4.0217  \n",
       "15104      3321.0       666.0         4.0882  \n",
       "3720       3403.0       948.0         2.2377  \n",
       "8938       1047.0       478.0         4.4211  "
      ]
     },
     "execution_count": 61,
     "metadata": {},
     "output_type": "execute_result"
    }
   ],
   "source": [
    "X_test_num_tr = pd.DataFrame( imputer.transform(X_test_num),\n",
    "                              columns=X_test_num.columns,\n",
    "                              index=X_test_num.index )\n",
    "X_test_num_tr.head()"
   ]
  },
  {
   "cell_type": "code",
   "execution_count": 63,
   "id": "49816b82-c112-484f-a65f-b182848f858b",
   "metadata": {},
   "outputs": [
    {
     "data": {
      "text/html": [
       "<div>\n",
       "<style scoped>\n",
       "    .dataframe tbody tr th:only-of-type {\n",
       "        vertical-align: middle;\n",
       "    }\n",
       "\n",
       "    .dataframe tbody tr th {\n",
       "        vertical-align: top;\n",
       "    }\n",
       "\n",
       "    .dataframe thead th {\n",
       "        text-align: right;\n",
       "    }\n",
       "</style>\n",
       "<table border=\"1\" class=\"dataframe\">\n",
       "  <thead>\n",
       "    <tr style=\"text-align: right;\">\n",
       "      <th></th>\n",
       "      <th>0</th>\n",
       "      <th>1</th>\n",
       "      <th>2</th>\n",
       "      <th>3</th>\n",
       "      <th>4</th>\n",
       "      <th>5</th>\n",
       "      <th>6</th>\n",
       "      <th>7</th>\n",
       "    </tr>\n",
       "  </thead>\n",
       "  <tbody>\n",
       "    <tr>\n",
       "      <th>index</th>\n",
       "      <td>longitude</td>\n",
       "      <td>latitude</td>\n",
       "      <td>housing_median_age</td>\n",
       "      <td>total_rooms</td>\n",
       "      <td>total_bedrooms</td>\n",
       "      <td>population</td>\n",
       "      <td>households</td>\n",
       "      <td>median_income</td>\n",
       "    </tr>\n",
       "    <tr>\n",
       "      <th>0</th>\n",
       "      <td>0</td>\n",
       "      <td>0</td>\n",
       "      <td>0</td>\n",
       "      <td>0</td>\n",
       "      <td>0</td>\n",
       "      <td>0</td>\n",
       "      <td>0</td>\n",
       "      <td>0</td>\n",
       "    </tr>\n",
       "  </tbody>\n",
       "</table>\n",
       "</div>"
      ],
      "text/plain": [
       "               0         1                   2            3               4  \\\n",
       "index  longitude  latitude  housing_median_age  total_rooms  total_bedrooms   \n",
       "0              0         0                   0            0               0   \n",
       "\n",
       "                5           6              7  \n",
       "index  population  households  median_income  \n",
       "0               0           0              0  "
      ]
     },
     "execution_count": 63,
     "metadata": {},
     "output_type": "execute_result"
    }
   ],
   "source": [
    "X_train_num_tr.isna().sum().reset_index().T"
   ]
  },
  {
   "cell_type": "markdown",
   "id": "2abfea64-0363-4c35-8fc9-bca83d555b18",
   "metadata": {},
   "source": [
    "### Outlier Removals"
   ]
  },
  {
   "cell_type": "code",
   "execution_count": 66,
   "id": "f48a82c2-d37d-483b-b80f-f3544731092e",
   "metadata": {},
   "outputs": [
    {
     "data": {
      "image/png": "[encoded data removed]",
      "text/plain": [
       "<Figure size 1200x800 with 9 Axes>"
      ]
     },
     "metadata": {},
     "output_type": "display_data"
    }
   ],
   "source": [
    "X_train_num_tr.hist(bins=40, figsize=(12, 8))\n",
    "plt.show()"
   ]
  },
  {
   "cell_type": "code",
   "execution_count": 68,
   "id": "0f0a8c69-2694-4eb9-be64-a06cb73923e2",
   "metadata": {},
   "outputs": [
    {
     "data": {
      "text/plain": [
       "array([ 0.69314718,  4.60517019, 18.74164576, 20.97747374])"
      ]
     },
     "execution_count": 68,
     "metadata": {},
     "output_type": "execute_result"
    }
   ],
   "source": [
    "d = np.array([2, 100, 137845735, 1289439853])\n",
    "np.log(d)"
   ]
  },
  {
   "cell_type": "markdown",
   "id": "82fe2be0-bab4-4945-807d-6c5668376de1",
   "metadata": {},
   "source": [
    "# log\n",
    "\n",
    "    "
   ]
  },
  {
   "cell_type": "code",
   "execution_count": 71,
   "id": "f9a9b506-49e5-4510-99c8-3277799e8ea4",
   "metadata": {},
   "outputs": [
    {
     "data": {
      "image/png": "[encoded data removed]",
      "text/plain": [
       "<Figure size 1200x800 with 6 Axes>"
      ]
     },
     "metadata": {},
     "output_type": "display_data"
    }
   ],
   "source": [
    "np.log(X_train_num_tr.drop(['latitude', 'longitude'], axis=1)).hist(bins=40, figsize=(12, 8))\n",
    "plt.show()"
   ]
  },
  {
   "cell_type": "markdown",
   "id": "bf52d6fb-2706-43cc-88d9-bd66ae995c7b",
   "metadata": {},
   "source": [
    "#### Binning  Replace each value with it's percentile"
   ]
  },
  {
   "cell_type": "code",
   "execution_count": 74,
   "id": "33548f05-7671-4fd9-b4a5-dd44b4d96f9f",
   "metadata": {},
   "outputs": [
    {
     "data": {
      "text/plain": [
       "<Axes: >"
      ]
     },
     "execution_count": 74,
     "metadata": {},
     "output_type": "execute_result"
    },
    {
     "data": {
      "image/png": "[encoded data removed]",
      "text/plain": [
       "<Figure size 640x480 with 1 Axes>"
      ]
     },
     "metadata": {},
     "output_type": "display_data"
    }
   ],
   "source": [
    "X_train_num_tr['total_bedrooms'].hist(bins=40)\n",
    "#plt.yscale('log')"
   ]
  },
  {
   "cell_type": "code",
   "execution_count": 76,
   "id": "43597c88-469b-40a4-b593-b6150663b3a9",
   "metadata": {},
   "outputs": [
    {
     "data": {
      "text/plain": [
       "9950     1\n",
       "3547     2\n",
       "4448     1\n",
       "6984     1\n",
       "4432     1\n",
       "        ..\n",
       "7763     1\n",
       "15377    1\n",
       "17730    1\n",
       "15725    1\n",
       "19966    1\n",
       "Name: total_bedrooms, Length: 16512, dtype: category\n",
       "Categories (6, int64): [1 < 2 < 3 < 4 < 5 < 6]"
      ]
     },
     "execution_count": 76,
     "metadata": {},
     "output_type": "execute_result"
    }
   ],
   "source": [
    "bins = [0, 1000, 2000, 3000, 4000, 5000, np.inf] # (0, 1000), (1000, 2000]\n",
    "cat = pd.cut(X_train_num_tr['total_bedrooms'], labels=range(1, len(bins)), bins=bins)\n",
    "cat"
   ]
  },
  {
   "cell_type": "code",
   "execution_count": 78,
   "id": "9b55ee7f-af71-49a4-9586-dd536ad2e56c",
   "metadata": {},
   "outputs": [
    {
     "data": {
      "text/plain": [
       "<Axes: xlabel='total_bedrooms'>"
      ]
     },
     "execution_count": 78,
     "metadata": {},
     "output_type": "execute_result"
    },
    {
     "data": {
      "image/png": "[encoded data removed]",
      "text/plain": [
       "<Figure size 640x480 with 1 Axes>"
      ]
     },
     "metadata": {},
     "output_type": "display_data"
    }
   ],
   "source": [
    "cat.value_counts().plot(kind='bar')"
   ]
  },
  {
   "cell_type": "code",
   "execution_count": 80,
   "id": "e46074db-6d66-46af-8144-ef0cd64b83b4",
   "metadata": {},
   "outputs": [
    {
     "data": {
      "text/plain": [
       "9950      8\n",
       "3547     93\n",
       "4448     41\n",
       "6984     43\n",
       "4432     27\n",
       "         ..\n",
       "7763     50\n",
       "15377    85\n",
       "17730    81\n",
       "15725    32\n",
       "19966    42\n",
       "Name: total_bedrooms, Length: 16512, dtype: category\n",
       "Categories (100, int64): [1 < 2 < 3 < 4 ... 97 < 98 < 99 < 100]"
      ]
     },
     "execution_count": 80,
     "metadata": {},
     "output_type": "execute_result"
    }
   ],
   "source": [
    "bins = [ np.percentile(X_train_num_tr['total_bedrooms'], _) for _ in range(1, 100)]\n",
    "bins.insert(0, -np.inf)\n",
    "bins.append(np.inf)\n",
    "cat = pd.cut(X_train_num_tr['total_bedrooms'], labels=range(1, len(bins)), bins=bins)\n",
    "cat"
   ]
  },
  {
   "cell_type": "code",
   "execution_count": 82,
   "id": "a85b96c0-d1a0-4847-bc1d-5404744e7a64",
   "metadata": {},
   "outputs": [
    {
     "name": "stdout",
     "output_type": "stream",
     "text": [
      "[-inf, 35.0, 69.0, 95.0, 118.0, 136.0, 150.65999999999997, 166.0, 180.0, 190.0, 199.0, 208.0, 216.0, 225.0, 232.0, 239.0, 246.0, 253.0, 259.0, 265.0, 270.0, 276.0, 282.0, 287.0, 293.0, 298.0, 304.0, 310.0, 314.0, 320.0, 326.0, 331.0, 337.0, 342.0, 346.0, 352.0, 358.0, 363.0, 369.0, 374.28999999999996, 381.0, 388.0, 393.0, 399.0, 405.0, 411.0, 417.0, 422.0, 428.0, 435.0, 438.0, 441.0, 447.0, 454.0, 460.0, 468.0, 474.0, 481.0, 488.0, 495.0, 501.0, 510.0, 517.0, 525.0, 534.0, 543.0, 552.0, 560.0, 571.4800000000014, 581.0, 591.0, 602.0, 612.0, 624.0, 635.0, 647.0, 660.0, 672.0, 689.0, 703.0, 718.0, 734.0, 751.0, 771.0, 792.0, 814.0, 834.0, 861.0, 892.0, 926.0, 967.8999999999996, 1011.0, 1059.1200000000008, 1117.0, 1193.3399999999983, 1282.449999999999, 1383.119999999999, 1537.67, 1747.0, 2236.679999999993, inf]\n"
     ]
    }
   ],
   "source": [
    "print(bins)"
   ]
  },
  {
   "cell_type": "code",
   "execution_count": 84,
   "id": "bc55451a-7e2e-4e94-a83e-f4422dc8520e",
   "metadata": {},
   "outputs": [
    {
     "data": {
      "text/plain": [
       "<Axes: >"
      ]
     },
     "execution_count": 84,
     "metadata": {},
     "output_type": "execute_result"
    },
    {
     "data": {
      "image/png": "[encoded data removed]",
      "text/plain": [
       "<Figure size 640x480 with 1 Axes>"
      ]
     },
     "metadata": {},
     "output_type": "display_data"
    }
   ],
   "source": [
    "cat.hist(bins=40)"
   ]
  },
  {
   "cell_type": "markdown",
   "id": "3412af39-4c0c-487c-9340-265f08bb6b0d",
   "metadata": {},
   "source": [
    "# Scaling"
   ]
  },
  {
   "cell_type": "code",
   "execution_count": 87,
   "id": "8e05650e-d28c-4337-8ace-2d1a663403b7",
   "metadata": {},
   "outputs": [
    {
     "data": {
      "text/plain": [
       "array([0.13333333, 0.2       , 0.6       , 0.86666667, 0.73333333,\n",
       "       0.33333333, 1.        , 0.01333333, 0.06666667, 0.26666667,\n",
       "       0.        , 1.        ])"
      ]
     },
     "execution_count": 87,
     "metadata": {},
     "output_type": "execute_result"
    }
   ],
   "source": [
    "A = np.array([35, 40, 70, 90, 80, 50,  100, 26, 30, 45, 25, 100,])\n",
    "\n",
    "Scaled_A = (A - A.min())/(A.max()-A.min())\n",
    "Scaled_A"
   ]
  },
  {
   "cell_type": "code",
   "execution_count": 89,
   "id": "f42b9e9a-803e-4371-b07e-0a0f9866dac6",
   "metadata": {},
   "outputs": [],
   "source": [
    "from sklearn.preprocessing import MinMaxScaler"
   ]
  },
  {
   "cell_type": "code",
   "execution_count": 91,
   "id": "a1cc6e02-70ce-42d7-9b54-070bb9b8be4b",
   "metadata": {},
   "outputs": [
    {
     "data": {
      "text/html": [
       "<div>\n",
       "<style scoped>\n",
       "    .dataframe tbody tr th:only-of-type {\n",
       "        vertical-align: middle;\n",
       "    }\n",
       "\n",
       "    .dataframe tbody tr th {\n",
       "        vertical-align: top;\n",
       "    }\n",
       "\n",
       "    .dataframe thead th {\n",
       "        text-align: right;\n",
       "    }\n",
       "</style>\n",
       "<table border=\"1\" class=\"dataframe\">\n",
       "  <thead>\n",
       "    <tr style=\"text-align: right;\">\n",
       "      <th></th>\n",
       "      <th>longitude</th>\n",
       "      <th>latitude</th>\n",
       "      <th>housing_median_age</th>\n",
       "      <th>total_rooms</th>\n",
       "      <th>total_bedrooms</th>\n",
       "      <th>population</th>\n",
       "      <th>households</th>\n",
       "      <th>median_income</th>\n",
       "    </tr>\n",
       "  </thead>\n",
       "  <tbody>\n",
       "    <tr>\n",
       "      <th>9950</th>\n",
       "      <td>-122.33</td>\n",
       "      <td>38.38</td>\n",
       "      <td>28.0</td>\n",
       "      <td>1020.0</td>\n",
       "      <td>169.0</td>\n",
       "      <td>504.0</td>\n",
       "      <td>164.0</td>\n",
       "      <td>4.5694</td>\n",
       "    </tr>\n",
       "    <tr>\n",
       "      <th>3547</th>\n",
       "      <td>-118.60</td>\n",
       "      <td>34.26</td>\n",
       "      <td>18.0</td>\n",
       "      <td>6154.0</td>\n",
       "      <td>1070.0</td>\n",
       "      <td>3010.0</td>\n",
       "      <td>1034.0</td>\n",
       "      <td>5.6392</td>\n",
       "    </tr>\n",
       "    <tr>\n",
       "      <th>4448</th>\n",
       "      <td>-118.21</td>\n",
       "      <td>34.07</td>\n",
       "      <td>47.0</td>\n",
       "      <td>1346.0</td>\n",
       "      <td>383.0</td>\n",
       "      <td>1452.0</td>\n",
       "      <td>371.0</td>\n",
       "      <td>1.7292</td>\n",
       "    </tr>\n",
       "    <tr>\n",
       "      <th>6984</th>\n",
       "      <td>-118.02</td>\n",
       "      <td>33.96</td>\n",
       "      <td>36.0</td>\n",
       "      <td>2071.0</td>\n",
       "      <td>398.0</td>\n",
       "      <td>988.0</td>\n",
       "      <td>404.0</td>\n",
       "      <td>4.6226</td>\n",
       "    </tr>\n",
       "    <tr>\n",
       "      <th>4432</th>\n",
       "      <td>-118.20</td>\n",
       "      <td>34.08</td>\n",
       "      <td>49.0</td>\n",
       "      <td>1320.0</td>\n",
       "      <td>309.0</td>\n",
       "      <td>1405.0</td>\n",
       "      <td>328.0</td>\n",
       "      <td>2.4375</td>\n",
       "    </tr>\n",
       "  </tbody>\n",
       "</table>\n",
       "</div>"
      ],
      "text/plain": [
       "      longitude  latitude  housing_median_age  total_rooms  total_bedrooms  \\\n",
       "9950    -122.33     38.38                28.0       1020.0           169.0   \n",
       "3547    -118.60     34.26                18.0       6154.0          1070.0   \n",
       "4448    -118.21     34.07                47.0       1346.0           383.0   \n",
       "6984    -118.02     33.96                36.0       2071.0           398.0   \n",
       "4432    -118.20     34.08                49.0       1320.0           309.0   \n",
       "\n",
       "      population  households  median_income  \n",
       "9950       504.0       164.0         4.5694  \n",
       "3547      3010.0      1034.0         5.6392  \n",
       "4448      1452.0       371.0         1.7292  \n",
       "6984       988.0       404.0         4.6226  \n",
       "4432      1405.0       328.0         2.4375  "
      ]
     },
     "execution_count": 91,
     "metadata": {},
     "output_type": "execute_result"
    }
   ],
   "source": [
    "X_train_num_tr.head()"
   ]
  },
  {
   "cell_type": "code",
   "execution_count": 93,
   "id": "ce5ee8ff-798f-42b0-a684-57830fd22a23",
   "metadata": {},
   "outputs": [
    {
     "data": {
      "text/plain": [
       "array([[0.20119522, 0.62061637, 0.52941176, ..., 0.01754017, 0.0268048 ,\n",
       "        0.2806513 ],\n",
       "       [0.57270916, 0.18278427, 0.33333333, ..., 0.10527606, 0.16987338,\n",
       "        0.35442959],\n",
       "       [0.61155378, 0.16259299, 0.90196078, ..., 0.05072997, 0.06084526,\n",
       "        0.08477814],\n",
       "       ...,\n",
       "       [0.25796813, 0.50903294, 0.07843137, ..., 0.08514512, 0.11445486,\n",
       "        0.3538365 ],\n",
       "       [0.19023904, 0.55685441, 0.84313725, ..., 0.01953576, 0.05344516,\n",
       "        0.23276231],\n",
       "       [0.5249004 , 0.39001063, 0.37254902, ..., 0.04334279, 0.05706298,\n",
       "        0.13901188]])"
      ]
     },
     "execution_count": 93,
     "metadata": {},
     "output_type": "execute_result"
    }
   ],
   "source": [
    "scaler = MinMaxScaler()\n",
    "scaler.fit(X_train_num_tr)\n",
    "scaler.transform(X_train_num_tr)"
   ]
  },
  {
   "cell_type": "code",
   "execution_count": 95,
   "id": "a11e958a-6cb2-4f5e-93a7-533e194c69c0",
   "metadata": {},
   "outputs": [],
   "source": [
    "t = X_train_num_tr['housing_median_age']"
   ]
  },
  {
   "cell_type": "code",
   "execution_count": 97,
   "id": "df4e09f4-f12c-4a0e-9620-e508b3e4d3e0",
   "metadata": {},
   "outputs": [
    {
     "data": {
      "text/plain": [
       "28.57091812015504"
      ]
     },
     "execution_count": 97,
     "metadata": {},
     "output_type": "execute_result"
    }
   ],
   "source": [
    "t.mean()"
   ]
  },
  {
   "cell_type": "code",
   "execution_count": 99,
   "id": "f0d029ac-1cbd-477a-89d4-033ed3cf3b3f",
   "metadata": {},
   "outputs": [
    {
     "data": {
      "text/plain": [
       "12.58228071827552"
      ]
     },
     "execution_count": 99,
     "metadata": {},
     "output_type": "execute_result"
    }
   ],
   "source": [
    "t.std()"
   ]
  },
  {
   "cell_type": "code",
   "execution_count": 101,
   "id": "26aae7ac-7f2f-4f0c-b4da-cb2b693927d9",
   "metadata": {},
   "outputs": [
    {
     "data": {
      "text/plain": [
       "<Axes: >"
      ]
     },
     "execution_count": 101,
     "metadata": {},
     "output_type": "execute_result"
    },
    {
     "data": {
      "image/png": "[encoded data removed]",
      "text/plain": [
       "<Figure size 800x200 with 1 Axes>"
      ]
     },
     "metadata": {},
     "output_type": "display_data"
    }
   ],
   "source": [
    "t.hist(bins=40, figsize=(8, 2))"
   ]
  },
  {
   "cell_type": "code",
   "execution_count": 103,
   "id": "e31726be-18a8-4c93-9c99-8faefaeb7a5b",
   "metadata": {},
   "outputs": [],
   "source": [
    "t_s = (t-t.mean())/t.std()"
   ]
  },
  {
   "cell_type": "code",
   "execution_count": 105,
   "id": "f4d26b6e-8f03-4533-a9e2-7659981848d1",
   "metadata": {},
   "outputs": [
    {
     "data": {
      "text/plain": [
       "<Axes: >"
      ]
     },
     "execution_count": 105,
     "metadata": {},
     "output_type": "execute_result"
    },
    {
     "data": {
      "image/png": "[encoded data removed]",
      "text/plain": [
       "<Figure size 800x200 with 1 Axes>"
      ]
     },
     "metadata": {},
     "output_type": "display_data"
    }
   ],
   "source": [
    "t_s.hist(bins=30, figsize=(8,2))"
   ]
  },
  {
   "cell_type": "code",
   "execution_count": 107,
   "id": "c0e5c81f-5ced-4146-8757-2412cb840e0e",
   "metadata": {},
   "outputs": [],
   "source": [
    "from sklearn.preprocessing import StandardScaler"
   ]
  },
  {
   "cell_type": "code",
   "execution_count": 109,
   "id": "6be9a77a-6c0b-4083-9c57-7e2d1fb71baa",
   "metadata": {},
   "outputs": [
    {
     "data": {
      "text/html": [
       "<style>#sk-container-id-1 {color: black;background-color: white;}#sk-container-id-1 pre{padding: 0;}#sk-container-id-1 div.sk-toggleable {background-color: white;}#sk-container-id-1 label.sk-toggleable__label {cursor: pointer;display: block;width: 100%;margin-bottom: 0;padding: 0.3em;box-sizing: border-box;text-align: center;}#sk-container-id-1 label.sk-toggleable__label-arrow:before {content: \"▸\";float: left;margin-right: 0.25em;color: #696969;}#sk-container-id-1 label.sk-toggleable__label-arrow:hover:before {color: black;}#sk-container-id-1 div.sk-estimator:hover label.sk-toggleable__label-arrow:before {color: black;}#sk-container-id-1 div.sk-toggleable__content {max-height: 0;max-width: 0;overflow: hidden;text-align: left;background-color: #f0f8ff;}#sk-container-id-1 div.sk-toggleable__content pre {margin: 0.2em;color: black;border-radius: 0.25em;background-color: #f0f8ff;}#sk-container-id-1 input.sk-toggleable__control:checked~div.sk-toggleable__content {max-height: 200px;max-width: 100%;overflow: auto;}#sk-container-id-1 input.sk-toggleable__control:checked~label.sk-toggleable__label-arrow:before {content: \"▾\";}#sk-container-id-1 div.sk-estimator input.sk-toggleable__control:checked~label.sk-toggleable__label {background-color: #d4ebff;}#sk-container-id-1 div.sk-label input.sk-toggleable__control:checked~label.sk-toggleable__label {background-color: #d4ebff;}#sk-container-id-1 input.sk-hidden--visually {border: 0;clip: rect(1px 1px 1px 1px);clip: rect(1px, 1px, 1px, 1px);height: 1px;margin: -1px;overflow: hidden;padding: 0;position: absolute;width: 1px;}#sk-container-id-1 div.sk-estimator {font-family: monospace;background-color: #f0f8ff;border: 1px dotted black;border-radius: 0.25em;box-sizing: border-box;margin-bottom: 0.5em;}#sk-container-id-1 div.sk-estimator:hover {background-color: #d4ebff;}#sk-container-id-1 div.sk-parallel-item::after {content: \"\";width: 100%;border-bottom: 1px solid gray;flex-grow: 1;}#sk-container-id-1 div.sk-label:hover label.sk-toggleable__label {background-color: #d4ebff;}#sk-container-id-1 div.sk-serial::before {content: \"\";position: absolute;border-left: 1px solid gray;box-sizing: border-box;top: 0;bottom: 0;left: 50%;z-index: 0;}#sk-container-id-1 div.sk-serial {display: flex;flex-direction: column;align-items: center;background-color: white;padding-right: 0.2em;padding-left: 0.2em;position: relative;}#sk-container-id-1 div.sk-item {position: relative;z-index: 1;}#sk-container-id-1 div.sk-parallel {display: flex;align-items: stretch;justify-content: center;background-color: white;position: relative;}#sk-container-id-1 div.sk-item::before, #sk-container-id-1 div.sk-parallel-item::before {content: \"\";position: absolute;border-left: 1px solid gray;box-sizing: border-box;top: 0;bottom: 0;left: 50%;z-index: -1;}#sk-container-id-1 div.sk-parallel-item {display: flex;flex-direction: column;z-index: 1;position: relative;background-color: white;}#sk-container-id-1 div.sk-parallel-item:first-child::after {align-self: flex-end;width: 50%;}#sk-container-id-1 div.sk-parallel-item:last-child::after {align-self: flex-start;width: 50%;}#sk-container-id-1 div.sk-parallel-item:only-child::after {width: 0;}#sk-container-id-1 div.sk-dashed-wrapped {border: 1px dashed gray;margin: 0 0.4em 0.5em 0.4em;box-sizing: border-box;padding-bottom: 0.4em;background-color: white;}#sk-container-id-1 div.sk-label label {font-family: monospace;font-weight: bold;display: inline-block;line-height: 1.2em;}#sk-container-id-1 div.sk-label-container {text-align: center;}#sk-container-id-1 div.sk-container {/* jupyter's `normalize.less` sets `[hidden] { display: none; }` but bootstrap.min.css set `[hidden] { display: none !important; }` so we also need the `!important` here to be able to override the default hidden behavior on the sphinx rendered scikit-learn.org. See: https://github.com/scikit-learn/scikit-learn/issues/21755 */display: inline-block !important;position: relative;}#sk-container-id-1 div.sk-text-repr-fallback {display: none;}</style><div id=\"sk-container-id-1\" class=\"sk-top-container\"><div class=\"sk-text-repr-fallback\"><pre>StandardScaler()</pre><b>In a Jupyter environment, please rerun this cell to show the HTML representation or trust the notebook. <br />On GitHub, the HTML representation is unable to render, please try loading this page with nbviewer.org.</b></div><div class=\"sk-container\" hidden><div class=\"sk-item\"><div class=\"sk-estimator sk-toggleable\"><input class=\"sk-toggleable__control sk-hidden--visually\" id=\"sk-estimator-id-1\" type=\"checkbox\" checked><label for=\"sk-estimator-id-1\" class=\"sk-toggleable__label sk-toggleable__label-arrow\">StandardScaler</label><div class=\"sk-toggleable__content\"><pre>StandardScaler()</pre></div></div></div></div></div>"
      ],
      "text/plain": [
       "StandardScaler()"
      ]
     },
     "execution_count": 109,
     "metadata": {},
     "output_type": "execute_result"
    }
   ],
   "source": [
    "scaler = StandardScaler()\n",
    "scaler.fit(X_train_num_tr)"
   ]
  },
  {
   "cell_type": "code",
   "execution_count": 111,
   "id": "1dd0b0a6-786a-4d9f-bbb5-b4068ff2d026",
   "metadata": {},
   "outputs": [
    {
     "data": {
      "text/html": [
       "<div>\n",
       "<style scoped>\n",
       "    .dataframe tbody tr th:only-of-type {\n",
       "        vertical-align: middle;\n",
       "    }\n",
       "\n",
       "    .dataframe tbody tr th {\n",
       "        vertical-align: top;\n",
       "    }\n",
       "\n",
       "    .dataframe thead th {\n",
       "        text-align: right;\n",
       "    }\n",
       "</style>\n",
       "<table border=\"1\" class=\"dataframe\">\n",
       "  <thead>\n",
       "    <tr style=\"text-align: right;\">\n",
       "      <th></th>\n",
       "      <th>longitude</th>\n",
       "      <th>latitude</th>\n",
       "      <th>housing_median_age</th>\n",
       "      <th>total_rooms</th>\n",
       "      <th>total_bedrooms</th>\n",
       "      <th>population</th>\n",
       "      <th>households</th>\n",
       "      <th>median_income</th>\n",
       "    </tr>\n",
       "  </thead>\n",
       "  <tbody>\n",
       "    <tr>\n",
       "      <th>9950</th>\n",
       "      <td>-1.381195</td>\n",
       "      <td>1.289422</td>\n",
       "      <td>-0.045376</td>\n",
       "      <td>-0.737644</td>\n",
       "      <td>-0.872454</td>\n",
       "      <td>-0.822910</td>\n",
       "      <td>-0.873927</td>\n",
       "      <td>0.367714</td>\n",
       "    </tr>\n",
       "    <tr>\n",
       "      <th>3547</th>\n",
       "      <td>0.483377</td>\n",
       "      <td>-0.640792</td>\n",
       "      <td>-0.840169</td>\n",
       "      <td>1.587216</td>\n",
       "      <td>1.246544</td>\n",
       "      <td>1.394248</td>\n",
       "      <td>1.371062</td>\n",
       "      <td>0.930745</td>\n",
       "    </tr>\n",
       "    <tr>\n",
       "      <th>4448</th>\n",
       "      <td>0.678333</td>\n",
       "      <td>-0.729807</td>\n",
       "      <td>1.464730</td>\n",
       "      <td>-0.590019</td>\n",
       "      <td>-0.369162</td>\n",
       "      <td>0.015823</td>\n",
       "      <td>-0.339775</td>\n",
       "      <td>-1.127069</td>\n",
       "    </tr>\n",
       "    <tr>\n",
       "      <th>6984</th>\n",
       "      <td>0.773311</td>\n",
       "      <td>-0.781342</td>\n",
       "      <td>0.590458</td>\n",
       "      <td>-0.261713</td>\n",
       "      <td>-0.333885</td>\n",
       "      <td>-0.394696</td>\n",
       "      <td>-0.254620</td>\n",
       "      <td>0.395713</td>\n",
       "    </tr>\n",
       "    <tr>\n",
       "      <th>4432</th>\n",
       "      <td>0.683331</td>\n",
       "      <td>-0.725122</td>\n",
       "      <td>1.623688</td>\n",
       "      <td>-0.601793</td>\n",
       "      <td>-0.543198</td>\n",
       "      <td>-0.025760</td>\n",
       "      <td>-0.450734</td>\n",
       "      <td>-0.754294</td>\n",
       "    </tr>\n",
       "  </tbody>\n",
       "</table>\n",
       "</div>"
      ],
      "text/plain": [
       "      longitude  latitude  housing_median_age  total_rooms  total_bedrooms  \\\n",
       "9950  -1.381195  1.289422           -0.045376    -0.737644       -0.872454   \n",
       "3547   0.483377 -0.640792           -0.840169     1.587216        1.246544   \n",
       "4448   0.678333 -0.729807            1.464730    -0.590019       -0.369162   \n",
       "6984   0.773311 -0.781342            0.590458    -0.261713       -0.333885   \n",
       "4432   0.683331 -0.725122            1.623688    -0.601793       -0.543198   \n",
       "\n",
       "      population  households  median_income  \n",
       "9950   -0.822910   -0.873927       0.367714  \n",
       "3547    1.394248    1.371062       0.930745  \n",
       "4448    0.015823   -0.339775      -1.127069  \n",
       "6984   -0.394696   -0.254620       0.395713  \n",
       "4432   -0.025760   -0.450734      -0.754294  "
      ]
     },
     "execution_count": 111,
     "metadata": {},
     "output_type": "execute_result"
    }
   ],
   "source": [
    "X_train_num_tr = scaler.transform(X_train_num_tr)\n",
    "X_train_num_tr = pd.DataFrame(X_train_num_tr, \n",
    "                              columns=X_train_num.columns,\n",
    "                              index=X_train_num.index)\n",
    "X_train_num_tr.head()"
   ]
  },
  {
   "cell_type": "code",
   "execution_count": 113,
   "id": "62a89fb1-6343-4a8c-b508-13e6d85dcaf6",
   "metadata": {},
   "outputs": [
    {
     "data": {
      "text/html": [
       "<div>\n",
       "<style scoped>\n",
       "    .dataframe tbody tr th:only-of-type {\n",
       "        vertical-align: middle;\n",
       "    }\n",
       "\n",
       "    .dataframe tbody tr th {\n",
       "        vertical-align: top;\n",
       "    }\n",
       "\n",
       "    .dataframe thead th {\n",
       "        text-align: right;\n",
       "    }\n",
       "</style>\n",
       "<table border=\"1\" class=\"dataframe\">\n",
       "  <thead>\n",
       "    <tr style=\"text-align: right;\">\n",
       "      <th></th>\n",
       "      <th>longitude</th>\n",
       "      <th>latitude</th>\n",
       "      <th>housing_median_age</th>\n",
       "      <th>total_rooms</th>\n",
       "      <th>total_bedrooms</th>\n",
       "      <th>population</th>\n",
       "      <th>households</th>\n",
       "      <th>median_income</th>\n",
       "    </tr>\n",
       "  </thead>\n",
       "  <tbody>\n",
       "    <tr>\n",
       "      <th>9950</th>\n",
       "      <td>-122.33</td>\n",
       "      <td>38.38</td>\n",
       "      <td>28.0</td>\n",
       "      <td>1020.0</td>\n",
       "      <td>169.0</td>\n",
       "      <td>504.0</td>\n",
       "      <td>164.0</td>\n",
       "      <td>4.5694</td>\n",
       "    </tr>\n",
       "    <tr>\n",
       "      <th>3547</th>\n",
       "      <td>-118.60</td>\n",
       "      <td>34.26</td>\n",
       "      <td>18.0</td>\n",
       "      <td>6154.0</td>\n",
       "      <td>1070.0</td>\n",
       "      <td>3010.0</td>\n",
       "      <td>1034.0</td>\n",
       "      <td>5.6392</td>\n",
       "    </tr>\n",
       "    <tr>\n",
       "      <th>4448</th>\n",
       "      <td>-118.21</td>\n",
       "      <td>34.07</td>\n",
       "      <td>47.0</td>\n",
       "      <td>1346.0</td>\n",
       "      <td>383.0</td>\n",
       "      <td>1452.0</td>\n",
       "      <td>371.0</td>\n",
       "      <td>1.7292</td>\n",
       "    </tr>\n",
       "    <tr>\n",
       "      <th>6984</th>\n",
       "      <td>-118.02</td>\n",
       "      <td>33.96</td>\n",
       "      <td>36.0</td>\n",
       "      <td>2071.0</td>\n",
       "      <td>398.0</td>\n",
       "      <td>988.0</td>\n",
       "      <td>404.0</td>\n",
       "      <td>4.6226</td>\n",
       "    </tr>\n",
       "    <tr>\n",
       "      <th>4432</th>\n",
       "      <td>-118.20</td>\n",
       "      <td>34.08</td>\n",
       "      <td>49.0</td>\n",
       "      <td>1320.0</td>\n",
       "      <td>309.0</td>\n",
       "      <td>1405.0</td>\n",
       "      <td>328.0</td>\n",
       "      <td>2.4375</td>\n",
       "    </tr>\n",
       "  </tbody>\n",
       "</table>\n",
       "</div>"
      ],
      "text/plain": [
       "      longitude  latitude  housing_median_age  total_rooms  total_bedrooms  \\\n",
       "9950    -122.33     38.38                28.0       1020.0           169.0   \n",
       "3547    -118.60     34.26                18.0       6154.0          1070.0   \n",
       "4448    -118.21     34.07                47.0       1346.0           383.0   \n",
       "6984    -118.02     33.96                36.0       2071.0           398.0   \n",
       "4432    -118.20     34.08                49.0       1320.0           309.0   \n",
       "\n",
       "      population  households  median_income  \n",
       "9950       504.0       164.0         4.5694  \n",
       "3547      3010.0      1034.0         5.6392  \n",
       "4448      1452.0       371.0         1.7292  \n",
       "6984       988.0       404.0         4.6226  \n",
       "4432      1405.0       328.0         2.4375  "
      ]
     },
     "execution_count": 113,
     "metadata": {},
     "output_type": "execute_result"
    }
   ],
   "source": [
    "X_train_num.head()"
   ]
  },
  {
   "cell_type": "markdown",
   "id": "0a039dc5-caa8-4241-a63c-7e3b48b8ce69",
   "metadata": {},
   "source": [
    "$$S(x_i) = \\frac {x_i - \\bar x} {\\sigma_x}$$"
   ]
  },
  {
   "cell_type": "code",
   "execution_count": 116,
   "id": "bf6c4240-3158-44bb-8c6b-e783991c03e5",
   "metadata": {},
   "outputs": [
    {
     "data": {
      "text/plain": [
       "array([-119.56697614,   35.62775739,   28.57091812, 2648.94319283,\n",
       "        539.96814438, 1434.11573401,  502.67284399,    3.8707156 ])"
      ]
     },
     "execution_count": 116,
     "metadata": {},
     "output_type": "execute_result"
    }
   ],
   "source": [
    "scaler.mean_"
   ]
  },
  {
   "cell_type": "code",
   "execution_count": 118,
   "id": "372e7e01-a6dd-4a2c-bd54-91cabc1cbbbd",
   "metadata": {},
   "outputs": [
    {
     "data": {
      "text/plain": [
       "array([4.00183395e+00, 4.55599661e+00, 1.58304200e+02, 4.87661272e+06,\n",
       "       1.80795891e+05, 1.27752329e+06, 1.50179314e+05, 3.61028250e+00])"
      ]
     },
     "execution_count": 118,
     "metadata": {},
     "output_type": "execute_result"
    }
   ],
   "source": [
    "scaler.var_"
   ]
  },
  {
   "cell_type": "code",
   "execution_count": 120,
   "id": "c66755ed-188d-4c2e-81e4-7eef6ce3e1b2",
   "metadata": {},
   "outputs": [
    {
     "data": {
      "text/html": [
       "<div>\n",
       "<style scoped>\n",
       "    .dataframe tbody tr th:only-of-type {\n",
       "        vertical-align: middle;\n",
       "    }\n",
       "\n",
       "    .dataframe tbody tr th {\n",
       "        vertical-align: top;\n",
       "    }\n",
       "\n",
       "    .dataframe thead th {\n",
       "        text-align: right;\n",
       "    }\n",
       "</style>\n",
       "<table border=\"1\" class=\"dataframe\">\n",
       "  <thead>\n",
       "    <tr style=\"text-align: right;\">\n",
       "      <th></th>\n",
       "      <th>longitude</th>\n",
       "      <th>latitude</th>\n",
       "      <th>housing_median_age</th>\n",
       "      <th>total_rooms</th>\n",
       "      <th>total_bedrooms</th>\n",
       "      <th>population</th>\n",
       "      <th>households</th>\n",
       "      <th>median_income</th>\n",
       "    </tr>\n",
       "  </thead>\n",
       "  <tbody>\n",
       "    <tr>\n",
       "      <th>19121</th>\n",
       "      <td>-1.536160</td>\n",
       "      <td>1.223832</td>\n",
       "      <td>0.908375</td>\n",
       "      <td>-0.305639</td>\n",
       "      <td>-0.305663</td>\n",
       "      <td>-0.349575</td>\n",
       "      <td>-0.270103</td>\n",
       "      <td>-0.041586</td>\n",
       "    </tr>\n",
       "    <tr>\n",
       "      <th>20019</th>\n",
       "      <td>0.258429</td>\n",
       "      <td>0.216560</td>\n",
       "      <td>-1.555482</td>\n",
       "      <td>0.293463</td>\n",
       "      <td>0.065926</td>\n",
       "      <td>0.278591</td>\n",
       "      <td>0.168573</td>\n",
       "      <td>0.079462</td>\n",
       "    </tr>\n",
       "    <tr>\n",
       "      <th>15104</th>\n",
       "      <td>1.293192</td>\n",
       "      <td>-1.301375</td>\n",
       "      <td>-1.317044</td>\n",
       "      <td>0.417088</td>\n",
       "      <td>0.406941</td>\n",
       "      <td>1.669402</td>\n",
       "      <td>0.421457</td>\n",
       "      <td>0.114461</td>\n",
       "    </tr>\n",
       "    <tr>\n",
       "      <th>3720</th>\n",
       "      <td>0.573357</td>\n",
       "      <td>-0.668902</td>\n",
       "      <td>-0.124855</td>\n",
       "      <td>0.249991</td>\n",
       "      <td>1.011361</td>\n",
       "      <td>1.741950</td>\n",
       "      <td>1.149143</td>\n",
       "      <td>-0.859448</td>\n",
       "    </tr>\n",
       "    <tr>\n",
       "      <th>8938</th>\n",
       "      <td>0.548362</td>\n",
       "      <td>-0.757917</td>\n",
       "      <td>0.987854</td>\n",
       "      <td>0.024932</td>\n",
       "      <td>0.040056</td>\n",
       "      <td>-0.342497</td>\n",
       "      <td>-0.063667</td>\n",
       "      <td>0.289665</td>\n",
       "    </tr>\n",
       "  </tbody>\n",
       "</table>\n",
       "</div>"
      ],
      "text/plain": [
       "       longitude  latitude  housing_median_age  total_rooms  total_bedrooms  \\\n",
       "19121  -1.536160  1.223832            0.908375    -0.305639       -0.305663   \n",
       "20019   0.258429  0.216560           -1.555482     0.293463        0.065926   \n",
       "15104   1.293192 -1.301375           -1.317044     0.417088        0.406941   \n",
       "3720    0.573357 -0.668902           -0.124855     0.249991        1.011361   \n",
       "8938    0.548362 -0.757917            0.987854     0.024932        0.040056   \n",
       "\n",
       "       population  households  median_income  \n",
       "19121   -0.349575   -0.270103      -0.041586  \n",
       "20019    0.278591    0.168573       0.079462  \n",
       "15104    1.669402    0.421457       0.114461  \n",
       "3720     1.741950    1.149143      -0.859448  \n",
       "8938    -0.342497   -0.063667       0.289665  "
      ]
     },
     "execution_count": 120,
     "metadata": {},
     "output_type": "execute_result"
    }
   ],
   "source": [
    "X_test_num_tr = scaler.transform(X_test_num_tr)\n",
    "X_test_num_tr = pd.DataFrame(X_test_num_tr, columns=X_test_num.columns,\n",
    "                             index=X_test_num.index)\n",
    "X_test_num_tr.head()"
   ]
  },
  {
   "cell_type": "markdown",
   "id": "13433df5-0e57-4e93-87ef-6d538ca27556",
   "metadata": {},
   "source": [
    "# Custom Transformers "
   ]
  },
  {
   "cell_type": "code",
   "execution_count": 123,
   "id": "d9381e37-d7a8-42f8-820d-411897b01f1b",
   "metadata": {},
   "outputs": [],
   "source": [
    "from sklearn.preprocessing import FunctionTransformer\n",
    "#                       transformer   inverse tranformer\n",
    "log_tr = FunctionTransformer(np.log, np.exp)\n",
    "pop = X_train_num[\"population\"].values.copy()\n",
    "pop_log = log_tr.transform(pop) # np.log\n"
   ]
  },
  {
   "cell_type": "code",
   "execution_count": 125,
   "id": "80f5e4e1-e2f4-43dc-8389-075a73181f51",
   "metadata": {},
   "outputs": [
    {
     "data": {
      "text/plain": [
       "array([ 504., 3010., 1452.,  988., 1405.])"
      ]
     },
     "execution_count": 125,
     "metadata": {},
     "output_type": "execute_result"
    }
   ],
   "source": [
    "pop[:5]"
   ]
  },
  {
   "cell_type": "code",
   "execution_count": 127,
   "id": "baf589e6-68f4-46a1-a05f-2faf8e182027",
   "metadata": {},
   "outputs": [
    {
     "data": {
      "text/plain": [
       "array([6.22257627, 8.00969536, 7.2806972 , 6.8956827 , 7.24779258])"
      ]
     },
     "execution_count": 127,
     "metadata": {},
     "output_type": "execute_result"
    }
   ],
   "source": [
    "pop_log[:5]"
   ]
  },
  {
   "cell_type": "code",
   "execution_count": 129,
   "id": "fab0cc83-1716-4c49-94d8-925860783f6f",
   "metadata": {},
   "outputs": [
    {
     "data": {
      "text/plain": [
       "array([6.22257627, 8.00969536, 7.2806972 , 6.8956827 , 7.24779258])"
      ]
     },
     "execution_count": 129,
     "metadata": {},
     "output_type": "execute_result"
    }
   ],
   "source": [
    "np.log(pop[:5])"
   ]
  },
  {
   "cell_type": "code",
   "execution_count": 131,
   "id": "9c79f81d-9002-4127-82e9-8f2699286ec9",
   "metadata": {},
   "outputs": [
    {
     "data": {
      "text/plain": [
       "array([ 504., 3010., 1452.,  988., 1405.])"
      ]
     },
     "execution_count": 131,
     "metadata": {},
     "output_type": "execute_result"
    }
   ],
   "source": [
    "n_pop = log_tr.inverse_transform(pop_log) # np.exp\n",
    "n_pop[:5]"
   ]
  },
  {
   "cell_type": "code",
   "execution_count": null,
   "id": "bfbfa315-26c3-4bf0-92ef-7dbdff32de2f",
   "metadata": {},
   "outputs": [],
   "source": []
  },
  {
   "cell_type": "code",
   "execution_count": 134,
   "id": "829b76eb-bc8f-492d-95e1-273a24dd0d85",
   "metadata": {},
   "outputs": [
    {
     "data": {
      "text/html": [
       "<div>\n",
       "<style scoped>\n",
       "    .dataframe tbody tr th:only-of-type {\n",
       "        vertical-align: middle;\n",
       "    }\n",
       "\n",
       "    .dataframe tbody tr th {\n",
       "        vertical-align: top;\n",
       "    }\n",
       "\n",
       "    .dataframe thead th {\n",
       "        text-align: right;\n",
       "    }\n",
       "</style>\n",
       "<table border=\"1\" class=\"dataframe\">\n",
       "  <thead>\n",
       "    <tr style=\"text-align: right;\">\n",
       "      <th></th>\n",
       "      <th>longitude</th>\n",
       "      <th>latitude</th>\n",
       "      <th>housing_median_age</th>\n",
       "      <th>total_rooms</th>\n",
       "      <th>total_bedrooms</th>\n",
       "      <th>population</th>\n",
       "      <th>households</th>\n",
       "      <th>median_income</th>\n",
       "      <th>median_house_value</th>\n",
       "      <th>ocean_proximity</th>\n",
       "    </tr>\n",
       "  </thead>\n",
       "  <tbody>\n",
       "    <tr>\n",
       "      <th>12764</th>\n",
       "      <td>-121.40</td>\n",
       "      <td>38.61</td>\n",
       "      <td>33.0</td>\n",
       "      <td>3512.0</td>\n",
       "      <td>825.0</td>\n",
       "      <td>1515.0</td>\n",
       "      <td>782.0</td>\n",
       "      <td>1.9908</td>\n",
       "      <td>118800.0</td>\n",
       "      <td>INLAND</td>\n",
       "    </tr>\n",
       "    <tr>\n",
       "      <th>14713</th>\n",
       "      <td>-117.04</td>\n",
       "      <td>32.80</td>\n",
       "      <td>25.0</td>\n",
       "      <td>2504.0</td>\n",
       "      <td>345.0</td>\n",
       "      <td>1067.0</td>\n",
       "      <td>350.0</td>\n",
       "      <td>5.7416</td>\n",
       "      <td>243400.0</td>\n",
       "      <td>&lt;1H OCEAN</td>\n",
       "    </tr>\n",
       "    <tr>\n",
       "      <th>13789</th>\n",
       "      <td>-117.62</td>\n",
       "      <td>34.44</td>\n",
       "      <td>6.0</td>\n",
       "      <td>8884.0</td>\n",
       "      <td>1687.0</td>\n",
       "      <td>3767.0</td>\n",
       "      <td>1334.0</td>\n",
       "      <td>3.5990</td>\n",
       "      <td>140200.0</td>\n",
       "      <td>INLAND</td>\n",
       "    </tr>\n",
       "    <tr>\n",
       "      <th>5158</th>\n",
       "      <td>-118.28</td>\n",
       "      <td>33.96</td>\n",
       "      <td>42.0</td>\n",
       "      <td>1206.0</td>\n",
       "      <td>304.0</td>\n",
       "      <td>1167.0</td>\n",
       "      <td>250.0</td>\n",
       "      <td>1.6150</td>\n",
       "      <td>101300.0</td>\n",
       "      <td>&lt;1H OCEAN</td>\n",
       "    </tr>\n",
       "    <tr>\n",
       "      <th>18061</th>\n",
       "      <td>-122.01</td>\n",
       "      <td>37.25</td>\n",
       "      <td>31.0</td>\n",
       "      <td>1574.0</td>\n",
       "      <td>193.0</td>\n",
       "      <td>551.0</td>\n",
       "      <td>191.0</td>\n",
       "      <td>10.2311</td>\n",
       "      <td>500001.0</td>\n",
       "      <td>&lt;1H OCEAN</td>\n",
       "    </tr>\n",
       "    <tr>\n",
       "      <th>...</th>\n",
       "      <td>...</td>\n",
       "      <td>...</td>\n",
       "      <td>...</td>\n",
       "      <td>...</td>\n",
       "      <td>...</td>\n",
       "      <td>...</td>\n",
       "      <td>...</td>\n",
       "      <td>...</td>\n",
       "      <td>...</td>\n",
       "      <td>...</td>\n",
       "    </tr>\n",
       "    <tr>\n",
       "      <th>1467</th>\n",
       "      <td>-121.99</td>\n",
       "      <td>37.96</td>\n",
       "      <td>16.0</td>\n",
       "      <td>3324.0</td>\n",
       "      <td>479.0</td>\n",
       "      <td>1470.0</td>\n",
       "      <td>461.0</td>\n",
       "      <td>7.6166</td>\n",
       "      <td>260400.0</td>\n",
       "      <td>INLAND</td>\n",
       "    </tr>\n",
       "    <tr>\n",
       "      <th>5303</th>\n",
       "      <td>-118.46</td>\n",
       "      <td>34.07</td>\n",
       "      <td>43.0</td>\n",
       "      <td>2511.0</td>\n",
       "      <td>456.0</td>\n",
       "      <td>808.0</td>\n",
       "      <td>407.0</td>\n",
       "      <td>6.7703</td>\n",
       "      <td>500001.0</td>\n",
       "      <td>&lt;1H OCEAN</td>\n",
       "    </tr>\n",
       "    <tr>\n",
       "      <th>11147</th>\n",
       "      <td>-117.98</td>\n",
       "      <td>33.84</td>\n",
       "      <td>35.0</td>\n",
       "      <td>984.0</td>\n",
       "      <td>179.0</td>\n",
       "      <td>661.0</td>\n",
       "      <td>199.0</td>\n",
       "      <td>5.0747</td>\n",
       "      <td>189600.0</td>\n",
       "      <td>&lt;1H OCEAN</td>\n",
       "    </tr>\n",
       "    <tr>\n",
       "      <th>4567</th>\n",
       "      <td>-118.26</td>\n",
       "      <td>34.06</td>\n",
       "      <td>38.0</td>\n",
       "      <td>715.0</td>\n",
       "      <td>282.0</td>\n",
       "      <td>1174.0</td>\n",
       "      <td>300.0</td>\n",
       "      <td>2.3450</td>\n",
       "      <td>225000.0</td>\n",
       "      <td>&lt;1H OCEAN</td>\n",
       "    </tr>\n",
       "    <tr>\n",
       "      <th>11636</th>\n",
       "      <td>-118.03</td>\n",
       "      <td>33.83</td>\n",
       "      <td>25.0</td>\n",
       "      <td>3030.0</td>\n",
       "      <td>532.0</td>\n",
       "      <td>1668.0</td>\n",
       "      <td>509.0</td>\n",
       "      <td>4.6250</td>\n",
       "      <td>229600.0</td>\n",
       "      <td>&lt;1H OCEAN</td>\n",
       "    </tr>\n",
       "  </tbody>\n",
       "</table>\n",
       "<p>4128 rows × 10 columns</p>\n",
       "</div>"
      ],
      "text/plain": [
       "       longitude  latitude  housing_median_age  total_rooms  total_bedrooms  \\\n",
       "12764    -121.40     38.61                33.0       3512.0           825.0   \n",
       "14713    -117.04     32.80                25.0       2504.0           345.0   \n",
       "13789    -117.62     34.44                 6.0       8884.0          1687.0   \n",
       "5158     -118.28     33.96                42.0       1206.0           304.0   \n",
       "18061    -122.01     37.25                31.0       1574.0           193.0   \n",
       "...          ...       ...                 ...          ...             ...   \n",
       "1467     -121.99     37.96                16.0       3324.0           479.0   \n",
       "5303     -118.46     34.07                43.0       2511.0           456.0   \n",
       "11147    -117.98     33.84                35.0        984.0           179.0   \n",
       "4567     -118.26     34.06                38.0        715.0           282.0   \n",
       "11636    -118.03     33.83                25.0       3030.0           532.0   \n",
       "\n",
       "       population  households  median_income  median_house_value  \\\n",
       "12764      1515.0       782.0         1.9908            118800.0   \n",
       "14713      1067.0       350.0         5.7416            243400.0   \n",
       "13789      3767.0      1334.0         3.5990            140200.0   \n",
       "5158       1167.0       250.0         1.6150            101300.0   \n",
       "18061       551.0       191.0        10.2311            500001.0   \n",
       "...           ...         ...            ...                 ...   \n",
       "1467       1470.0       461.0         7.6166            260400.0   \n",
       "5303        808.0       407.0         6.7703            500001.0   \n",
       "11147       661.0       199.0         5.0747            189600.0   \n",
       "4567       1174.0       300.0         2.3450            225000.0   \n",
       "11636      1668.0       509.0         4.6250            229600.0   \n",
       "\n",
       "      ocean_proximity  \n",
       "12764          INLAND  \n",
       "14713       <1H OCEAN  \n",
       "13789          INLAND  \n",
       "5158        <1H OCEAN  \n",
       "18061       <1H OCEAN  \n",
       "...               ...  \n",
       "1467           INLAND  \n",
       "5303        <1H OCEAN  \n",
       "11147       <1H OCEAN  \n",
       "4567        <1H OCEAN  \n",
       "11636       <1H OCEAN  \n",
       "\n",
       "[4128 rows x 10 columns]"
      ]
     },
     "execution_count": 134,
     "metadata": {},
     "output_type": "execute_result"
    }
   ],
   "source": [
    "housing.sample(frac=0.2)"
   ]
  },
  {
   "cell_type": "code",
   "execution_count": null,
   "id": "fda62532-81da-422e-ae97-7cb3453fe534",
   "metadata": {},
   "outputs": [],
   "source": []
  },
  {
   "cell_type": "code",
   "execution_count": null,
   "id": "e3d7b8d6-8ecd-45d9-b3e0-cbb4a97ef830",
   "metadata": {},
   "outputs": [],
   "source": []
  },
  {
   "cell_type": "code",
   "execution_count": 138,
   "id": "24e4d27e-9e37-4027-a1be-d4013d04ac09",
   "metadata": {},
   "outputs": [],
   "source": [
    "def mytransformation_func(X):\n",
    "    # ....\n",
    "    # spaces remove from column\n",
    "    # replacing NA values with 0\n",
    "    # log, exp, math function R = VI / A\n",
    "    return X_tr \n",
    "    "
   ]
  },
  {
   "cell_type": "markdown",
   "id": "b393dec1-91a1-4fd5-a333-49ca40028012",
   "metadata": {},
   "source": [
    "    X -> log(x) # Transform\n",
    "    exp(log(x)) -> X # Reverse Transform"
   ]
  },
  {
   "cell_type": "code",
   "execution_count": 141,
   "id": "9bf313bc-7f53-4220-9208-2ee720f75cce",
   "metadata": {},
   "outputs": [],
   "source": [
    "log_tr = FunctionTransformer(np.log, np.exp)"
   ]
  },
  {
   "cell_type": "code",
   "execution_count": 143,
   "id": "62722197-3d6c-4408-b816-e82d7e1e7bea",
   "metadata": {},
   "outputs": [
    {
     "data": {
      "image/png": "[encoded data removed]",
      "text/plain": [
       "<Figure size 640x480 with 1 Axes>"
      ]
     },
     "metadata": {},
     "output_type": "display_data"
    }
   ],
   "source": [
    "X_train_num[\"population\"].hist(bins=30)\n",
    "plt.show()"
   ]
  },
  {
   "cell_type": "code",
   "execution_count": 145,
   "id": "dd3006d5-f29a-4390-beb0-b9df7c0dd006",
   "metadata": {},
   "outputs": [],
   "source": [
    "pop_log = log_tr.transform(X_train_num[\"population\"])"
   ]
  },
  {
   "cell_type": "code",
   "execution_count": 147,
   "id": "fe0db9e7-327a-4e83-b275-2d5baf0dadae",
   "metadata": {},
   "outputs": [
    {
     "data": {
      "image/png": "[encoded data removed]",
      "text/plain": [
       "<Figure size 640x480 with 1 Axes>"
      ]
     },
     "metadata": {},
     "output_type": "display_data"
    }
   ],
   "source": [
    "pop_log.hist(bins=30)\n",
    "plt.show()"
   ]
  },
  {
   "cell_type": "markdown",
   "id": "3d398e97-6a48-4d12-8e7c-78df6de39612",
   "metadata": {},
   "source": [
    "# Custom Transformer\n",
    "\n",
    "    fit - learn required paramertrs from training Data\n",
    "\n",
    "    transform - convert input values to desired output values after appling transformation"
   ]
  },
  {
   "cell_type": "code",
   "execution_count": 150,
   "id": "42bf6d53-b3fe-4e81-9591-048a44b7d4b0",
   "metadata": {},
   "outputs": [],
   "source": [
    "from sklearn.base import BaseEstimator, TransformerMixin\n",
    "from sklearn.utils.validation import check_array, check_is_fitted"
   ]
  },
  {
   "cell_type": "code",
   "execution_count": 152,
   "id": "3610742a-0ff0-426c-b136-043f104fd455",
   "metadata": {},
   "outputs": [
    {
     "data": {
      "text/plain": [
       "(8,)"
      ]
     },
     "execution_count": 152,
     "metadata": {},
     "output_type": "execute_result"
    }
   ],
   "source": [
    "X_train_num_tr.values.min(axis=0).shape"
   ]
  },
  {
   "cell_type": "code",
   "execution_count": 154,
   "id": "17d8145d-787f-456e-b1f6-faf865ab2a11",
   "metadata": {},
   "outputs": [
    {
     "ename": "AssertionError",
     "evalue": "",
     "output_type": "error",
     "traceback": [
      "\u001b[0;31m---------------------------------------------------------------------------\u001b[0m",
      "\u001b[0;31mAssertionError\u001b[0m                            Traceback (most recent call last)",
      "Cell \u001b[0;32mIn[154], line 1\u001b[0m\n\u001b[0;32m----> 1\u001b[0m \u001b[38;5;28;01massert\u001b[39;00m \u001b[38;5;241m1\u001b[39m\u001b[38;5;241m==\u001b[39m\u001b[38;5;241m0\u001b[39m\n",
      "\u001b[0;31mAssertionError\u001b[0m: "
     ]
    }
   ],
   "source": [
    "assert 1==0"
   ]
  },
  {
   "cell_type": "markdown",
   "id": "3ed54f36-f557-418c-aa39-122495d09989",
   "metadata": {},
   "source": [
    "$$S_(X_i) = \\frac {x_i - min(X)} {max(X)-min(X)}$$"
   ]
  },
  {
   "cell_type": "markdown",
   "id": "284faf66-0160-4ffc-bf3e-c8897b6dabc4",
   "metadata": {},
   "source": [
    "### Any doubt ? "
   ]
  },
  {
   "cell_type": "code",
   "execution_count": 158,
   "id": "b0a5e573-63f2-410f-949e-c41c4ea8dfb5",
   "metadata": {},
   "outputs": [],
   "source": [
    "class MyMinMaxScaler(BaseEstimator, TransformerMixin):\n",
    "    def fit(self, X_train, y_train=None):\n",
    "        # learning min, max\n",
    "        X_train = np.array(X_train)\n",
    "        self.min_ = X_train.min(axis=0) # axis=0 column wise\n",
    "        self.max_ = X_train.max(axis=0)\n",
    "        self.n_features_in_ = X_train.shape[1]\n",
    "        return self \n",
    "    def transform(self, X, y=None):\n",
    "        X = np.array(X)\n",
    "        check_is_fitted(self) # does your object self contains param_ attributes\n",
    "        assert self.n_features_in_ == X.shape[1]\n",
    "        X = check_array(X)\n",
    "        return (X - self.min_) / (self.max_ - self.min_)"
   ]
  },
  {
   "cell_type": "code",
   "execution_count": 160,
   "id": "c3d74764-257f-43d9-a7e8-81fc2a2f11de",
   "metadata": {},
   "outputs": [
    {
     "data": {
      "text/html": [
       "<style>#sk-container-id-2 {color: black;background-color: white;}#sk-container-id-2 pre{padding: 0;}#sk-container-id-2 div.sk-toggleable {background-color: white;}#sk-container-id-2 label.sk-toggleable__label {cursor: pointer;display: block;width: 100%;margin-bottom: 0;padding: 0.3em;box-sizing: border-box;text-align: center;}#sk-container-id-2 label.sk-toggleable__label-arrow:before {content: \"▸\";float: left;margin-right: 0.25em;color: #696969;}#sk-container-id-2 label.sk-toggleable__label-arrow:hover:before {color: black;}#sk-container-id-2 div.sk-estimator:hover label.sk-toggleable__label-arrow:before {color: black;}#sk-container-id-2 div.sk-toggleable__content {max-height: 0;max-width: 0;overflow: hidden;text-align: left;background-color: #f0f8ff;}#sk-container-id-2 div.sk-toggleable__content pre {margin: 0.2em;color: black;border-radius: 0.25em;background-color: #f0f8ff;}#sk-container-id-2 input.sk-toggleable__control:checked~div.sk-toggleable__content {max-height: 200px;max-width: 100%;overflow: auto;}#sk-container-id-2 input.sk-toggleable__control:checked~label.sk-toggleable__label-arrow:before {content: \"▾\";}#sk-container-id-2 div.sk-estimator input.sk-toggleable__control:checked~label.sk-toggleable__label {background-color: #d4ebff;}#sk-container-id-2 div.sk-label input.sk-toggleable__control:checked~label.sk-toggleable__label {background-color: #d4ebff;}#sk-container-id-2 input.sk-hidden--visually {border: 0;clip: rect(1px 1px 1px 1px);clip: rect(1px, 1px, 1px, 1px);height: 1px;margin: -1px;overflow: hidden;padding: 0;position: absolute;width: 1px;}#sk-container-id-2 div.sk-estimator {font-family: monospace;background-color: #f0f8ff;border: 1px dotted black;border-radius: 0.25em;box-sizing: border-box;margin-bottom: 0.5em;}#sk-container-id-2 div.sk-estimator:hover {background-color: #d4ebff;}#sk-container-id-2 div.sk-parallel-item::after {content: \"\";width: 100%;border-bottom: 1px solid gray;flex-grow: 1;}#sk-container-id-2 div.sk-label:hover label.sk-toggleable__label {background-color: #d4ebff;}#sk-container-id-2 div.sk-serial::before {content: \"\";position: absolute;border-left: 1px solid gray;box-sizing: border-box;top: 0;bottom: 0;left: 50%;z-index: 0;}#sk-container-id-2 div.sk-serial {display: flex;flex-direction: column;align-items: center;background-color: white;padding-right: 0.2em;padding-left: 0.2em;position: relative;}#sk-container-id-2 div.sk-item {position: relative;z-index: 1;}#sk-container-id-2 div.sk-parallel {display: flex;align-items: stretch;justify-content: center;background-color: white;position: relative;}#sk-container-id-2 div.sk-item::before, #sk-container-id-2 div.sk-parallel-item::before {content: \"\";position: absolute;border-left: 1px solid gray;box-sizing: border-box;top: 0;bottom: 0;left: 50%;z-index: -1;}#sk-container-id-2 div.sk-parallel-item {display: flex;flex-direction: column;z-index: 1;position: relative;background-color: white;}#sk-container-id-2 div.sk-parallel-item:first-child::after {align-self: flex-end;width: 50%;}#sk-container-id-2 div.sk-parallel-item:last-child::after {align-self: flex-start;width: 50%;}#sk-container-id-2 div.sk-parallel-item:only-child::after {width: 0;}#sk-container-id-2 div.sk-dashed-wrapped {border: 1px dashed gray;margin: 0 0.4em 0.5em 0.4em;box-sizing: border-box;padding-bottom: 0.4em;background-color: white;}#sk-container-id-2 div.sk-label label {font-family: monospace;font-weight: bold;display: inline-block;line-height: 1.2em;}#sk-container-id-2 div.sk-label-container {text-align: center;}#sk-container-id-2 div.sk-container {/* jupyter's `normalize.less` sets `[hidden] { display: none; }` but bootstrap.min.css set `[hidden] { display: none !important; }` so we also need the `!important` here to be able to override the default hidden behavior on the sphinx rendered scikit-learn.org. See: https://github.com/scikit-learn/scikit-learn/issues/21755 */display: inline-block !important;position: relative;}#sk-container-id-2 div.sk-text-repr-fallback {display: none;}</style><div id=\"sk-container-id-2\" class=\"sk-top-container\"><div class=\"sk-text-repr-fallback\"><pre>MinMaxScaler()</pre><b>In a Jupyter environment, please rerun this cell to show the HTML representation or trust the notebook. <br />On GitHub, the HTML representation is unable to render, please try loading this page with nbviewer.org.</b></div><div class=\"sk-container\" hidden><div class=\"sk-item\"><div class=\"sk-estimator sk-toggleable\"><input class=\"sk-toggleable__control sk-hidden--visually\" id=\"sk-estimator-id-2\" type=\"checkbox\" checked><label for=\"sk-estimator-id-2\" class=\"sk-toggleable__label sk-toggleable__label-arrow\">MinMaxScaler</label><div class=\"sk-toggleable__content\"><pre>MinMaxScaler()</pre></div></div></div></div></div>"
      ],
      "text/plain": [
       "MinMaxScaler()"
      ]
     },
     "execution_count": 160,
     "metadata": {},
     "output_type": "execute_result"
    }
   ],
   "source": [
    "from sklearn.preprocessing import MinMaxScaler\n",
    "sc = MinMaxScaler()\n",
    "mimx = MyMinMaxScaler()\n",
    "mimx.fit(X_train_num.dropna())\n",
    "sc.fit(X_train_num.dropna())"
   ]
  },
  {
   "cell_type": "code",
   "execution_count": 162,
   "id": "0983d644-2f56-436f-b4c1-1ee5f4f81294",
   "metadata": {},
   "outputs": [
    {
     "data": {
      "text/plain": [
       "array([-124.35  ,   32.54  ,    1.    ,    2.    ,    1.    ,    3.    ,\n",
       "          1.    ,    0.4999])"
      ]
     },
     "execution_count": 162,
     "metadata": {},
     "output_type": "execute_result"
    }
   ],
   "source": [
    "mimx.min_"
   ]
  },
  {
   "cell_type": "code",
   "execution_count": 164,
   "id": "443c94ca-a454-489c-9086-96e95ce8c2c1",
   "metadata": {},
   "outputs": [
    {
     "data": {
      "text/plain": [
       "array([-124.35  ,   32.54  ,    1.    ,    2.    ,    1.    ,    3.    ,\n",
       "          1.    ,    0.4999])"
      ]
     },
     "execution_count": 164,
     "metadata": {},
     "output_type": "execute_result"
    }
   ],
   "source": [
    "sc.data_min_"
   ]
  },
  {
   "cell_type": "code",
   "execution_count": 166,
   "id": "37d7afa1-241a-4ade-af10-9ff3ef79eee0",
   "metadata": {},
   "outputs": [
    {
     "data": {
      "text/plain": [
       "array([-1.14310e+02,  4.19500e+01,  5.20000e+01,  3.93200e+04,\n",
       "        6.44500e+03,  2.85660e+04,  6.08200e+03,  1.50001e+01])"
      ]
     },
     "execution_count": 166,
     "metadata": {},
     "output_type": "execute_result"
    }
   ],
   "source": [
    "mimx.max_"
   ]
  },
  {
   "cell_type": "code",
   "execution_count": 168,
   "id": "90a67ab1-a1e1-4374-bef2-6849c91cb664",
   "metadata": {},
   "outputs": [
    {
     "data": {
      "text/plain": [
       "array([-1.14310e+02,  4.19500e+01,  5.20000e+01,  3.93200e+04,\n",
       "        6.44500e+03,  2.85660e+04,  6.08200e+03,  1.50001e+01])"
      ]
     },
     "execution_count": 168,
     "metadata": {},
     "output_type": "execute_result"
    }
   ],
   "source": [
    "sc.data_max_"
   ]
  },
  {
   "cell_type": "code",
   "execution_count": 170,
   "id": "70693281-37b7-40e6-b6d3-60eb1b5fb646",
   "metadata": {},
   "outputs": [],
   "source": [
    "tr = mimx.transform(X_train_num.dropna())\n",
    "trr = sc.transform(X_train_num.dropna())"
   ]
  },
  {
   "cell_type": "code",
   "execution_count": 172,
   "id": "0c4835e4-ddf4-4944-be45-8bf4e2723759",
   "metadata": {},
   "outputs": [
    {
     "data": {
      "text/plain": [
       "array([[-1.2233e+02,  3.8380e+01,  2.8000e+01,  1.0200e+03,  1.6900e+02,\n",
       "         5.0400e+02,  1.6400e+02,  4.5694e+00],\n",
       "       [-1.1860e+02,  3.4260e+01,  1.8000e+01,  6.1540e+03,  1.0700e+03,\n",
       "         3.0100e+03,  1.0340e+03,  5.6392e+00],\n",
       "       [-1.1821e+02,  3.4070e+01,  4.7000e+01,  1.3460e+03,  3.8300e+02,\n",
       "         1.4520e+03,  3.7100e+02,  1.7292e+00],\n",
       "       [-1.1802e+02,  3.3960e+01,  3.6000e+01,  2.0710e+03,  3.9800e+02,\n",
       "         9.8800e+02,  4.0400e+02,  4.6226e+00],\n",
       "       [-1.1820e+02,  3.4080e+01,  4.9000e+01,  1.3200e+03,  3.0900e+02,\n",
       "         1.4050e+03,  3.2800e+02,  2.4375e+00]])"
      ]
     },
     "execution_count": 172,
     "metadata": {},
     "output_type": "execute_result"
    }
   ],
   "source": [
    "X_train_num.dropna().to_numpy()[:5]"
   ]
  },
  {
   "cell_type": "code",
   "execution_count": 174,
   "id": "8798b9b1-d89e-4172-96cf-675e445f1e2d",
   "metadata": {},
   "outputs": [
    {
     "data": {
      "text/plain": [
       "array([[0.20119522, 0.62061637, 0.52941176, 0.02589145, 0.02607076,\n",
       "        0.01754017, 0.0268048 , 0.2806513 ],\n",
       "       [0.57270916, 0.18278427, 0.33333333, 0.15646778, 0.16589075,\n",
       "        0.10527606, 0.16987338, 0.35442959],\n",
       "       [0.61155378, 0.16259299, 0.90196078, 0.03418282, 0.05927995,\n",
       "        0.05072997, 0.06084526, 0.08477814],\n",
       "       [0.63047809, 0.15090329, 0.68627451, 0.05262221, 0.0616077 ,\n",
       "        0.03448517, 0.06627199, 0.28432022],\n",
       "       [0.6125498 , 0.16365569, 0.94117647, 0.03352154, 0.0477964 ,\n",
       "        0.04908448, 0.05377405, 0.13362574]])"
      ]
     },
     "execution_count": 174,
     "metadata": {},
     "output_type": "execute_result"
    }
   ],
   "source": [
    "tr[:5]"
   ]
  },
  {
   "cell_type": "code",
   "execution_count": 176,
   "id": "9d2afc8b-8898-437b-a297-83845a12be81",
   "metadata": {},
   "outputs": [
    {
     "data": {
      "text/plain": [
       "array([[0.20119522, 0.62061637, 0.52941176, 0.02589145, 0.02607076,\n",
       "        0.01754017, 0.0268048 , 0.2806513 ],\n",
       "       [0.57270916, 0.18278427, 0.33333333, 0.15646778, 0.16589075,\n",
       "        0.10527606, 0.16987338, 0.35442959],\n",
       "       [0.61155378, 0.16259299, 0.90196078, 0.03418282, 0.05927995,\n",
       "        0.05072997, 0.06084526, 0.08477814],\n",
       "       [0.63047809, 0.15090329, 0.68627451, 0.05262221, 0.0616077 ,\n",
       "        0.03448517, 0.06627199, 0.28432022],\n",
       "       [0.6125498 , 0.16365569, 0.94117647, 0.03352154, 0.0477964 ,\n",
       "        0.04908448, 0.05377405, 0.13362574]])"
      ]
     },
     "execution_count": 176,
     "metadata": {},
     "output_type": "execute_result"
    }
   ],
   "source": [
    "trr[:5]"
   ]
  },
  {
   "cell_type": "markdown",
   "id": "fe070062-d7f9-4069-8321-ff003b9152e2",
   "metadata": {},
   "source": [
    "### Feature Engineering \n",
    "\n",
    "\n",
    "    Feature Selection   - We select important feature further and drop irrelvant features\n",
    "\n",
    "    Feature Extraction - We create new features based on existing features or we collect new feature regarding same instances"
   ]
  },
  {
   "cell_type": "code",
   "execution_count": 179,
   "id": "a714456c-5c3c-43fb-b0a7-8a96d05e03fc",
   "metadata": {},
   "outputs": [
    {
     "data": {
      "text/html": [
       "<div>\n",
       "<style scoped>\n",
       "    .dataframe tbody tr th:only-of-type {\n",
       "        vertical-align: middle;\n",
       "    }\n",
       "\n",
       "    .dataframe tbody tr th {\n",
       "        vertical-align: top;\n",
       "    }\n",
       "\n",
       "    .dataframe thead th {\n",
       "        text-align: right;\n",
       "    }\n",
       "</style>\n",
       "<table border=\"1\" class=\"dataframe\">\n",
       "  <thead>\n",
       "    <tr style=\"text-align: right;\">\n",
       "      <th></th>\n",
       "      <th>longitude</th>\n",
       "      <th>latitude</th>\n",
       "      <th>housing_median_age</th>\n",
       "      <th>total_rooms</th>\n",
       "      <th>total_bedrooms</th>\n",
       "      <th>population</th>\n",
       "      <th>households</th>\n",
       "      <th>median_income</th>\n",
       "      <th>median_house_value</th>\n",
       "      <th>ocean_proximity</th>\n",
       "    </tr>\n",
       "  </thead>\n",
       "  <tbody>\n",
       "    <tr>\n",
       "      <th>0</th>\n",
       "      <td>-122.23</td>\n",
       "      <td>37.88</td>\n",
       "      <td>41.0</td>\n",
       "      <td>880.0</td>\n",
       "      <td>129.0</td>\n",
       "      <td>322.0</td>\n",
       "      <td>126.0</td>\n",
       "      <td>8.3252</td>\n",
       "      <td>452600.0</td>\n",
       "      <td>NEAR BAY</td>\n",
       "    </tr>\n",
       "    <tr>\n",
       "      <th>1</th>\n",
       "      <td>-122.22</td>\n",
       "      <td>37.86</td>\n",
       "      <td>21.0</td>\n",
       "      <td>7099.0</td>\n",
       "      <td>1106.0</td>\n",
       "      <td>2401.0</td>\n",
       "      <td>1138.0</td>\n",
       "      <td>8.3014</td>\n",
       "      <td>358500.0</td>\n",
       "      <td>NEAR BAY</td>\n",
       "    </tr>\n",
       "    <tr>\n",
       "      <th>2</th>\n",
       "      <td>-122.24</td>\n",
       "      <td>37.85</td>\n",
       "      <td>52.0</td>\n",
       "      <td>1467.0</td>\n",
       "      <td>190.0</td>\n",
       "      <td>496.0</td>\n",
       "      <td>177.0</td>\n",
       "      <td>7.2574</td>\n",
       "      <td>352100.0</td>\n",
       "      <td>NEAR BAY</td>\n",
       "    </tr>\n",
       "    <tr>\n",
       "      <th>3</th>\n",
       "      <td>-122.25</td>\n",
       "      <td>37.85</td>\n",
       "      <td>52.0</td>\n",
       "      <td>1274.0</td>\n",
       "      <td>235.0</td>\n",
       "      <td>558.0</td>\n",
       "      <td>219.0</td>\n",
       "      <td>5.6431</td>\n",
       "      <td>341300.0</td>\n",
       "      <td>NEAR BAY</td>\n",
       "    </tr>\n",
       "    <tr>\n",
       "      <th>4</th>\n",
       "      <td>-122.25</td>\n",
       "      <td>37.85</td>\n",
       "      <td>52.0</td>\n",
       "      <td>1627.0</td>\n",
       "      <td>280.0</td>\n",
       "      <td>565.0</td>\n",
       "      <td>259.0</td>\n",
       "      <td>3.8462</td>\n",
       "      <td>342200.0</td>\n",
       "      <td>NEAR BAY</td>\n",
       "    </tr>\n",
       "  </tbody>\n",
       "</table>\n",
       "</div>"
      ],
      "text/plain": [
       "   longitude  latitude  housing_median_age  total_rooms  total_bedrooms  \\\n",
       "0    -122.23     37.88                41.0        880.0           129.0   \n",
       "1    -122.22     37.86                21.0       7099.0          1106.0   \n",
       "2    -122.24     37.85                52.0       1467.0           190.0   \n",
       "3    -122.25     37.85                52.0       1274.0           235.0   \n",
       "4    -122.25     37.85                52.0       1627.0           280.0   \n",
       "\n",
       "   population  households  median_income  median_house_value ocean_proximity  \n",
       "0       322.0       126.0         8.3252            452600.0        NEAR BAY  \n",
       "1      2401.0      1138.0         8.3014            358500.0        NEAR BAY  \n",
       "2       496.0       177.0         7.2574            352100.0        NEAR BAY  \n",
       "3       558.0       219.0         5.6431            341300.0        NEAR BAY  \n",
       "4       565.0       259.0         3.8462            342200.0        NEAR BAY  "
      ]
     },
     "execution_count": 179,
     "metadata": {},
     "output_type": "execute_result"
    }
   ],
   "source": [
    "new_housing = housing.copy()\n",
    "new_housing.head()"
   ]
  },
  {
   "cell_type": "code",
   "execution_count": 181,
   "id": "ccb6f2b1-2909-4f71-aecb-90ca7181ff68",
   "metadata": {},
   "outputs": [],
   "source": [
    "new_housing[\"rooms_per_households\"] = new_housing[\"total_rooms\"] / new_housing[\"households\"]"
   ]
  },
  {
   "cell_type": "code",
   "execution_count": 183,
   "id": "528e1139-758b-4030-a574-42684733f714",
   "metadata": {},
   "outputs": [
    {
     "data": {
      "text/html": [
       "<div>\n",
       "<style scoped>\n",
       "    .dataframe tbody tr th:only-of-type {\n",
       "        vertical-align: middle;\n",
       "    }\n",
       "\n",
       "    .dataframe tbody tr th {\n",
       "        vertical-align: top;\n",
       "    }\n",
       "\n",
       "    .dataframe thead th {\n",
       "        text-align: right;\n",
       "    }\n",
       "</style>\n",
       "<table border=\"1\" class=\"dataframe\">\n",
       "  <thead>\n",
       "    <tr style=\"text-align: right;\">\n",
       "      <th></th>\n",
       "      <th>longitude</th>\n",
       "      <th>latitude</th>\n",
       "      <th>housing_median_age</th>\n",
       "      <th>total_rooms</th>\n",
       "      <th>total_bedrooms</th>\n",
       "      <th>population</th>\n",
       "      <th>households</th>\n",
       "      <th>median_income</th>\n",
       "      <th>median_house_value</th>\n",
       "      <th>ocean_proximity</th>\n",
       "      <th>rooms_per_households</th>\n",
       "    </tr>\n",
       "  </thead>\n",
       "  <tbody>\n",
       "    <tr>\n",
       "      <th>0</th>\n",
       "      <td>-122.23</td>\n",
       "      <td>37.88</td>\n",
       "      <td>41.0</td>\n",
       "      <td>880.0</td>\n",
       "      <td>129.0</td>\n",
       "      <td>322.0</td>\n",
       "      <td>126.0</td>\n",
       "      <td>8.3252</td>\n",
       "      <td>452600.0</td>\n",
       "      <td>NEAR BAY</td>\n",
       "      <td>6.984127</td>\n",
       "    </tr>\n",
       "    <tr>\n",
       "      <th>1</th>\n",
       "      <td>-122.22</td>\n",
       "      <td>37.86</td>\n",
       "      <td>21.0</td>\n",
       "      <td>7099.0</td>\n",
       "      <td>1106.0</td>\n",
       "      <td>2401.0</td>\n",
       "      <td>1138.0</td>\n",
       "      <td>8.3014</td>\n",
       "      <td>358500.0</td>\n",
       "      <td>NEAR BAY</td>\n",
       "      <td>6.238137</td>\n",
       "    </tr>\n",
       "    <tr>\n",
       "      <th>2</th>\n",
       "      <td>-122.24</td>\n",
       "      <td>37.85</td>\n",
       "      <td>52.0</td>\n",
       "      <td>1467.0</td>\n",
       "      <td>190.0</td>\n",
       "      <td>496.0</td>\n",
       "      <td>177.0</td>\n",
       "      <td>7.2574</td>\n",
       "      <td>352100.0</td>\n",
       "      <td>NEAR BAY</td>\n",
       "      <td>8.288136</td>\n",
       "    </tr>\n",
       "    <tr>\n",
       "      <th>3</th>\n",
       "      <td>-122.25</td>\n",
       "      <td>37.85</td>\n",
       "      <td>52.0</td>\n",
       "      <td>1274.0</td>\n",
       "      <td>235.0</td>\n",
       "      <td>558.0</td>\n",
       "      <td>219.0</td>\n",
       "      <td>5.6431</td>\n",
       "      <td>341300.0</td>\n",
       "      <td>NEAR BAY</td>\n",
       "      <td>5.817352</td>\n",
       "    </tr>\n",
       "    <tr>\n",
       "      <th>4</th>\n",
       "      <td>-122.25</td>\n",
       "      <td>37.85</td>\n",
       "      <td>52.0</td>\n",
       "      <td>1627.0</td>\n",
       "      <td>280.0</td>\n",
       "      <td>565.0</td>\n",
       "      <td>259.0</td>\n",
       "      <td>3.8462</td>\n",
       "      <td>342200.0</td>\n",
       "      <td>NEAR BAY</td>\n",
       "      <td>6.281853</td>\n",
       "    </tr>\n",
       "  </tbody>\n",
       "</table>\n",
       "</div>"
      ],
      "text/plain": [
       "   longitude  latitude  housing_median_age  total_rooms  total_bedrooms  \\\n",
       "0    -122.23     37.88                41.0        880.0           129.0   \n",
       "1    -122.22     37.86                21.0       7099.0          1106.0   \n",
       "2    -122.24     37.85                52.0       1467.0           190.0   \n",
       "3    -122.25     37.85                52.0       1274.0           235.0   \n",
       "4    -122.25     37.85                52.0       1627.0           280.0   \n",
       "\n",
       "   population  households  median_income  median_house_value ocean_proximity  \\\n",
       "0       322.0       126.0         8.3252            452600.0        NEAR BAY   \n",
       "1      2401.0      1138.0         8.3014            358500.0        NEAR BAY   \n",
       "2       496.0       177.0         7.2574            352100.0        NEAR BAY   \n",
       "3       558.0       219.0         5.6431            341300.0        NEAR BAY   \n",
       "4       565.0       259.0         3.8462            342200.0        NEAR BAY   \n",
       "\n",
       "   rooms_per_households  \n",
       "0              6.984127  \n",
       "1              6.238137  \n",
       "2              8.288136  \n",
       "3              5.817352  \n",
       "4              6.281853  "
      ]
     },
     "execution_count": 183,
     "metadata": {},
     "output_type": "execute_result"
    }
   ],
   "source": [
    "new_housing.head()"
   ]
  },
  {
   "cell_type": "code",
   "execution_count": 185,
   "id": "c44fc2dc-d589-4c84-9f51-d94e9b2d1ce3",
   "metadata": {},
   "outputs": [
    {
     "data": {
      "text/plain": [
       "count    20640.000000\n",
       "mean         5.429000\n",
       "std          2.474173\n",
       "min          0.846154\n",
       "25%          4.440716\n",
       "50%          5.229129\n",
       "75%          6.052381\n",
       "max        141.909091\n",
       "Name: rooms_per_households, dtype: float64"
      ]
     },
     "execution_count": 185,
     "metadata": {},
     "output_type": "execute_result"
    }
   ],
   "source": [
    "new_housing['rooms_per_households'].describe()"
   ]
  },
  {
   "cell_type": "code",
   "execution_count": 187,
   "id": "423de9f0-646d-405d-b7cb-177e20de0a6e",
   "metadata": {},
   "outputs": [
    {
     "data": {
      "text/plain": [
       "rooms_per_households\n",
       "0.846154      162500.0\n",
       "0.888889      112500.0\n",
       "1.000000      137500.0\n",
       "1.130435      156250.0\n",
       "1.260870      112500.0\n",
       "                ...   \n",
       "59.875000      67500.0\n",
       "61.812500     437500.0\n",
       "62.422222      87500.0\n",
       "132.533333    162500.0\n",
       "141.909091    500001.0\n",
       "Name: median_house_value, Length: 19392, dtype: float64"
      ]
     },
     "execution_count": 187,
     "metadata": {},
     "output_type": "execute_result"
    }
   ],
   "source": [
    "new_housing.groupby('rooms_per_households')['median_house_value'].mean()"
   ]
  },
  {
   "cell_type": "code",
   "execution_count": 189,
   "id": "539e9789-11de-45fa-98e3-57e0f3a9549a",
   "metadata": {},
   "outputs": [],
   "source": [
    "new_housing['rooms_per_household_cat'] = pd.cut(new_housing['rooms_per_households'],\n",
    "       bins=[0, 10, 20, 30, 40, 50, 60, 70, np.inf],\n",
    "       labels=[\"10\", \"20\", \"30\", \"40\", \"50\", \"60\", \"70\", '>80'])"
   ]
  },
  {
   "cell_type": "code",
   "execution_count": 191,
   "id": "66d4e7a1-d0e0-4930-adfe-441e02f683cc",
   "metadata": {},
   "outputs": [
    {
     "name": "stderr",
     "output_type": "stream",
     "text": [
      "/var/folders/92/77wzzgtd3b31048n9sf_9_qm0000gn/T/ipykernel_79361/2648259807.py:1: FutureWarning: The default of observed=False is deprecated and will be changed to True in a future version of pandas. Pass observed=False to retain current behavior or observed=True to adopt the future default and silence this warning.\n",
      "  new_housing.groupby('rooms_per_household_cat')['median_house_value'].mean().sort_values(ascending=False)\n"
     ]
    },
    {
     "data": {
      "text/plain": [
       "rooms_per_household_cat\n",
       ">80    331250.500000\n",
       "70     262500.000000\n",
       "10     207080.349221\n",
       "20     193017.267516\n",
       "30     169906.666667\n",
       "60     158040.000000\n",
       "40     152776.923077\n",
       "50     126250.000000\n",
       "Name: median_house_value, dtype: float64"
      ]
     },
     "execution_count": 191,
     "metadata": {},
     "output_type": "execute_result"
    }
   ],
   "source": [
    "new_housing.groupby('rooms_per_household_cat')['median_house_value'].mean().sort_values(ascending=False)"
   ]
  },
  {
   "cell_type": "code",
   "execution_count": 193,
   "id": "8612e08d-386d-43fa-ba25-2ce2a4f502f6",
   "metadata": {},
   "outputs": [
    {
     "data": {
      "text/plain": [
       "(0.0, 70.0)"
      ]
     },
     "execution_count": 193,
     "metadata": {},
     "output_type": "execute_result"
    },
    {
     "data": {
      "image/png": "[encoded data removed]",
      "text/plain": [
       "<Figure size 640x480 with 1 Axes>"
      ]
     },
     "metadata": {},
     "output_type": "display_data"
    }
   ],
   "source": [
    "new_housing.rooms_per_households.hist()\n",
    "plt.yscale('log')\n",
    "plt.xlim([0, 70])"
   ]
  },
  {
   "cell_type": "code",
   "execution_count": 195,
   "id": "62a694f2-225d-4030-bdc4-346c4e61a4da",
   "metadata": {},
   "outputs": [
    {
     "data": {
      "text/plain": [
       "median_house_value      1.000000\n",
       "median_income           0.688075\n",
       "rooms_per_households    0.151948\n",
       "latitude               -0.144160\n",
       "total_rooms             0.134153\n",
       "housing_median_age      0.105623\n",
       "households              0.065843\n",
       "total_bedrooms          0.049686\n",
       "longitude              -0.045967\n",
       "population             -0.024650\n",
       "dtype: float64"
      ]
     },
     "execution_count": 195,
     "metadata": {},
     "output_type": "execute_result"
    }
   ],
   "source": [
    "new_housing.corrwith(new_housing['median_house_value'], numeric_only=True).sort_values(ascending=False, \n",
    "                                                                                       key = lambda x: abs(x))"
   ]
  },
  {
   "cell_type": "code",
   "execution_count": null,
   "id": "36b15039-a415-4704-8eac-3d39fc48741d",
   "metadata": {},
   "outputs": [],
   "source": []
  },
  {
   "cell_type": "code",
   "execution_count": 198,
   "id": "a9e37027-93a2-4f3e-b130-0f9244f5632b",
   "metadata": {},
   "outputs": [
    {
     "data": {
      "text/html": [
       "<div>\n",
       "<style scoped>\n",
       "    .dataframe tbody tr th:only-of-type {\n",
       "        vertical-align: middle;\n",
       "    }\n",
       "\n",
       "    .dataframe tbody tr th {\n",
       "        vertical-align: top;\n",
       "    }\n",
       "\n",
       "    .dataframe thead th {\n",
       "        text-align: right;\n",
       "    }\n",
       "</style>\n",
       "<table border=\"1\" class=\"dataframe\">\n",
       "  <thead>\n",
       "    <tr style=\"text-align: right;\">\n",
       "      <th></th>\n",
       "      <th>longitude</th>\n",
       "      <th>latitude</th>\n",
       "      <th>housing_median_age</th>\n",
       "      <th>total_rooms</th>\n",
       "      <th>total_bedrooms</th>\n",
       "      <th>population</th>\n",
       "      <th>households</th>\n",
       "      <th>median_income</th>\n",
       "      <th>median_house_value</th>\n",
       "      <th>ocean_proximity</th>\n",
       "    </tr>\n",
       "  </thead>\n",
       "  <tbody>\n",
       "    <tr>\n",
       "      <th>0</th>\n",
       "      <td>-122.23</td>\n",
       "      <td>37.88</td>\n",
       "      <td>41.0</td>\n",
       "      <td>880.0</td>\n",
       "      <td>129.0</td>\n",
       "      <td>322.0</td>\n",
       "      <td>126.0</td>\n",
       "      <td>8.3252</td>\n",
       "      <td>452600.0</td>\n",
       "      <td>NEAR BAY</td>\n",
       "    </tr>\n",
       "    <tr>\n",
       "      <th>1</th>\n",
       "      <td>-122.22</td>\n",
       "      <td>37.86</td>\n",
       "      <td>21.0</td>\n",
       "      <td>7099.0</td>\n",
       "      <td>1106.0</td>\n",
       "      <td>2401.0</td>\n",
       "      <td>1138.0</td>\n",
       "      <td>8.3014</td>\n",
       "      <td>358500.0</td>\n",
       "      <td>NEAR BAY</td>\n",
       "    </tr>\n",
       "    <tr>\n",
       "      <th>2</th>\n",
       "      <td>-122.24</td>\n",
       "      <td>37.85</td>\n",
       "      <td>52.0</td>\n",
       "      <td>1467.0</td>\n",
       "      <td>190.0</td>\n",
       "      <td>496.0</td>\n",
       "      <td>177.0</td>\n",
       "      <td>7.2574</td>\n",
       "      <td>352100.0</td>\n",
       "      <td>NEAR BAY</td>\n",
       "    </tr>\n",
       "    <tr>\n",
       "      <th>3</th>\n",
       "      <td>-122.25</td>\n",
       "      <td>37.85</td>\n",
       "      <td>52.0</td>\n",
       "      <td>1274.0</td>\n",
       "      <td>235.0</td>\n",
       "      <td>558.0</td>\n",
       "      <td>219.0</td>\n",
       "      <td>5.6431</td>\n",
       "      <td>341300.0</td>\n",
       "      <td>NEAR BAY</td>\n",
       "    </tr>\n",
       "    <tr>\n",
       "      <th>4</th>\n",
       "      <td>-122.25</td>\n",
       "      <td>37.85</td>\n",
       "      <td>52.0</td>\n",
       "      <td>1627.0</td>\n",
       "      <td>280.0</td>\n",
       "      <td>565.0</td>\n",
       "      <td>259.0</td>\n",
       "      <td>3.8462</td>\n",
       "      <td>342200.0</td>\n",
       "      <td>NEAR BAY</td>\n",
       "    </tr>\n",
       "  </tbody>\n",
       "</table>\n",
       "</div>"
      ],
      "text/plain": [
       "   longitude  latitude  housing_median_age  total_rooms  total_bedrooms  \\\n",
       "0    -122.23     37.88                41.0        880.0           129.0   \n",
       "1    -122.22     37.86                21.0       7099.0          1106.0   \n",
       "2    -122.24     37.85                52.0       1467.0           190.0   \n",
       "3    -122.25     37.85                52.0       1274.0           235.0   \n",
       "4    -122.25     37.85                52.0       1627.0           280.0   \n",
       "\n",
       "   population  households  median_income  median_house_value ocean_proximity  \n",
       "0       322.0       126.0         8.3252            452600.0        NEAR BAY  \n",
       "1      2401.0      1138.0         8.3014            358500.0        NEAR BAY  \n",
       "2       496.0       177.0         7.2574            352100.0        NEAR BAY  \n",
       "3       558.0       219.0         5.6431            341300.0        NEAR BAY  \n",
       "4       565.0       259.0         3.8462            342200.0        NEAR BAY  "
      ]
     },
     "execution_count": 198,
     "metadata": {},
     "output_type": "execute_result"
    }
   ],
   "source": [
    "housing.head()"
   ]
  },
  {
   "cell_type": "markdown",
   "id": "4ddc3465-7245-47d0-9e33-17f3f3f05d88",
   "metadata": {},
   "source": [
    "# Data Pipelines\n",
    "\n",
    "\n",
    "    it combines all transformations steps together in single block so it becomes easy to maintain and update the code"
   ]
  },
  {
   "cell_type": "code",
   "execution_count": 203,
   "id": "9f37c1e1-729b-473c-bc9b-6fb6d74fd6a6",
   "metadata": {},
   "outputs": [],
   "source": [
    "from sklearn.preprocessing import StandardScaler # scaling\n",
    "from sklearn.impute import SimpleImputer # missing values\n",
    "from sklearn.preprocessing import FunctionTransformer # for log\n",
    "from sklearn.pipeline import Pipeline, make_pipeline # "
   ]
  },
  {
   "cell_type": "code",
   "execution_count": 219,
   "id": "b6fcb084-6b84-423e-b88d-1f6236adceca",
   "metadata": {},
   "outputs": [],
   "source": [
    "num_pipeline = make_pipeline(\n",
    "    SimpleImputer(strategy=\"median\"),\n",
    "    #FunctionTransformer(np.log),\n",
    "    StandardScaler()\n",
    "    )"
   ]
  },
  {
   "cell_type": "code",
   "execution_count": 221,
   "id": "8e95f42a-7841-47d5-81b2-03b6b69c36a6",
   "metadata": {},
   "outputs": [
    {
     "data": {
      "text/html": [
       "<div>\n",
       "<style scoped>\n",
       "    .dataframe tbody tr th:only-of-type {\n",
       "        vertical-align: middle;\n",
       "    }\n",
       "\n",
       "    .dataframe tbody tr th {\n",
       "        vertical-align: top;\n",
       "    }\n",
       "\n",
       "    .dataframe thead th {\n",
       "        text-align: right;\n",
       "    }\n",
       "</style>\n",
       "<table border=\"1\" class=\"dataframe\">\n",
       "  <thead>\n",
       "    <tr style=\"text-align: right;\">\n",
       "      <th></th>\n",
       "      <th>longitude</th>\n",
       "      <th>latitude</th>\n",
       "      <th>housing_median_age</th>\n",
       "      <th>total_rooms</th>\n",
       "      <th>total_bedrooms</th>\n",
       "      <th>population</th>\n",
       "      <th>households</th>\n",
       "      <th>median_income</th>\n",
       "    </tr>\n",
       "  </thead>\n",
       "  <tbody>\n",
       "    <tr>\n",
       "      <th>9950</th>\n",
       "      <td>-122.33</td>\n",
       "      <td>38.38</td>\n",
       "      <td>28.0</td>\n",
       "      <td>1020.0</td>\n",
       "      <td>169.0</td>\n",
       "      <td>504.0</td>\n",
       "      <td>164.0</td>\n",
       "      <td>4.5694</td>\n",
       "    </tr>\n",
       "    <tr>\n",
       "      <th>3547</th>\n",
       "      <td>-118.60</td>\n",
       "      <td>34.26</td>\n",
       "      <td>18.0</td>\n",
       "      <td>6154.0</td>\n",
       "      <td>1070.0</td>\n",
       "      <td>3010.0</td>\n",
       "      <td>1034.0</td>\n",
       "      <td>5.6392</td>\n",
       "    </tr>\n",
       "    <tr>\n",
       "      <th>4448</th>\n",
       "      <td>-118.21</td>\n",
       "      <td>34.07</td>\n",
       "      <td>47.0</td>\n",
       "      <td>1346.0</td>\n",
       "      <td>383.0</td>\n",
       "      <td>1452.0</td>\n",
       "      <td>371.0</td>\n",
       "      <td>1.7292</td>\n",
       "    </tr>\n",
       "    <tr>\n",
       "      <th>6984</th>\n",
       "      <td>-118.02</td>\n",
       "      <td>33.96</td>\n",
       "      <td>36.0</td>\n",
       "      <td>2071.0</td>\n",
       "      <td>398.0</td>\n",
       "      <td>988.0</td>\n",
       "      <td>404.0</td>\n",
       "      <td>4.6226</td>\n",
       "    </tr>\n",
       "    <tr>\n",
       "      <th>4432</th>\n",
       "      <td>-118.20</td>\n",
       "      <td>34.08</td>\n",
       "      <td>49.0</td>\n",
       "      <td>1320.0</td>\n",
       "      <td>309.0</td>\n",
       "      <td>1405.0</td>\n",
       "      <td>328.0</td>\n",
       "      <td>2.4375</td>\n",
       "    </tr>\n",
       "  </tbody>\n",
       "</table>\n",
       "</div>"
      ],
      "text/plain": [
       "      longitude  latitude  housing_median_age  total_rooms  total_bedrooms  \\\n",
       "9950    -122.33     38.38                28.0       1020.0           169.0   \n",
       "3547    -118.60     34.26                18.0       6154.0          1070.0   \n",
       "4448    -118.21     34.07                47.0       1346.0           383.0   \n",
       "6984    -118.02     33.96                36.0       2071.0           398.0   \n",
       "4432    -118.20     34.08                49.0       1320.0           309.0   \n",
       "\n",
       "      population  households  median_income  \n",
       "9950       504.0       164.0         4.5694  \n",
       "3547      3010.0      1034.0         5.6392  \n",
       "4448      1452.0       371.0         1.7292  \n",
       "6984       988.0       404.0         4.6226  \n",
       "4432      1405.0       328.0         2.4375  "
      ]
     },
     "execution_count": 221,
     "metadata": {},
     "output_type": "execute_result"
    }
   ],
   "source": [
    "X_train_num.head()"
   ]
  },
  {
   "cell_type": "code",
   "execution_count": 231,
   "id": "ba20bd0b-c5d9-4ab2-a3f5-988c82ef03fe",
   "metadata": {},
   "outputs": [
    {
     "data": {
      "text/html": [
       "<div>\n",
       "<style scoped>\n",
       "    .dataframe tbody tr th:only-of-type {\n",
       "        vertical-align: middle;\n",
       "    }\n",
       "\n",
       "    .dataframe tbody tr th {\n",
       "        vertical-align: top;\n",
       "    }\n",
       "\n",
       "    .dataframe thead th {\n",
       "        text-align: right;\n",
       "    }\n",
       "</style>\n",
       "<table border=\"1\" class=\"dataframe\">\n",
       "  <thead>\n",
       "    <tr style=\"text-align: right;\">\n",
       "      <th></th>\n",
       "      <th>longitude</th>\n",
       "      <th>latitude</th>\n",
       "      <th>housing_median_age</th>\n",
       "      <th>total_rooms</th>\n",
       "      <th>total_bedrooms</th>\n",
       "      <th>population</th>\n",
       "      <th>households</th>\n",
       "      <th>median_income</th>\n",
       "    </tr>\n",
       "  </thead>\n",
       "  <tbody>\n",
       "    <tr>\n",
       "      <th>9950</th>\n",
       "      <td>-1.381195</td>\n",
       "      <td>1.289422</td>\n",
       "      <td>-0.045376</td>\n",
       "      <td>-0.737644</td>\n",
       "      <td>-0.872454</td>\n",
       "      <td>-0.822910</td>\n",
       "      <td>-0.873927</td>\n",
       "      <td>0.367714</td>\n",
       "    </tr>\n",
       "    <tr>\n",
       "      <th>3547</th>\n",
       "      <td>0.483377</td>\n",
       "      <td>-0.640792</td>\n",
       "      <td>-0.840169</td>\n",
       "      <td>1.587216</td>\n",
       "      <td>1.246544</td>\n",
       "      <td>1.394248</td>\n",
       "      <td>1.371062</td>\n",
       "      <td>0.930745</td>\n",
       "    </tr>\n",
       "    <tr>\n",
       "      <th>4448</th>\n",
       "      <td>0.678333</td>\n",
       "      <td>-0.729807</td>\n",
       "      <td>1.464730</td>\n",
       "      <td>-0.590019</td>\n",
       "      <td>-0.369162</td>\n",
       "      <td>0.015823</td>\n",
       "      <td>-0.339775</td>\n",
       "      <td>-1.127069</td>\n",
       "    </tr>\n",
       "    <tr>\n",
       "      <th>6984</th>\n",
       "      <td>0.773311</td>\n",
       "      <td>-0.781342</td>\n",
       "      <td>0.590458</td>\n",
       "      <td>-0.261713</td>\n",
       "      <td>-0.333885</td>\n",
       "      <td>-0.394696</td>\n",
       "      <td>-0.254620</td>\n",
       "      <td>0.395713</td>\n",
       "    </tr>\n",
       "    <tr>\n",
       "      <th>4432</th>\n",
       "      <td>0.683331</td>\n",
       "      <td>-0.725122</td>\n",
       "      <td>1.623688</td>\n",
       "      <td>-0.601793</td>\n",
       "      <td>-0.543198</td>\n",
       "      <td>-0.025760</td>\n",
       "      <td>-0.450734</td>\n",
       "      <td>-0.754294</td>\n",
       "    </tr>\n",
       "  </tbody>\n",
       "</table>\n",
       "</div>"
      ],
      "text/plain": [
       "      longitude  latitude  housing_median_age  total_rooms  total_bedrooms  \\\n",
       "9950  -1.381195  1.289422           -0.045376    -0.737644       -0.872454   \n",
       "3547   0.483377 -0.640792           -0.840169     1.587216        1.246544   \n",
       "4448   0.678333 -0.729807            1.464730    -0.590019       -0.369162   \n",
       "6984   0.773311 -0.781342            0.590458    -0.261713       -0.333885   \n",
       "4432   0.683331 -0.725122            1.623688    -0.601793       -0.543198   \n",
       "\n",
       "      population  households  median_income  \n",
       "9950   -0.822910   -0.873927       0.367714  \n",
       "3547    1.394248    1.371062       0.930745  \n",
       "4448    0.015823   -0.339775      -1.127069  \n",
       "6984   -0.394696   -0.254620       0.395713  \n",
       "4432   -0.025760   -0.450734      -0.754294  "
      ]
     },
     "execution_count": 231,
     "metadata": {},
     "output_type": "execute_result"
    }
   ],
   "source": [
    "X_train_num_tr = num_pipeline.fit_transform(X_train_num)\n",
    "X_train_num_tr = pd.DataFrame(X_train_num_tr, columns=X_train_num.columns, index=X_train_num.index)\n",
    "X_train_num_tr.head()"
   ]
  },
  {
   "cell_type": "code",
   "execution_count": 225,
   "id": "3a841861-51e2-4b9e-814b-28525b784c09",
   "metadata": {},
   "outputs": [
    {
     "data": {
      "text/plain": [
       "array([[-1.38119534,  1.28942183, -0.04537615, ..., -0.82291045,\n",
       "        -0.87392732,  0.36771424],\n",
       "       [ 0.48337727, -0.64079243, -0.84016868, ...,  1.3942476 ,\n",
       "         1.37106156,  0.93074485],\n",
       "       [ 0.67833258, -0.72980717,  1.46472968, ...,  0.01582292,\n",
       "        -0.33977479, -1.12706938],\n",
       "       ...,\n",
       "       [-1.09626065,  0.79749829, -1.87339898, ...,  0.88552219,\n",
       "         0.50145092,  0.92621871],\n",
       "       [-1.43618273,  1.00832267,  1.22629191, ..., -0.77248028,\n",
       "        -0.45589491,  0.00225486],\n",
       "       [ 0.24343227,  0.27277985, -0.68121018, ..., -0.17085718,\n",
       "        -0.39912507, -0.71319083]])"
      ]
     },
     "execution_count": 225,
     "metadata": {},
     "output_type": "execute_result"
    }
   ],
   "source": [
    "X_train_num_tr"
   ]
  },
  {
   "cell_type": "code",
   "execution_count": 233,
   "id": "a48492e4-54c0-4876-b3c1-e0ff73f7290c",
   "metadata": {},
   "outputs": [],
   "source": [
    "from sklearn.preprocessing import StandardScaler # scaling\n",
    "from sklearn.impute import SimpleImputer # missing values\n",
    "from sklearn.preprocessing import FunctionTransformer # for log\n",
    "from sklearn.pipeline import Pipeline, make_pipeline # "
   ]
  },
  {
   "cell_type": "code",
   "execution_count": 235,
   "id": "da134de7-263e-4ad8-86fa-ec5d5b4b9821",
   "metadata": {},
   "outputs": [],
   "source": [
    "num_pipeline = Pipeline([\n",
    "    (\"missing value imputer\", SimpleImputer(strategy=\"median\") ),\n",
    "    (\"scaling\", StandardScaler())\n",
    "    \n",
    "])"
   ]
  },
  {
   "cell_type": "code",
   "execution_count": 237,
   "id": "05613c9d-938c-4d0b-8614-a391382b7318",
   "metadata": {},
   "outputs": [
    {
     "data": {
      "text/html": [
       "<style>#sk-container-id-3 {color: black;background-color: white;}#sk-container-id-3 pre{padding: 0;}#sk-container-id-3 div.sk-toggleable {background-color: white;}#sk-container-id-3 label.sk-toggleable__label {cursor: pointer;display: block;width: 100%;margin-bottom: 0;padding: 0.3em;box-sizing: border-box;text-align: center;}#sk-container-id-3 label.sk-toggleable__label-arrow:before {content: \"▸\";float: left;margin-right: 0.25em;color: #696969;}#sk-container-id-3 label.sk-toggleable__label-arrow:hover:before {color: black;}#sk-container-id-3 div.sk-estimator:hover label.sk-toggleable__label-arrow:before {color: black;}#sk-container-id-3 div.sk-toggleable__content {max-height: 0;max-width: 0;overflow: hidden;text-align: left;background-color: #f0f8ff;}#sk-container-id-3 div.sk-toggleable__content pre {margin: 0.2em;color: black;border-radius: 0.25em;background-color: #f0f8ff;}#sk-container-id-3 input.sk-toggleable__control:checked~div.sk-toggleable__content {max-height: 200px;max-width: 100%;overflow: auto;}#sk-container-id-3 input.sk-toggleable__control:checked~label.sk-toggleable__label-arrow:before {content: \"▾\";}#sk-container-id-3 div.sk-estimator input.sk-toggleable__control:checked~label.sk-toggleable__label {background-color: #d4ebff;}#sk-container-id-3 div.sk-label input.sk-toggleable__control:checked~label.sk-toggleable__label {background-color: #d4ebff;}#sk-container-id-3 input.sk-hidden--visually {border: 0;clip: rect(1px 1px 1px 1px);clip: rect(1px, 1px, 1px, 1px);height: 1px;margin: -1px;overflow: hidden;padding: 0;position: absolute;width: 1px;}#sk-container-id-3 div.sk-estimator {font-family: monospace;background-color: #f0f8ff;border: 1px dotted black;border-radius: 0.25em;box-sizing: border-box;margin-bottom: 0.5em;}#sk-container-id-3 div.sk-estimator:hover {background-color: #d4ebff;}#sk-container-id-3 div.sk-parallel-item::after {content: \"\";width: 100%;border-bottom: 1px solid gray;flex-grow: 1;}#sk-container-id-3 div.sk-label:hover label.sk-toggleable__label {background-color: #d4ebff;}#sk-container-id-3 div.sk-serial::before {content: \"\";position: absolute;border-left: 1px solid gray;box-sizing: border-box;top: 0;bottom: 0;left: 50%;z-index: 0;}#sk-container-id-3 div.sk-serial {display: flex;flex-direction: column;align-items: center;background-color: white;padding-right: 0.2em;padding-left: 0.2em;position: relative;}#sk-container-id-3 div.sk-item {position: relative;z-index: 1;}#sk-container-id-3 div.sk-parallel {display: flex;align-items: stretch;justify-content: center;background-color: white;position: relative;}#sk-container-id-3 div.sk-item::before, #sk-container-id-3 div.sk-parallel-item::before {content: \"\";position: absolute;border-left: 1px solid gray;box-sizing: border-box;top: 0;bottom: 0;left: 50%;z-index: -1;}#sk-container-id-3 div.sk-parallel-item {display: flex;flex-direction: column;z-index: 1;position: relative;background-color: white;}#sk-container-id-3 div.sk-parallel-item:first-child::after {align-self: flex-end;width: 50%;}#sk-container-id-3 div.sk-parallel-item:last-child::after {align-self: flex-start;width: 50%;}#sk-container-id-3 div.sk-parallel-item:only-child::after {width: 0;}#sk-container-id-3 div.sk-dashed-wrapped {border: 1px dashed gray;margin: 0 0.4em 0.5em 0.4em;box-sizing: border-box;padding-bottom: 0.4em;background-color: white;}#sk-container-id-3 div.sk-label label {font-family: monospace;font-weight: bold;display: inline-block;line-height: 1.2em;}#sk-container-id-3 div.sk-label-container {text-align: center;}#sk-container-id-3 div.sk-container {/* jupyter's `normalize.less` sets `[hidden] { display: none; }` but bootstrap.min.css set `[hidden] { display: none !important; }` so we also need the `!important` here to be able to override the default hidden behavior on the sphinx rendered scikit-learn.org. See: https://github.com/scikit-learn/scikit-learn/issues/21755 */display: inline-block !important;position: relative;}#sk-container-id-3 div.sk-text-repr-fallback {display: none;}</style><div id=\"sk-container-id-3\" class=\"sk-top-container\"><div class=\"sk-text-repr-fallback\"><pre>Pipeline(steps=[(&#x27;missing value imputer&#x27;, SimpleImputer(strategy=&#x27;median&#x27;)),\n",
       "                (&#x27;scaling&#x27;, StandardScaler())])</pre><b>In a Jupyter environment, please rerun this cell to show the HTML representation or trust the notebook. <br />On GitHub, the HTML representation is unable to render, please try loading this page with nbviewer.org.</b></div><div class=\"sk-container\" hidden><div class=\"sk-item sk-dashed-wrapped\"><div class=\"sk-label-container\"><div class=\"sk-label sk-toggleable\"><input class=\"sk-toggleable__control sk-hidden--visually\" id=\"sk-estimator-id-3\" type=\"checkbox\" ><label for=\"sk-estimator-id-3\" class=\"sk-toggleable__label sk-toggleable__label-arrow\">Pipeline</label><div class=\"sk-toggleable__content\"><pre>Pipeline(steps=[(&#x27;missing value imputer&#x27;, SimpleImputer(strategy=&#x27;median&#x27;)),\n",
       "                (&#x27;scaling&#x27;, StandardScaler())])</pre></div></div></div><div class=\"sk-serial\"><div class=\"sk-item\"><div class=\"sk-estimator sk-toggleable\"><input class=\"sk-toggleable__control sk-hidden--visually\" id=\"sk-estimator-id-4\" type=\"checkbox\" ><label for=\"sk-estimator-id-4\" class=\"sk-toggleable__label sk-toggleable__label-arrow\">SimpleImputer</label><div class=\"sk-toggleable__content\"><pre>SimpleImputer(strategy=&#x27;median&#x27;)</pre></div></div></div><div class=\"sk-item\"><div class=\"sk-estimator sk-toggleable\"><input class=\"sk-toggleable__control sk-hidden--visually\" id=\"sk-estimator-id-5\" type=\"checkbox\" ><label for=\"sk-estimator-id-5\" class=\"sk-toggleable__label sk-toggleable__label-arrow\">StandardScaler</label><div class=\"sk-toggleable__content\"><pre>StandardScaler()</pre></div></div></div></div></div></div></div>"
      ],
      "text/plain": [
       "Pipeline(steps=[('missing value imputer', SimpleImputer(strategy='median')),\n",
       "                ('scaling', StandardScaler())])"
      ]
     },
     "execution_count": 237,
     "metadata": {},
     "output_type": "execute_result"
    }
   ],
   "source": [
    "num_pipeline.fit(X_train_num)"
   ]
  },
  {
   "cell_type": "code",
   "execution_count": 239,
   "id": "f644445c-0c06-44f6-b36e-aef9f9c8e7b5",
   "metadata": {},
   "outputs": [
    {
     "data": {
      "text/plain": [
       "array(['longitude', 'latitude', 'housing_median_age', 'total_rooms',\n",
       "       'total_bedrooms', 'population', 'households', 'median_income'],\n",
       "      dtype=object)"
      ]
     },
     "execution_count": 239,
     "metadata": {},
     "output_type": "execute_result"
    }
   ],
   "source": [
    "num_pipeline.feature_names_in_"
   ]
  },
  {
   "cell_type": "code",
   "execution_count": 241,
   "id": "7a985d64-90be-41e0-861e-3eb1e8f8d9db",
   "metadata": {},
   "outputs": [
    {
     "data": {
      "text/plain": [
       "array(['longitude', 'latitude', 'housing_median_age', 'total_rooms',\n",
       "       'total_bedrooms', 'population', 'households', 'median_income'],\n",
       "      dtype=object)"
      ]
     },
     "execution_count": 241,
     "metadata": {},
     "output_type": "execute_result"
    }
   ],
   "source": [
    "num_pipeline.get_feature_names_out()"
   ]
  },
  {
   "cell_type": "code",
   "execution_count": 247,
   "id": "007be8dc-aaa7-4ac9-8936-2d808309acd2",
   "metadata": {},
   "outputs": [
    {
     "data": {
      "text/plain": [
       "{'missing value imputer': SimpleImputer(strategy='median'),\n",
       " 'scaling': StandardScaler()}"
      ]
     },
     "execution_count": 247,
     "metadata": {},
     "output_type": "execute_result"
    }
   ],
   "source": [
    "num_pipeline.named_steps"
   ]
  },
  {
   "cell_type": "code",
   "execution_count": 251,
   "id": "161f1038-8ea8-4315-9905-82822fa539c5",
   "metadata": {},
   "outputs": [
    {
     "data": {
      "text/html": [
       "<style>#sk-container-id-5 {color: black;background-color: white;}#sk-container-id-5 pre{padding: 0;}#sk-container-id-5 div.sk-toggleable {background-color: white;}#sk-container-id-5 label.sk-toggleable__label {cursor: pointer;display: block;width: 100%;margin-bottom: 0;padding: 0.3em;box-sizing: border-box;text-align: center;}#sk-container-id-5 label.sk-toggleable__label-arrow:before {content: \"▸\";float: left;margin-right: 0.25em;color: #696969;}#sk-container-id-5 label.sk-toggleable__label-arrow:hover:before {color: black;}#sk-container-id-5 div.sk-estimator:hover label.sk-toggleable__label-arrow:before {color: black;}#sk-container-id-5 div.sk-toggleable__content {max-height: 0;max-width: 0;overflow: hidden;text-align: left;background-color: #f0f8ff;}#sk-container-id-5 div.sk-toggleable__content pre {margin: 0.2em;color: black;border-radius: 0.25em;background-color: #f0f8ff;}#sk-container-id-5 input.sk-toggleable__control:checked~div.sk-toggleable__content {max-height: 200px;max-width: 100%;overflow: auto;}#sk-container-id-5 input.sk-toggleable__control:checked~label.sk-toggleable__label-arrow:before {content: \"▾\";}#sk-container-id-5 div.sk-estimator input.sk-toggleable__control:checked~label.sk-toggleable__label {background-color: #d4ebff;}#sk-container-id-5 div.sk-label input.sk-toggleable__control:checked~label.sk-toggleable__label {background-color: #d4ebff;}#sk-container-id-5 input.sk-hidden--visually {border: 0;clip: rect(1px 1px 1px 1px);clip: rect(1px, 1px, 1px, 1px);height: 1px;margin: -1px;overflow: hidden;padding: 0;position: absolute;width: 1px;}#sk-container-id-5 div.sk-estimator {font-family: monospace;background-color: #f0f8ff;border: 1px dotted black;border-radius: 0.25em;box-sizing: border-box;margin-bottom: 0.5em;}#sk-container-id-5 div.sk-estimator:hover {background-color: #d4ebff;}#sk-container-id-5 div.sk-parallel-item::after {content: \"\";width: 100%;border-bottom: 1px solid gray;flex-grow: 1;}#sk-container-id-5 div.sk-label:hover label.sk-toggleable__label {background-color: #d4ebff;}#sk-container-id-5 div.sk-serial::before {content: \"\";position: absolute;border-left: 1px solid gray;box-sizing: border-box;top: 0;bottom: 0;left: 50%;z-index: 0;}#sk-container-id-5 div.sk-serial {display: flex;flex-direction: column;align-items: center;background-color: white;padding-right: 0.2em;padding-left: 0.2em;position: relative;}#sk-container-id-5 div.sk-item {position: relative;z-index: 1;}#sk-container-id-5 div.sk-parallel {display: flex;align-items: stretch;justify-content: center;background-color: white;position: relative;}#sk-container-id-5 div.sk-item::before, #sk-container-id-5 div.sk-parallel-item::before {content: \"\";position: absolute;border-left: 1px solid gray;box-sizing: border-box;top: 0;bottom: 0;left: 50%;z-index: -1;}#sk-container-id-5 div.sk-parallel-item {display: flex;flex-direction: column;z-index: 1;position: relative;background-color: white;}#sk-container-id-5 div.sk-parallel-item:first-child::after {align-self: flex-end;width: 50%;}#sk-container-id-5 div.sk-parallel-item:last-child::after {align-self: flex-start;width: 50%;}#sk-container-id-5 div.sk-parallel-item:only-child::after {width: 0;}#sk-container-id-5 div.sk-dashed-wrapped {border: 1px dashed gray;margin: 0 0.4em 0.5em 0.4em;box-sizing: border-box;padding-bottom: 0.4em;background-color: white;}#sk-container-id-5 div.sk-label label {font-family: monospace;font-weight: bold;display: inline-block;line-height: 1.2em;}#sk-container-id-5 div.sk-label-container {text-align: center;}#sk-container-id-5 div.sk-container {/* jupyter's `normalize.less` sets `[hidden] { display: none; }` but bootstrap.min.css set `[hidden] { display: none !important; }` so we also need the `!important` here to be able to override the default hidden behavior on the sphinx rendered scikit-learn.org. See: https://github.com/scikit-learn/scikit-learn/issues/21755 */display: inline-block !important;position: relative;}#sk-container-id-5 div.sk-text-repr-fallback {display: none;}</style><div id=\"sk-container-id-5\" class=\"sk-top-container\"><div class=\"sk-text-repr-fallback\"><pre>SimpleImputer(strategy=&#x27;median&#x27;)</pre><b>In a Jupyter environment, please rerun this cell to show the HTML representation or trust the notebook. <br />On GitHub, the HTML representation is unable to render, please try loading this page with nbviewer.org.</b></div><div class=\"sk-container\" hidden><div class=\"sk-item\"><div class=\"sk-estimator sk-toggleable\"><input class=\"sk-toggleable__control sk-hidden--visually\" id=\"sk-estimator-id-9\" type=\"checkbox\" checked><label for=\"sk-estimator-id-9\" class=\"sk-toggleable__label sk-toggleable__label-arrow\">SimpleImputer</label><div class=\"sk-toggleable__content\"><pre>SimpleImputer(strategy=&#x27;median&#x27;)</pre></div></div></div></div></div>"
      ],
      "text/plain": [
       "SimpleImputer(strategy='median')"
      ]
     },
     "execution_count": 251,
     "metadata": {},
     "output_type": "execute_result"
    }
   ],
   "source": [
    "(num_pipeline.named_steps[\"missing value imputer\"])"
   ]
  },
  {
   "cell_type": "code",
   "execution_count": 253,
   "id": "00de47fd-8a5e-4ab1-8bd1-aa6c4441a338",
   "metadata": {},
   "outputs": [
    {
     "data": {
      "text/plain": [
       "array([-118.49  ,   34.25  ,   29.    , 2138.5   ,  438.    , 1170.    ,\n",
       "        412.    ,    3.5294])"
      ]
     },
     "execution_count": 253,
     "metadata": {},
     "output_type": "execute_result"
    }
   ],
   "source": [
    "(num_pipeline.named_steps[\"missing value imputer\"]).statistics_"
   ]
  },
  {
   "cell_type": "markdown",
   "id": "40ee65ef-e7ec-4dcd-9da0-763a4bdf87c5",
   "metadata": {},
   "source": [
    "# Column Transformer Pipeline "
   ]
  },
  {
   "cell_type": "code",
   "execution_count": 292,
   "id": "df9adefb-8d8f-489c-a7e7-b3972f97944d",
   "metadata": {},
   "outputs": [],
   "source": [
    "from sklearn.compose import ColumnTransformer, make_column_transformer, make_column_selector\n",
    "from sklearn.pipeline import make_pipeline, Pipeline\n",
    "from sklearn.preprocessing import OneHotEncoder, StandardScaler\n",
    "from sklearn.impute import SimpleImputer\n",
    "from sklearn.preprocessing import FunctionTransformer"
   ]
  },
  {
   "cell_type": "code",
   "execution_count": 260,
   "id": "5793da5a-f148-4ece-9770-1cff7c60b010",
   "metadata": {},
   "outputs": [
    {
     "name": "stdout",
     "output_type": "stream",
     "text": [
      "['longitude', 'latitude', 'housing_median_age', 'total_rooms', 'total_bedrooms', 'population', 'households', 'median_income']\n",
      "['ocean_proximity']\n"
     ]
    }
   ],
   "source": [
    "print(num_features)\n",
    "print(cat_features)"
   ]
  },
  {
   "cell_type": "code",
   "execution_count": 262,
   "id": "3d7866be-8e7c-4c85-a7d8-a80e3c45d4e5",
   "metadata": {},
   "outputs": [],
   "source": [
    "cat_pipeline = make_pipeline(\n",
    "    SimpleImputer(strategy=\"most_frequent\"),\n",
    "    OneHotEncoder(handle_unknown=\"ignore\")\n",
    ")\n",
    "\n",
    "num_pipeline = make_pipeline(\n",
    "    SimpleImputer(strategy=\"median\"),\n",
    "    StandardScaler()\n",
    ")\n",
    "\n",
    "\n",
    "preprocessing_pipeline = ColumnTransformer([\n",
    "    (\"numerical\", num_pipeline, num_features),\n",
    "    (\"categorical\", cat_pipeline, cat_features)\n",
    "    # (step_name, Transformer/Pipeline, feature name)\n",
    "])"
   ]
  },
  {
   "cell_type": "code",
   "execution_count": 264,
   "id": "b29d95e0-13a8-4d93-9cce-238e8acf9296",
   "metadata": {},
   "outputs": [],
   "source": [
    "X_train_tr = preprocessing_pipeline.fit_transform(X_train)"
   ]
  },
  {
   "cell_type": "code",
   "execution_count": 280,
   "id": "13aa0492-3554-4549-8918-6fb57e01f531",
   "metadata": {},
   "outputs": [],
   "source": [
    "cols = [ value.split(\"__\")[1] for value in preprocessing_pipeline.get_feature_names_out()]\n",
    "X_train_tr = pd.DataFrame(X_train_tr, columns=cols, index=X_train.index)"
   ]
  },
  {
   "cell_type": "code",
   "execution_count": 282,
   "id": "ba695096-9c06-4c8d-a249-af58b78d78fe",
   "metadata": {},
   "outputs": [
    {
     "data": {
      "text/html": [
       "<div>\n",
       "<style scoped>\n",
       "    .dataframe tbody tr th:only-of-type {\n",
       "        vertical-align: middle;\n",
       "    }\n",
       "\n",
       "    .dataframe tbody tr th {\n",
       "        vertical-align: top;\n",
       "    }\n",
       "\n",
       "    .dataframe thead th {\n",
       "        text-align: right;\n",
       "    }\n",
       "</style>\n",
       "<table border=\"1\" class=\"dataframe\">\n",
       "  <thead>\n",
       "    <tr style=\"text-align: right;\">\n",
       "      <th></th>\n",
       "      <th>longitude</th>\n",
       "      <th>latitude</th>\n",
       "      <th>housing_median_age</th>\n",
       "      <th>total_rooms</th>\n",
       "      <th>total_bedrooms</th>\n",
       "      <th>population</th>\n",
       "      <th>households</th>\n",
       "      <th>median_income</th>\n",
       "      <th>ocean_proximity_&lt;1H OCEAN</th>\n",
       "      <th>ocean_proximity_INLAND</th>\n",
       "      <th>ocean_proximity_ISLAND</th>\n",
       "      <th>ocean_proximity_NEAR BAY</th>\n",
       "      <th>ocean_proximity_NEAR OCEAN</th>\n",
       "    </tr>\n",
       "  </thead>\n",
       "  <tbody>\n",
       "    <tr>\n",
       "      <th>9950</th>\n",
       "      <td>-1.381195</td>\n",
       "      <td>1.289422</td>\n",
       "      <td>-0.045376</td>\n",
       "      <td>-0.737644</td>\n",
       "      <td>-0.872454</td>\n",
       "      <td>-0.822910</td>\n",
       "      <td>-0.873927</td>\n",
       "      <td>0.367714</td>\n",
       "      <td>0.0</td>\n",
       "      <td>1.0</td>\n",
       "      <td>0.0</td>\n",
       "      <td>0.0</td>\n",
       "      <td>0.0</td>\n",
       "    </tr>\n",
       "    <tr>\n",
       "      <th>3547</th>\n",
       "      <td>0.483377</td>\n",
       "      <td>-0.640792</td>\n",
       "      <td>-0.840169</td>\n",
       "      <td>1.587216</td>\n",
       "      <td>1.246544</td>\n",
       "      <td>1.394248</td>\n",
       "      <td>1.371062</td>\n",
       "      <td>0.930745</td>\n",
       "      <td>1.0</td>\n",
       "      <td>0.0</td>\n",
       "      <td>0.0</td>\n",
       "      <td>0.0</td>\n",
       "      <td>0.0</td>\n",
       "    </tr>\n",
       "    <tr>\n",
       "      <th>4448</th>\n",
       "      <td>0.678333</td>\n",
       "      <td>-0.729807</td>\n",
       "      <td>1.464730</td>\n",
       "      <td>-0.590019</td>\n",
       "      <td>-0.369162</td>\n",
       "      <td>0.015823</td>\n",
       "      <td>-0.339775</td>\n",
       "      <td>-1.127069</td>\n",
       "      <td>1.0</td>\n",
       "      <td>0.0</td>\n",
       "      <td>0.0</td>\n",
       "      <td>0.0</td>\n",
       "      <td>0.0</td>\n",
       "    </tr>\n",
       "    <tr>\n",
       "      <th>6984</th>\n",
       "      <td>0.773311</td>\n",
       "      <td>-0.781342</td>\n",
       "      <td>0.590458</td>\n",
       "      <td>-0.261713</td>\n",
       "      <td>-0.333885</td>\n",
       "      <td>-0.394696</td>\n",
       "      <td>-0.254620</td>\n",
       "      <td>0.395713</td>\n",
       "      <td>1.0</td>\n",
       "      <td>0.0</td>\n",
       "      <td>0.0</td>\n",
       "      <td>0.0</td>\n",
       "      <td>0.0</td>\n",
       "    </tr>\n",
       "    <tr>\n",
       "      <th>4432</th>\n",
       "      <td>0.683331</td>\n",
       "      <td>-0.725122</td>\n",
       "      <td>1.623688</td>\n",
       "      <td>-0.601793</td>\n",
       "      <td>-0.543198</td>\n",
       "      <td>-0.025760</td>\n",
       "      <td>-0.450734</td>\n",
       "      <td>-0.754294</td>\n",
       "      <td>1.0</td>\n",
       "      <td>0.0</td>\n",
       "      <td>0.0</td>\n",
       "      <td>0.0</td>\n",
       "      <td>0.0</td>\n",
       "    </tr>\n",
       "  </tbody>\n",
       "</table>\n",
       "</div>"
      ],
      "text/plain": [
       "      longitude  latitude  housing_median_age  total_rooms  total_bedrooms  \\\n",
       "9950  -1.381195  1.289422           -0.045376    -0.737644       -0.872454   \n",
       "3547   0.483377 -0.640792           -0.840169     1.587216        1.246544   \n",
       "4448   0.678333 -0.729807            1.464730    -0.590019       -0.369162   \n",
       "6984   0.773311 -0.781342            0.590458    -0.261713       -0.333885   \n",
       "4432   0.683331 -0.725122            1.623688    -0.601793       -0.543198   \n",
       "\n",
       "      population  households  median_income  ocean_proximity_<1H OCEAN  \\\n",
       "9950   -0.822910   -0.873927       0.367714                        0.0   \n",
       "3547    1.394248    1.371062       0.930745                        1.0   \n",
       "4448    0.015823   -0.339775      -1.127069                        1.0   \n",
       "6984   -0.394696   -0.254620       0.395713                        1.0   \n",
       "4432   -0.025760   -0.450734      -0.754294                        1.0   \n",
       "\n",
       "      ocean_proximity_INLAND  ocean_proximity_ISLAND  \\\n",
       "9950                     1.0                     0.0   \n",
       "3547                     0.0                     0.0   \n",
       "4448                     0.0                     0.0   \n",
       "6984                     0.0                     0.0   \n",
       "4432                     0.0                     0.0   \n",
       "\n",
       "      ocean_proximity_NEAR BAY  ocean_proximity_NEAR OCEAN  \n",
       "9950                       0.0                         0.0  \n",
       "3547                       0.0                         0.0  \n",
       "4448                       0.0                         0.0  \n",
       "6984                       0.0                         0.0  \n",
       "4432                       0.0                         0.0  "
      ]
     },
     "execution_count": 282,
     "metadata": {},
     "output_type": "execute_result"
    }
   ],
   "source": [
    "X_train_tr.head()"
   ]
  },
  {
   "cell_type": "code",
   "execution_count": 288,
   "id": "6ed00c79-56e3-4848-9329-ea3b69baae43",
   "metadata": {},
   "outputs": [
    {
     "data": {
      "text/html": [
       "<div>\n",
       "<style scoped>\n",
       "    .dataframe tbody tr th:only-of-type {\n",
       "        vertical-align: middle;\n",
       "    }\n",
       "\n",
       "    .dataframe tbody tr th {\n",
       "        vertical-align: top;\n",
       "    }\n",
       "\n",
       "    .dataframe thead th {\n",
       "        text-align: right;\n",
       "    }\n",
       "</style>\n",
       "<table border=\"1\" class=\"dataframe\">\n",
       "  <thead>\n",
       "    <tr style=\"text-align: right;\">\n",
       "      <th></th>\n",
       "      <th>0</th>\n",
       "      <th>1</th>\n",
       "      <th>2</th>\n",
       "      <th>3</th>\n",
       "      <th>4</th>\n",
       "      <th>5</th>\n",
       "      <th>6</th>\n",
       "      <th>7</th>\n",
       "      <th>8</th>\n",
       "      <th>9</th>\n",
       "      <th>10</th>\n",
       "      <th>11</th>\n",
       "      <th>12</th>\n",
       "    </tr>\n",
       "  </thead>\n",
       "  <tbody>\n",
       "    <tr>\n",
       "      <th>index</th>\n",
       "      <td>longitude</td>\n",
       "      <td>latitude</td>\n",
       "      <td>housing_median_age</td>\n",
       "      <td>total_rooms</td>\n",
       "      <td>total_bedrooms</td>\n",
       "      <td>population</td>\n",
       "      <td>households</td>\n",
       "      <td>median_income</td>\n",
       "      <td>ocean_proximity_&lt;1H OCEAN</td>\n",
       "      <td>ocean_proximity_INLAND</td>\n",
       "      <td>ocean_proximity_ISLAND</td>\n",
       "      <td>ocean_proximity_NEAR BAY</td>\n",
       "      <td>ocean_proximity_NEAR OCEAN</td>\n",
       "    </tr>\n",
       "    <tr>\n",
       "      <th>0</th>\n",
       "      <td>0</td>\n",
       "      <td>0</td>\n",
       "      <td>0</td>\n",
       "      <td>0</td>\n",
       "      <td>0</td>\n",
       "      <td>0</td>\n",
       "      <td>0</td>\n",
       "      <td>0</td>\n",
       "      <td>0</td>\n",
       "      <td>0</td>\n",
       "      <td>0</td>\n",
       "      <td>0</td>\n",
       "      <td>0</td>\n",
       "    </tr>\n",
       "  </tbody>\n",
       "</table>\n",
       "</div>"
      ],
      "text/plain": [
       "              0         1                   2            3               4   \\\n",
       "index  longitude  latitude  housing_median_age  total_rooms  total_bedrooms   \n",
       "0              0         0                   0            0               0   \n",
       "\n",
       "               5           6              7                          8   \\\n",
       "index  population  households  median_income  ocean_proximity_<1H OCEAN   \n",
       "0               0           0              0                          0   \n",
       "\n",
       "                           9                       10  \\\n",
       "index  ocean_proximity_INLAND  ocean_proximity_ISLAND   \n",
       "0                           0                       0   \n",
       "\n",
       "                             11                          12  \n",
       "index  ocean_proximity_NEAR BAY  ocean_proximity_NEAR OCEAN  \n",
       "0                             0                           0  "
      ]
     },
     "execution_count": 288,
     "metadata": {},
     "output_type": "execute_result"
    }
   ],
   "source": [
    "X_train_tr.isna().sum().reset_index().T"
   ]
  },
  {
   "cell_type": "code",
   "execution_count": null,
   "id": "99b847c9-6139-4e95-bda3-5b04a33867ba",
   "metadata": {},
   "outputs": [],
   "source": [
    "from sklearn.compose import ColumnTransformer, make_column_transformer, make_column_selector\n",
    "from sklearn.pipeline import make_pipeline, Pipeline\n",
    "from sklearn.preprocessing import OneHotEncoder, StandardScaler\n",
    "from sklearn.impute import SimpleImputer\n",
    "from sklearn.preprocessing import FunctionTransformer"
   ]
  },
  {
   "cell_type": "code",
   "execution_count": 381,
   "id": "2ce905d2-ed2d-45df-b22e-30ac21965379",
   "metadata": {},
   "outputs": [
    {
     "data": {
      "text/plain": [
       "Index(['longitude', 'latitude', 'housing_median_age', 'total_rooms',\n",
       "       'total_bedrooms', 'population', 'households', 'median_income',\n",
       "       'ocean_proximity'],\n",
       "      dtype='object')"
      ]
     },
     "execution_count": 381,
     "metadata": {},
     "output_type": "execute_result"
    }
   ],
   "source": [
    "X_train.columns"
   ]
  },
  {
   "cell_type": "code",
   "execution_count": 326,
   "id": "abe025c0-7461-4021-8190-0e2ad9c14d01",
   "metadata": {},
   "outputs": [],
   "source": [
    "cat_pipeline = make_pipeline(\n",
    "    SimpleImputer(strategy=\"most_frequent\"),\n",
    "    OneHotEncoder(handle_unknown=\"ignore\")\n",
    ")\n",
    "\n",
    "num_pipeline = make_pipeline(\n",
    "    SimpleImputer(strategy=\"median\"),\n",
    "    StandardScaler()\n",
    ")\n",
    "\n",
    "new_feature_pipeline = FunctionTransformer(get_rooms_per_household)\n",
    "\n",
    "pipeline = make_column_transformer(\n",
    "    (num_pipeline, make_column_selector(dtype_include=np.number)),\n",
    "    (cat_pipeline, make_column_selector(dtype_include=pd.CategoricalDtype))\n",
    ")"
   ]
  },
  {
   "cell_type": "code",
   "execution_count": 328,
   "id": "d1fae38e-095c-4be2-89a0-487a627e68cb",
   "metadata": {},
   "outputs": [
    {
     "name": "stderr",
     "output_type": "stream",
     "text": [
      "/opt/anaconda3/lib/python3.11/site-packages/sklearn/compose/_column_transformer.py:1118: UserWarning: Instantiating CategoricalDtype without any arguments.Pass a CategoricalDtype instance to silence this warning.\n",
      "  df_row = df_row.select_dtypes(\n"
     ]
    }
   ],
   "source": [
    "X_train_tr = pipeline.fit_transform(X_train)"
   ]
  },
  {
   "cell_type": "code",
   "execution_count": 344,
   "id": "7a23e436-601c-4d6b-86c4-34940921dd33",
   "metadata": {},
   "outputs": [
    {
     "data": {
      "text/plain": [
       "['longitude',\n",
       " 'latitude',\n",
       " 'housing_median_age',\n",
       " 'total_rooms',\n",
       " 'total_bedrooms',\n",
       " 'population',\n",
       " 'households',\n",
       " 'median_income',\n",
       " '<1H OCEAN',\n",
       " 'INLAND',\n",
       " 'ISLAND',\n",
       " 'NEAR BAY',\n",
       " 'NEAR OCEAN']"
      ]
     },
     "execution_count": 344,
     "metadata": {},
     "output_type": "execute_result"
    }
   ],
   "source": [
    "fnames = pipeline.get_feature_names_out()\n",
    "cols = [name.split(\"__\")[1] for name in fnames]\n",
    "cols = [ (name.split(\"_\")[2] if \"ocean\" in name else name) for name in cols]\n",
    "cols"
   ]
  },
  {
   "cell_type": "code",
   "execution_count": 346,
   "id": "32389a1c-136b-440f-b45e-65f7376ec94c",
   "metadata": {},
   "outputs": [],
   "source": [
    "X_train_tr = pd.DataFrame(X_train_tr, columns=cols, index=X_train.index)"
   ]
  },
  {
   "cell_type": "code",
   "execution_count": 348,
   "id": "40745b21-688b-4122-b359-df753d5551bd",
   "metadata": {},
   "outputs": [
    {
     "data": {
      "text/html": [
       "<div>\n",
       "<style scoped>\n",
       "    .dataframe tbody tr th:only-of-type {\n",
       "        vertical-align: middle;\n",
       "    }\n",
       "\n",
       "    .dataframe tbody tr th {\n",
       "        vertical-align: top;\n",
       "    }\n",
       "\n",
       "    .dataframe thead th {\n",
       "        text-align: right;\n",
       "    }\n",
       "</style>\n",
       "<table border=\"1\" class=\"dataframe\">\n",
       "  <thead>\n",
       "    <tr style=\"text-align: right;\">\n",
       "      <th></th>\n",
       "      <th>longitude</th>\n",
       "      <th>latitude</th>\n",
       "      <th>housing_median_age</th>\n",
       "      <th>total_rooms</th>\n",
       "      <th>total_bedrooms</th>\n",
       "      <th>population</th>\n",
       "      <th>households</th>\n",
       "      <th>median_income</th>\n",
       "      <th>&lt;1H OCEAN</th>\n",
       "      <th>INLAND</th>\n",
       "      <th>ISLAND</th>\n",
       "      <th>NEAR BAY</th>\n",
       "      <th>NEAR OCEAN</th>\n",
       "    </tr>\n",
       "  </thead>\n",
       "  <tbody>\n",
       "    <tr>\n",
       "      <th>9950</th>\n",
       "      <td>-1.381195</td>\n",
       "      <td>1.289422</td>\n",
       "      <td>-0.045376</td>\n",
       "      <td>-0.737644</td>\n",
       "      <td>-0.872454</td>\n",
       "      <td>-0.822910</td>\n",
       "      <td>-0.873927</td>\n",
       "      <td>0.367714</td>\n",
       "      <td>0.0</td>\n",
       "      <td>1.0</td>\n",
       "      <td>0.0</td>\n",
       "      <td>0.0</td>\n",
       "      <td>0.0</td>\n",
       "    </tr>\n",
       "    <tr>\n",
       "      <th>3547</th>\n",
       "      <td>0.483377</td>\n",
       "      <td>-0.640792</td>\n",
       "      <td>-0.840169</td>\n",
       "      <td>1.587216</td>\n",
       "      <td>1.246544</td>\n",
       "      <td>1.394248</td>\n",
       "      <td>1.371062</td>\n",
       "      <td>0.930745</td>\n",
       "      <td>1.0</td>\n",
       "      <td>0.0</td>\n",
       "      <td>0.0</td>\n",
       "      <td>0.0</td>\n",
       "      <td>0.0</td>\n",
       "    </tr>\n",
       "    <tr>\n",
       "      <th>4448</th>\n",
       "      <td>0.678333</td>\n",
       "      <td>-0.729807</td>\n",
       "      <td>1.464730</td>\n",
       "      <td>-0.590019</td>\n",
       "      <td>-0.369162</td>\n",
       "      <td>0.015823</td>\n",
       "      <td>-0.339775</td>\n",
       "      <td>-1.127069</td>\n",
       "      <td>1.0</td>\n",
       "      <td>0.0</td>\n",
       "      <td>0.0</td>\n",
       "      <td>0.0</td>\n",
       "      <td>0.0</td>\n",
       "    </tr>\n",
       "    <tr>\n",
       "      <th>6984</th>\n",
       "      <td>0.773311</td>\n",
       "      <td>-0.781342</td>\n",
       "      <td>0.590458</td>\n",
       "      <td>-0.261713</td>\n",
       "      <td>-0.333885</td>\n",
       "      <td>-0.394696</td>\n",
       "      <td>-0.254620</td>\n",
       "      <td>0.395713</td>\n",
       "      <td>1.0</td>\n",
       "      <td>0.0</td>\n",
       "      <td>0.0</td>\n",
       "      <td>0.0</td>\n",
       "      <td>0.0</td>\n",
       "    </tr>\n",
       "    <tr>\n",
       "      <th>4432</th>\n",
       "      <td>0.683331</td>\n",
       "      <td>-0.725122</td>\n",
       "      <td>1.623688</td>\n",
       "      <td>-0.601793</td>\n",
       "      <td>-0.543198</td>\n",
       "      <td>-0.025760</td>\n",
       "      <td>-0.450734</td>\n",
       "      <td>-0.754294</td>\n",
       "      <td>1.0</td>\n",
       "      <td>0.0</td>\n",
       "      <td>0.0</td>\n",
       "      <td>0.0</td>\n",
       "      <td>0.0</td>\n",
       "    </tr>\n",
       "  </tbody>\n",
       "</table>\n",
       "</div>"
      ],
      "text/plain": [
       "      longitude  latitude  housing_median_age  total_rooms  total_bedrooms  \\\n",
       "9950  -1.381195  1.289422           -0.045376    -0.737644       -0.872454   \n",
       "3547   0.483377 -0.640792           -0.840169     1.587216        1.246544   \n",
       "4448   0.678333 -0.729807            1.464730    -0.590019       -0.369162   \n",
       "6984   0.773311 -0.781342            0.590458    -0.261713       -0.333885   \n",
       "4432   0.683331 -0.725122            1.623688    -0.601793       -0.543198   \n",
       "\n",
       "      population  households  median_income  <1H OCEAN  INLAND  ISLAND  \\\n",
       "9950   -0.822910   -0.873927       0.367714        0.0     1.0     0.0   \n",
       "3547    1.394248    1.371062       0.930745        1.0     0.0     0.0   \n",
       "4448    0.015823   -0.339775      -1.127069        1.0     0.0     0.0   \n",
       "6984   -0.394696   -0.254620       0.395713        1.0     0.0     0.0   \n",
       "4432   -0.025760   -0.450734      -0.754294        1.0     0.0     0.0   \n",
       "\n",
       "      NEAR BAY  NEAR OCEAN  \n",
       "9950       0.0         0.0  \n",
       "3547       0.0         0.0  \n",
       "4448       0.0         0.0  \n",
       "6984       0.0         0.0  \n",
       "4432       0.0         0.0  "
      ]
     },
     "execution_count": 348,
     "metadata": {},
     "output_type": "execute_result"
    }
   ],
   "source": [
    "X_train_tr.head()"
   ]
  },
  {
   "cell_type": "markdown",
   "id": "94ad8af9-675e-48b1-8a0f-be2776df764c",
   "metadata": {},
   "source": [
    "# Model Selection and Training"
   ]
  },
  {
   "cell_type": "code",
   "execution_count": 351,
   "id": "a1da9959-2422-4bb7-a998-8d44c12b1af4",
   "metadata": {},
   "outputs": [],
   "source": [
    "from sklearn.linear_model import LinearRegression"
   ]
  },
  {
   "cell_type": "code",
   "execution_count": 357,
   "id": "33ab4ca2-9734-492c-ab11-e1aee24a25fb",
   "metadata": {},
   "outputs": [
    {
     "data": {
      "text/html": [
       "<style>#sk-container-id-6 {color: black;background-color: white;}#sk-container-id-6 pre{padding: 0;}#sk-container-id-6 div.sk-toggleable {background-color: white;}#sk-container-id-6 label.sk-toggleable__label {cursor: pointer;display: block;width: 100%;margin-bottom: 0;padding: 0.3em;box-sizing: border-box;text-align: center;}#sk-container-id-6 label.sk-toggleable__label-arrow:before {content: \"▸\";float: left;margin-right: 0.25em;color: #696969;}#sk-container-id-6 label.sk-toggleable__label-arrow:hover:before {color: black;}#sk-container-id-6 div.sk-estimator:hover label.sk-toggleable__label-arrow:before {color: black;}#sk-container-id-6 div.sk-toggleable__content {max-height: 0;max-width: 0;overflow: hidden;text-align: left;background-color: #f0f8ff;}#sk-container-id-6 div.sk-toggleable__content pre {margin: 0.2em;color: black;border-radius: 0.25em;background-color: #f0f8ff;}#sk-container-id-6 input.sk-toggleable__control:checked~div.sk-toggleable__content {max-height: 200px;max-width: 100%;overflow: auto;}#sk-container-id-6 input.sk-toggleable__control:checked~label.sk-toggleable__label-arrow:before {content: \"▾\";}#sk-container-id-6 div.sk-estimator input.sk-toggleable__control:checked~label.sk-toggleable__label {background-color: #d4ebff;}#sk-container-id-6 div.sk-label input.sk-toggleable__control:checked~label.sk-toggleable__label {background-color: #d4ebff;}#sk-container-id-6 input.sk-hidden--visually {border: 0;clip: rect(1px 1px 1px 1px);clip: rect(1px, 1px, 1px, 1px);height: 1px;margin: -1px;overflow: hidden;padding: 0;position: absolute;width: 1px;}#sk-container-id-6 div.sk-estimator {font-family: monospace;background-color: #f0f8ff;border: 1px dotted black;border-radius: 0.25em;box-sizing: border-box;margin-bottom: 0.5em;}#sk-container-id-6 div.sk-estimator:hover {background-color: #d4ebff;}#sk-container-id-6 div.sk-parallel-item::after {content: \"\";width: 100%;border-bottom: 1px solid gray;flex-grow: 1;}#sk-container-id-6 div.sk-label:hover label.sk-toggleable__label {background-color: #d4ebff;}#sk-container-id-6 div.sk-serial::before {content: \"\";position: absolute;border-left: 1px solid gray;box-sizing: border-box;top: 0;bottom: 0;left: 50%;z-index: 0;}#sk-container-id-6 div.sk-serial {display: flex;flex-direction: column;align-items: center;background-color: white;padding-right: 0.2em;padding-left: 0.2em;position: relative;}#sk-container-id-6 div.sk-item {position: relative;z-index: 1;}#sk-container-id-6 div.sk-parallel {display: flex;align-items: stretch;justify-content: center;background-color: white;position: relative;}#sk-container-id-6 div.sk-item::before, #sk-container-id-6 div.sk-parallel-item::before {content: \"\";position: absolute;border-left: 1px solid gray;box-sizing: border-box;top: 0;bottom: 0;left: 50%;z-index: -1;}#sk-container-id-6 div.sk-parallel-item {display: flex;flex-direction: column;z-index: 1;position: relative;background-color: white;}#sk-container-id-6 div.sk-parallel-item:first-child::after {align-self: flex-end;width: 50%;}#sk-container-id-6 div.sk-parallel-item:last-child::after {align-self: flex-start;width: 50%;}#sk-container-id-6 div.sk-parallel-item:only-child::after {width: 0;}#sk-container-id-6 div.sk-dashed-wrapped {border: 1px dashed gray;margin: 0 0.4em 0.5em 0.4em;box-sizing: border-box;padding-bottom: 0.4em;background-color: white;}#sk-container-id-6 div.sk-label label {font-family: monospace;font-weight: bold;display: inline-block;line-height: 1.2em;}#sk-container-id-6 div.sk-label-container {text-align: center;}#sk-container-id-6 div.sk-container {/* jupyter's `normalize.less` sets `[hidden] { display: none; }` but bootstrap.min.css set `[hidden] { display: none !important; }` so we also need the `!important` here to be able to override the default hidden behavior on the sphinx rendered scikit-learn.org. See: https://github.com/scikit-learn/scikit-learn/issues/21755 */display: inline-block !important;position: relative;}#sk-container-id-6 div.sk-text-repr-fallback {display: none;}</style><div id=\"sk-container-id-6\" class=\"sk-top-container\"><div class=\"sk-text-repr-fallback\"><pre>LinearRegression()</pre><b>In a Jupyter environment, please rerun this cell to show the HTML representation or trust the notebook. <br />On GitHub, the HTML representation is unable to render, please try loading this page with nbviewer.org.</b></div><div class=\"sk-container\" hidden><div class=\"sk-item\"><div class=\"sk-estimator sk-toggleable\"><input class=\"sk-toggleable__control sk-hidden--visually\" id=\"sk-estimator-id-10\" type=\"checkbox\" checked><label for=\"sk-estimator-id-10\" class=\"sk-toggleable__label sk-toggleable__label-arrow\">LinearRegression</label><div class=\"sk-toggleable__content\"><pre>LinearRegression()</pre></div></div></div></div></div>"
      ],
      "text/plain": [
       "LinearRegression()"
      ]
     },
     "execution_count": 357,
     "metadata": {},
     "output_type": "execute_result"
    }
   ],
   "source": [
    "model = LinearRegression()\n",
    "\n",
    "model.fit(X_train_tr, y_train) # learning"
   ]
  },
  {
   "cell_type": "code",
   "execution_count": 361,
   "id": "d81538bb-411a-4687-9f9d-c64e83f073ee",
   "metadata": {},
   "outputs": [
    {
     "name": "stderr",
     "output_type": "stream",
     "text": [
      "/opt/anaconda3/lib/python3.11/site-packages/sklearn/base.py:439: UserWarning: X does not have valid feature names, but LinearRegression was fitted with feature names\n",
      "  warnings.warn(\n"
     ]
    }
   ],
   "source": [
    "y_pred = model.predict( pipeline.transform(X_test)  )"
   ]
  },
  {
   "cell_type": "code",
   "execution_count": 363,
   "id": "ddedc86d-af19-499d-9d01-39c435c7d472",
   "metadata": {},
   "outputs": [
    {
     "data": {
      "text/plain": [
       "array([246112., 131328., 155744., ...,  75904., 172704., 305568.])"
      ]
     },
     "execution_count": 363,
     "metadata": {},
     "output_type": "execute_result"
    }
   ],
   "source": [
    "y_pred"
   ]
  },
  {
   "cell_type": "code",
   "execution_count": 367,
   "id": "e9569e0d-2089-4705-a5dc-c36b6d3d7a15",
   "metadata": {},
   "outputs": [
    {
     "data": {
      "text/plain": [
       "array([151600.,  99200., 134500., ...,  65900., 217100., 359000.])"
      ]
     },
     "execution_count": 367,
     "metadata": {},
     "output_type": "execute_result"
    }
   ],
   "source": [
    "y_test.to_numpy()"
   ]
  },
  {
   "cell_type": "markdown",
   "id": "ece2519b-1929-4bf3-9fa0-f9f5c34030f2",
   "metadata": {},
   "source": [
    "### Error metric\n",
    "\n",
    "$$\\text {Mean Squared Error MSE} = \\frac {\\sum {(\\hat y_i - y_i)}^2} {N} $$"
   ]
  },
  {
   "cell_type": "code",
   "execution_count": 375,
   "id": "74d38ddb-3f0b-4584-873a-29731bf45ba1",
   "metadata": {},
   "outputs": [
    {
     "name": "stdout",
     "output_type": "stream",
     "text": [
      "MSE:  4727647533.133479\n",
      "RMSE:  68757.8906972391\n"
     ]
    }
   ],
   "source": [
    "from sklearn.metrics import mean_squared_error\n",
    "\n",
    "mse = mean_squared_error(y_pred, y_test)\n",
    "print(\"MSE: \", mse)\n",
    "print(\"RMSE: \", np.sqrt(mse))"
   ]
  },
  {
   "cell_type": "code",
   "execution_count": 377,
   "id": "65290e3a-9ee1-4223-b763-ae1dcc503c33",
   "metadata": {},
   "outputs": [
    {
     "data": {
      "text/plain": [
       "206404.1664244186"
      ]
     },
     "execution_count": 377,
     "metadata": {},
     "output_type": "execute_result"
    }
   ],
   "source": [
    "y_test.mean()"
   ]
  },
  {
   "cell_type": "code",
   "execution_count": 379,
   "id": "42395f98-4efe-4510-bfd3-63e89ff07b4c",
   "metadata": {},
   "outputs": [
    {
     "data": {
      "text/plain": [
       "33.31185442142594"
      ]
     },
     "execution_count": 379,
     "metadata": {},
     "output_type": "execute_result"
    }
   ],
   "source": [
    "(68757/206404)*100"
   ]
  },
  {
   "cell_type": "code",
   "execution_count": 369,
   "id": "0551ec67-073d-4ed6-b5db-8be630236c2c",
   "metadata": {},
   "outputs": [
    {
     "data": {
      "text/plain": [
       "19121    -94512.0\n",
       "20019    -32128.0\n",
       "15104    -21244.0\n",
       "3720      89652.0\n",
       "8938     181524.0\n",
       "           ...   \n",
       "313      -92008.0\n",
       "4596      40852.0\n",
       "16287    -10004.0\n",
       "5771      44396.0\n",
       "18254     53432.0\n",
       "Name: median_house_value, Length: 4128, dtype: float64"
      ]
     },
     "execution_count": 369,
     "metadata": {},
     "output_type": "execute_result"
    }
   ],
   "source": [
    "(y_test - y_pred)"
   ]
  },
  {
   "cell_type": "code",
   "execution_count": 413,
   "id": "21e6a45e-ef4a-442f-8af0-c8c63941ac82",
   "metadata": {},
   "outputs": [
    {
     "name": "stdout",
     "output_type": "stream",
     "text": [
      "Data already exists so skipping download and extraction!\n"
     ]
    }
   ],
   "source": []
  },
  {
   "cell_type": "code",
   "execution_count": 415,
   "id": "143e4d0b-bcb9-4d1f-b34f-14044e0fc880",
   "metadata": {},
   "outputs": [
    {
     "data": {
      "text/plain": [
       "Index(['longitude', 'latitude', 'housing_median_age', 'total_rooms',\n",
       "       'total_bedrooms', 'population', 'households', 'median_income',\n",
       "       'median_house_value', 'ocean_proximity'],\n",
       "      dtype='object')"
      ]
     },
     "execution_count": 415,
     "metadata": {},
     "output_type": "execute_result"
    }
   ],
   "source": [
    "housing.columns"
   ]
  },
  {
   "cell_type": "code",
   "execution_count": null,
   "id": "e2604c02-41db-44e7-84fb-cc9a011f855e",
   "metadata": {},
   "outputs": [],
   "source": []
  },
  {
   "cell_type": "code",
   "execution_count": null,
   "id": "3d6c3475-1e91-4c3b-86c9-8f760c6817f4",
   "metadata": {},
   "outputs": [],
   "source": []
  },
  {
   "cell_type": "code",
   "execution_count": null,
   "id": "b2a635c2-95c2-47c5-8283-cb95039089aa",
   "metadata": {},
   "outputs": [],
   "source": []
  },
  {
   "cell_type": "markdown",
   "id": "d79a78f8-db07-4b9d-84f3-e42661b9c167",
   "metadata": {},
   "source": [
    "---"
   ]
  },
  {
   "cell_type": "code",
   "execution_count": 16,
   "id": "f5dfcc64-b8de-4a3f-a1aa-7525a0ead9c8",
   "metadata": {},
   "outputs": [
    {
     "name": "stdout",
     "output_type": "stream",
     "text": [
      "Data already exists so skipping download and extraction!\n"
     ]
    }
   ],
   "source": [
    "from sklearn.compose import ColumnTransformer, make_column_transformer, make_column_selector\n",
    "from sklearn.pipeline import make_pipeline, Pipeline\n",
    "from sklearn.preprocessing import OneHotEncoder, StandardScaler\n",
    "from sklearn.impute import SimpleImputer\n",
    "from sklearn.preprocessing import FunctionTransformer\n",
    "from sklearn.model_selection import train_test_split\n",
    "import pandas as pd\n",
    "import numpy as np\n",
    "import matplotlib.pyplot as plt\n",
    "from pathlib import Path\n",
    "from sklearn.linear_model import LinearRegression\n",
    "\n",
    "\n",
    "\n",
    "\n",
    "# download and extract housing data in datasets folder\n",
    "def get_housing_data():\n",
    "    dir_path = Path('datasets/')\n",
    "    file_path = Path('datasets/housing.tgz')\n",
    "    url = \"https://github.com/sachinyadav3496/handson-ml2/raw/master/datasets/housing/housing.tgz\"\n",
    "    if not dir_path.exists():\n",
    "        # if folder doesn't exists create one\n",
    "        os.mkdir(dir_path)\n",
    "    if not file_path.exists():\n",
    "        request.urlretrieve(url, file_path)\n",
    "        with tarfile.open(file_path) as file:\n",
    "            file.extractall(dir_path)\n",
    "        print(\"Dowload and Extraction is complete!\")\n",
    "    else:\n",
    "        print(\"Data already exists so skipping download and extraction!\")\n",
    "    \n",
    "    df = pd.read_csv(Path(\"datasets/housing.csv\"))\n",
    "    #df['ocean_proximity'] = df['ocean_proximity'].astype('category')\n",
    "    return df\n",
    "    \n",
    "housing = get_housing_data()\n",
    "X_train, X_test, y_train, y_test = train_test_split(housing.drop('median_house_value', axis=1), housing[\"median_house_value\"],\n",
    "                                                   test_size=0.2, random_state=42)"
   ]
  },
  {
   "cell_type": "code",
   "execution_count": 18,
   "id": "65d18ef9-79e0-4c35-9891-8bdd66b3d545",
   "metadata": {},
   "outputs": [],
   "source": [
    "def get_rooms_per_household(X, y=None):\n",
    "    return (X[:, 0]/X[:, 1]).reshape(-1, 1)"
   ]
  },
  {
   "cell_type": "code",
   "execution_count": 61,
   "id": "7a69143d-ffc9-4f86-a5be-854b3e39101b",
   "metadata": {},
   "outputs": [],
   "source": [
    "cat_pipeline = make_pipeline(\n",
    "    SimpleImputer(strategy=\"most_frequent\"),\n",
    "    OneHotEncoder(handle_unknown=\"ignore\")\n",
    ")\n",
    "\n",
    "num_pipeline = make_pipeline(\n",
    "    SimpleImputer(strategy=\"median\"),\n",
    "    StandardScaler()\n",
    ")\n",
    "\n",
    "\n",
    "new_feature_pipeline = make_pipeline(\n",
    "    SimpleImputer(strategy=\"median\"),    \n",
    "    FunctionTransformer(get_rooms_per_household),\n",
    "    StandardScaler() )\n",
    "        \n",
    "\n",
    "pipeline = make_column_transformer(\n",
    "    (num_pipeline, make_column_selector(dtype_include=np.number)),\n",
    "    (cat_pipeline, make_column_selector(dtype_include=object)),\n",
    "    (new_feature_pipeline, ['total_rooms', 'households'])\n",
    ")"
   ]
  },
  {
   "cell_type": "code",
   "execution_count": 63,
   "id": "e5ea6259-160f-4dd8-9b38-3db8672cd18f",
   "metadata": {},
   "outputs": [],
   "source": [
    "X_train_tr = pipeline.fit_transform(X_train)\n",
    "X_test_tr = pipeline.transform(X_test)"
   ]
  },
  {
   "cell_type": "code",
   "execution_count": 65,
   "id": "4bb104d1-b399-444a-972b-52d00eb825f0",
   "metadata": {},
   "outputs": [
    {
     "data": {
      "text/html": [
       "<style>#sk-container-id-6 {color: black;background-color: white;}#sk-container-id-6 pre{padding: 0;}#sk-container-id-6 div.sk-toggleable {background-color: white;}#sk-container-id-6 label.sk-toggleable__label {cursor: pointer;display: block;width: 100%;margin-bottom: 0;padding: 0.3em;box-sizing: border-box;text-align: center;}#sk-container-id-6 label.sk-toggleable__label-arrow:before {content: \"▸\";float: left;margin-right: 0.25em;color: #696969;}#sk-container-id-6 label.sk-toggleable__label-arrow:hover:before {color: black;}#sk-container-id-6 div.sk-estimator:hover label.sk-toggleable__label-arrow:before {color: black;}#sk-container-id-6 div.sk-toggleable__content {max-height: 0;max-width: 0;overflow: hidden;text-align: left;background-color: #f0f8ff;}#sk-container-id-6 div.sk-toggleable__content pre {margin: 0.2em;color: black;border-radius: 0.25em;background-color: #f0f8ff;}#sk-container-id-6 input.sk-toggleable__control:checked~div.sk-toggleable__content {max-height: 200px;max-width: 100%;overflow: auto;}#sk-container-id-6 input.sk-toggleable__control:checked~label.sk-toggleable__label-arrow:before {content: \"▾\";}#sk-container-id-6 div.sk-estimator input.sk-toggleable__control:checked~label.sk-toggleable__label {background-color: #d4ebff;}#sk-container-id-6 div.sk-label input.sk-toggleable__control:checked~label.sk-toggleable__label {background-color: #d4ebff;}#sk-container-id-6 input.sk-hidden--visually {border: 0;clip: rect(1px 1px 1px 1px);clip: rect(1px, 1px, 1px, 1px);height: 1px;margin: -1px;overflow: hidden;padding: 0;position: absolute;width: 1px;}#sk-container-id-6 div.sk-estimator {font-family: monospace;background-color: #f0f8ff;border: 1px dotted black;border-radius: 0.25em;box-sizing: border-box;margin-bottom: 0.5em;}#sk-container-id-6 div.sk-estimator:hover {background-color: #d4ebff;}#sk-container-id-6 div.sk-parallel-item::after {content: \"\";width: 100%;border-bottom: 1px solid gray;flex-grow: 1;}#sk-container-id-6 div.sk-label:hover label.sk-toggleable__label {background-color: #d4ebff;}#sk-container-id-6 div.sk-serial::before {content: \"\";position: absolute;border-left: 1px solid gray;box-sizing: border-box;top: 0;bottom: 0;left: 50%;z-index: 0;}#sk-container-id-6 div.sk-serial {display: flex;flex-direction: column;align-items: center;background-color: white;padding-right: 0.2em;padding-left: 0.2em;position: relative;}#sk-container-id-6 div.sk-item {position: relative;z-index: 1;}#sk-container-id-6 div.sk-parallel {display: flex;align-items: stretch;justify-content: center;background-color: white;position: relative;}#sk-container-id-6 div.sk-item::before, #sk-container-id-6 div.sk-parallel-item::before {content: \"\";position: absolute;border-left: 1px solid gray;box-sizing: border-box;top: 0;bottom: 0;left: 50%;z-index: -1;}#sk-container-id-6 div.sk-parallel-item {display: flex;flex-direction: column;z-index: 1;position: relative;background-color: white;}#sk-container-id-6 div.sk-parallel-item:first-child::after {align-self: flex-end;width: 50%;}#sk-container-id-6 div.sk-parallel-item:last-child::after {align-self: flex-start;width: 50%;}#sk-container-id-6 div.sk-parallel-item:only-child::after {width: 0;}#sk-container-id-6 div.sk-dashed-wrapped {border: 1px dashed gray;margin: 0 0.4em 0.5em 0.4em;box-sizing: border-box;padding-bottom: 0.4em;background-color: white;}#sk-container-id-6 div.sk-label label {font-family: monospace;font-weight: bold;display: inline-block;line-height: 1.2em;}#sk-container-id-6 div.sk-label-container {text-align: center;}#sk-container-id-6 div.sk-container {/* jupyter's `normalize.less` sets `[hidden] { display: none; }` but bootstrap.min.css set `[hidden] { display: none !important; }` so we also need the `!important` here to be able to override the default hidden behavior on the sphinx rendered scikit-learn.org. See: https://github.com/scikit-learn/scikit-learn/issues/21755 */display: inline-block !important;position: relative;}#sk-container-id-6 div.sk-text-repr-fallback {display: none;}</style><div id=\"sk-container-id-6\" class=\"sk-top-container\"><div class=\"sk-text-repr-fallback\"><pre>LinearRegression()</pre><b>In a Jupyter environment, please rerun this cell to show the HTML representation or trust the notebook. <br />On GitHub, the HTML representation is unable to render, please try loading this page with nbviewer.org.</b></div><div class=\"sk-container\" hidden><div class=\"sk-item\"><div class=\"sk-estimator sk-toggleable\"><input class=\"sk-toggleable__control sk-hidden--visually\" id=\"sk-estimator-id-6\" type=\"checkbox\" checked><label for=\"sk-estimator-id-6\" class=\"sk-toggleable__label sk-toggleable__label-arrow\">LinearRegression</label><div class=\"sk-toggleable__content\"><pre>LinearRegression()</pre></div></div></div></div></div>"
      ],
      "text/plain": [
       "LinearRegression()"
      ]
     },
     "execution_count": 65,
     "metadata": {},
     "output_type": "execute_result"
    }
   ],
   "source": [
    "model = LinearRegression()\n",
    "model.fit(X_train_tr, y_train)"
   ]
  },
  {
   "cell_type": "code",
   "execution_count": 67,
   "id": "6808a273-1fc1-4ab4-8d26-8fad7d29dea4",
   "metadata": {},
   "outputs": [],
   "source": [
    "y_hat = model.predict(X_test_tr)"
   ]
  },
  {
   "cell_type": "code",
   "execution_count": 69,
   "id": "aef381c1-e770-435a-b308-0584eec0905f",
   "metadata": {},
   "outputs": [
    {
     "name": "stdout",
     "output_type": "stream",
     "text": [
      "RMSE:  69827.85\n",
      "33.98 % error approx\n"
     ]
    }
   ],
   "source": [
    "from sklearn.metrics import mean_squared_error\n",
    "mse = mean_squared_error(y_test, y_hat)\n",
    "rmse = np.sqrt(mse)\n",
    "print(\"RMSE: \", rmse.round(2))\n",
    "print((rmse/y_test.mean()*100).round(2), \"% error approx\")"
   ]
  },
  {
   "cell_type": "code",
   "execution_count": null,
   "id": "f763c8e7-9435-4a2d-961b-5e7ba2569306",
   "metadata": {},
   "outputs": [],
   "source": []
  },
  {
   "cell_type": "code",
   "execution_count": null,
   "id": "7bf7ccfd-ca82-4c93-b0f0-72b46e07090f",
   "metadata": {},
   "outputs": [],
   "source": []
  }
 ],
 "metadata": {
  "kernelspec": {
   "display_name": "Python 3 (ipykernel)",
   "language": "python",
   "name": "python3"
  },
  "language_info": {
   "codemirror_mode": {
    "name": "ipython",
    "version": 3
   },
   "file_extension": ".py",
   "mimetype": "text/x-python",
   "name": "python",
   "nbconvert_exporter": "python",
   "pygments_lexer": "ipython3",
   "version": "3.11.7"
  }
 },
 "nbformat": 4,
 "nbformat_minor": 5
}
